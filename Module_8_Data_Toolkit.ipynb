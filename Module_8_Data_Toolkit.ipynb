{
  "nbformat": 4,
  "nbformat_minor": 0,
  "metadata": {
    "colab": {
      "provenance": []
    },
    "kernelspec": {
      "name": "python3",
      "display_name": "Python 3"
    },
    "language_info": {
      "name": "python"
    }
  },
  "cells": [
    {
      "cell_type": "markdown",
      "source": [
        "#Theory Questions"
      ],
      "metadata": {
        "id": "KgKbGMbFefMl"
      }
    },
    {
      "cell_type": "markdown",
      "source": [
        "Q1. What is NumPy, and why is it widely used in Python ?\n",
        "\n",
        "Ans. NumPy (Numerical Python) is a powerful open-source Python library used extensively for numerical and scientific computing due to its ability to handle large, multi-dimensional arrays and matrices efficiently. At its core is the `ndarray` object, which supports fast element-wise operations and broadcasting, enabling vectorized computations that are significantly faster than traditional Python loops. NumPy is implemented in C, which allows for high performance and memory efficiency, making it ideal for handling large datasets. It also provides a wide range of optimized mathematical functions for linear algebra, statistical analysis, Fourier transforms, and more. Due to its speed, simplicity, and versatility, NumPy serves as the foundational building block for many other data science and machine learning libraries in Python, such as Pandas, SciPy, scikit-learn, and TensorFlow, making it an essential tool in the Python ecosystem for numerical analysis and data manipulation."
      ],
      "metadata": {
        "id": "AEBxgimcefDz"
      }
    },
    {
      "cell_type": "markdown",
      "source": [
        "Q2. How does broadcasting work in NumPy ?\n",
        "\n",
        "Ans. In NumPy, broadcasting is a technique that allows arrays of different shapes to be used together in arithmetic operations by automatically expanding the smaller array across the larger one without physically copying data, which makes computations more efficient. It works by comparing the shapes of the arrays element-wise from right to left: two dimensions are compatible if they are equal or if one of them is 1. If the shapes are compatible according to these rules, NumPy virtually stretches the smaller array along the mismatched dimensions to match the shape of the larger array. For example, adding a 1D array of shape (3,) to a 2D array of shape (2,1) results in both being broadcast to shape (2,3) to perform the addition element-wise. This feature is especially useful for vectorized operations, enabling concise, readable, and high-performance code without the need for manual looping or reshaping."
      ],
      "metadata": {
        "id": "I3wRAv11ee2c"
      }
    },
    {
      "cell_type": "markdown",
      "source": [
        "Q3. What is a Pandas DataFrame ?\n",
        "\n",
        "Ans. A Pandas DataFrame is a two-dimensional, size-mutable, and heterogeneous tabular data structure in Python, similar to a spreadsheet or SQL table, where data is organized in rows and columns with labeled axes. Each column in a DataFrame can contain data of different types (e.g., integers, strings, floats), and both rows and columns have labels (known as index and column names, respectively), which makes data selection, filtering, and manipulation intuitive and powerful. Built on top of the NumPy library, the DataFrame provides a wide range of functionalities such as data alignment, missing data handling, group operations, reshaping, and time-series support. It is particularly popular in data analysis and manipulation tasks due to its flexibility, performance, and ease of use when working with structured data from sources like CSV files, Excel spreadsheets, databases, or web APIs."
      ],
      "metadata": {
        "id": "Ep3SBrzyeers"
      }
    },
    {
      "cell_type": "markdown",
      "source": [
        "Q4.Explain the use of the groupby() method in Pandas.\n",
        "\n",
        "Ans. The `groupby()` method in Pandas is used to **split data into groups based on one or more keys (usually column values)** and then **apply aggregate functions** to each group independently. This method follows a split-apply-combine strategy: it first **splits** the DataFrame into groups based on the specified key(s), **applies** a function like `sum()`, `mean()`, `count()`, `max()`, or a custom function to each group, and finally **combines** the results into a new DataFrame or Series. It is especially useful for analyzing and summarizing data, such as calculating average sales per region, total revenue by product, or count of entries per category. For example, `df.groupby('Department')['Salary'].mean()` would return the average salary for each department. The `groupby()` method is a powerful tool for data aggregation, transformation, and filtering in exploratory data analysis and reporting tasks."
      ],
      "metadata": {
        "id": "oM9e3q70eeZK"
      }
    },
    {
      "cell_type": "markdown",
      "source": [
        "Q5. Why is Seaborn preferred for statistical visualizations ?\n",
        "\n",
        "Ans. Seaborn is preferred for statistical visualizations in Python because it provides a high-level, easy-to-use interface for creating attractive and informative graphics that are specifically designed for exploring and understanding statistical relationships in data. Built on top of Matplotlib and tightly integrated with Pandas, Seaborn simplifies complex visualizations like heatmaps, violin plots, box plots, and pair plots with minimal code, automatically handling aspects such as color palettes, axis labels, and legends. It also supports built-in functions for visualizing distributions, categorical comparisons, and linear regression models, making it ideal for analyzing trends and patterns. Seaborn's design philosophy emphasizes aesthetics and clarity, producing cleaner and more professional-looking plots by default, which enhances data storytelling and interpretation during exploratory data analysis."
      ],
      "metadata": {
        "id": "SODm57Lxgsxd"
      }
    },
    {
      "cell_type": "markdown",
      "source": [
        "Q6. What are the differences between NumPy arrays and Python lists ?\n",
        "\n",
        "Ans. NumPy arrays and Python lists are both used to store collections of data, but they differ significantly in structure, performance, and capabilities. A key difference is that NumPy arrays are homogeneous, meaning all elements must be of the same data type, whereas Python lists are heterogeneous and can hold items of varying types. NumPy arrays are much more efficient for numerical computations because they are implemented in C and optimized for performance, supporting fast, vectorized operations like element-wise addition and multiplication without explicit loops. They also consume less memory due to fixed-size, compact data storage. In contrast, Python lists store each element as a separate Python object, which increases memory usage and slows down numerical operations. Additionally, NumPy arrays support advanced mathematical functions and multi-dimensional arrays, making them ideal for scientific computing, data analysis, and machine learning tasks. Python lists, on the other hand, are more flexible and better suited for general-purpose programming where performance is less critical and data types may vary."
      ],
      "metadata": {
        "id": "7mD_u8tNgtBx"
      }
    },
    {
      "cell_type": "markdown",
      "source": [
        "Q7. What is a heatmap, and when should it be used ?\n",
        "\n",
        "Ans. A **heatmap** is a graphical representation of data where individual values contained in a matrix or table are depicted using color gradients, allowing for immediate visual insight into the magnitude and distribution of the data. Each cell’s color intensity reflects the value it holds, with commonly used color scales (such as blue to red or light to dark) indicating lower to higher values. Heatmaps are especially useful when analyzing complex datasets to quickly identify patterns, trends, correlations, or outliers—such as in a correlation matrix, website traffic by time of day, or gene expression levels. They are ideal for situations where the dataset has a two-dimensional structure and where understanding the overall structure or relationships is more important than exact numeric values. While heatmaps offer an intuitive way to interpret large volumes of data at a glance, they are less suitable for small datasets or when precise numerical interpretation is required."
      ],
      "metadata": {
        "id": "W5VxzxXHgtLR"
      }
    },
    {
      "cell_type": "markdown",
      "source": [
        "Q8. What does the term “vectorized operation” mean in NumPy ?\n",
        "\n",
        "Ans. In **NumPy**, the term **“vectorized operation”** refers to performing operations on entire arrays (or large chunks of data) **without using explicit loops**, by applying functions or arithmetic directly to arrays. These operations are internally implemented in optimized C code, allowing them to execute much faster than traditional Python loops.\n",
        "\n",
        "For example, if you have two NumPy arrays `a` and `b`, doing `a + b` adds them **element-wise** in a single step using a vectorized operation, instead of looping through each element. Similarly, operations like `a * 2`, `np.sin(a)`, or `a.mean()` are all vectorized — they apply the computation to every element efficiently under the hood.\n",
        "\n",
        "Vectorization makes code more concise, readable, and significantly faster, especially for large datasets, by leveraging **low-level optimizations** and avoiding the overhead of Python’s interpreted loops.\n"
      ],
      "metadata": {
        "id": "e6ksrVo5gtTn"
      }
    },
    {
      "cell_type": "markdown",
      "source": [
        "Q9. How does Matplotlib differ from Plotly ?\n",
        "\n",
        "Ans. **Matplotlib** and **Plotly** are both powerful Python libraries for data visualization, but they differ significantly in their features, interactivity, and typical use cases.\n",
        "\n",
        "**Matplotlib** is a widely-used, **static plotting** library that offers fine-grained control over every aspect of a plot, making it ideal for publication-quality figures and highly customizable visualizations. It is best suited for traditional 2D plots (like line, bar, and scatter plots), and while it can support interactive features with add-ons like `%matplotlib notebook` or `mpl_toolkits`, its interactivity is relatively limited and basic.\n",
        "\n",
        "**Plotly**, on the other hand, is a **modern interactive plotting** library designed for creating dynamic, web-based visualizations. It excels in **interactivity**, allowing users to zoom, hover, pan, and export plots with ease right in the browser or a Jupyter notebook. Plotly also supports both 2D and 3D plots, dashboards, and complex chart types like choropleths and sunburst charts with minimal code.\n",
        "\n",
        "In summary, **Matplotlib** is best for static, highly customizable visualizations often used in academic or printed settings, while **Plotly** is better for interactive, web-friendly plots useful in data exploration, presentations, and dashboards.\n"
      ],
      "metadata": {
        "id": "nvkr7_n8gtbz"
      }
    },
    {
      "cell_type": "markdown",
      "source": [
        "Q10. What is the significance of hierarchical indexing in Pandas ?\n",
        "\n",
        "Ans. **Hierarchical indexing** (also known as **multi-level indexing**) in **Pandas** allows you to have multiple levels (or tiers) of row and/or column labels in a DataFrame or Series. This adds a powerful dimension to data organization and manipulation, especially when working with high-dimensional or grouped data.\n",
        "\n",
        "The significance of hierarchical indexing lies in its ability to:\n",
        "\n",
        "* **Represent complex data relationships** in a tidy format (e.g., sales data grouped by region and year).\n",
        "* **Enable multi-level grouping, aggregation, and filtering**, making operations like `.groupby()`, `.unstack()`, and `.pivot_table()` more efficient and expressive.\n",
        "* **Facilitate advanced slicing and subsetting** using tuples or index level names, allowing for cleaner and more flexible code.\n",
        "* **Support reshaping data** (e.g., stacking/unstacking rows and columns) while preserving logical relationships between data dimensions.\n",
        "\n",
        "Overall, hierarchical indexing makes it easier to work with nested or structured data without flattening it, improving both readability and performance in complex data analysis workflows."
      ],
      "metadata": {
        "id": "hWNnqX4Vgtkx"
      }
    },
    {
      "cell_type": "markdown",
      "source": [
        "Q11. What is the role of Seaborn’s pairplot() function ?\n",
        "\n",
        "Ans. The role of pairplot() is to give a quick and comprehensive visual overview of the relationships, trends, and potential correlations among multiple numerical features, especially useful when analyzing high-dimensional datasets."
      ],
      "metadata": {
        "id": "WZhHRw5SgttH"
      }
    },
    {
      "cell_type": "markdown",
      "source": [
        "Q12. What is the purpose of the describe() function in Pandas ?\n",
        "\n",
        "Ans. The `describe()` function in Pandas provides a quick statistical summary of a DataFrame or Series, including metrics like count, mean, standard deviation, min, max, and quartiles for numerical data. It helps in understanding the central tendency, spread, and distribution of the data. When used with non-numeric data, it can also show the number of unique values, the most frequent value, and its frequency, making it useful for initial data exploration and quality checks.\n"
      ],
      "metadata": {
        "id": "M625l2drgt2j"
      }
    },
    {
      "cell_type": "markdown",
      "source": [
        "Q13. Why is handling missing data important in Pandas ?\n",
        "\n",
        "Ans. Handling missing data in Pandas is important because missing values can lead to inaccurate analysis, errors in calculations, and misleading results. Many data processing and machine learning algorithms require complete datasets, so properly identifying, managing, or imputing missing data ensures the integrity and reliability of your analysis. Ignoring or mishandling missing data can distort statistical summaries, bias models, and reduce the overall quality of insights derived from the data.\n"
      ],
      "metadata": {
        "id": "qTmnw8dQgt__"
      }
    },
    {
      "cell_type": "markdown",
      "source": [
        "Q14. What are the benefits of using Plotly for data visualization ?\n",
        "\n",
        "Ans. Plotly offers several key benefits for data visualization:\n",
        "\n",
        "* **Interactive plots:** Enables zooming, panning, hovering, and toggling data for a richer user experience.\n",
        "* **Wide variety of chart types:** Supports 2D, 3D, geographic maps, statistical charts, and complex dashboards.\n",
        "* **Web-friendly and shareable:** Visualizations can be easily embedded in websites, Jupyter notebooks, or shared online.\n",
        "* **Easy to use:** Simple syntax lets you create sophisticated and polished visuals quickly.\n",
        "* **Customizable:** Offers extensive styling options to tailor plots to specific needs or branding.\n",
        "* **Real-time updates:** Suitable for live data visualization in dashboards and applications.\n",
        "* **Cross-language support:** Works not only with Python but also with R, MATLAB, and JavaScript.\n"
      ],
      "metadata": {
        "id": "Ql_ppaRbguJK"
      }
    },
    {
      "cell_type": "markdown",
      "source": [
        "Q15. How does NumPy handle multidimensional arrays ?\n",
        "\n",
        "Ans. NumPy handles multidimensional arrays using its **`ndarray`** object, which can represent arrays with any number of dimensions (axes). Each dimension is called an axis, and the array’s shape is a tuple that specifies the size along each axis (e.g., `(3, 4, 5)` for a 3D array). NumPy provides efficient storage of these arrays in contiguous memory blocks and supports a wide range of operations like indexing, slicing, reshaping, broadcasting, and mathematical computations across all dimensions. This makes it easy to manipulate and perform fast, vectorized computations on complex, high-dimensional data structures."
      ],
      "metadata": {
        "id": "4FTkH9jtguQs"
      }
    },
    {
      "cell_type": "markdown",
      "source": [
        "Q16. What is the role of Bokeh in data visualization ?\n",
        "\n",
        "Ans. Bokeh is a Python library designed for creating **interactive, web-ready data visualizations** that can be easily embedded in web applications or dashboards. Its role is to provide users with tools to build rich, **dynamic plots**—including line charts, scatter plots, heatmaps, and more—that support features like zooming, panning, hovering, and real-time streaming of data. Bokeh is particularly useful for **exploratory data analysis and creating custom interactive visualizations** without requiring deep knowledge of JavaScript, making it a bridge between Python data science workflows and modern web-based visualization.\n"
      ],
      "metadata": {
        "id": "mP9VFQKKguYD"
      }
    },
    {
      "cell_type": "markdown",
      "source": [
        "Q17.Explain the difference between apply() and map() in Pandas.\n",
        "\n",
        "Ans. In Pandas, both apply() and map() are used to apply functions to data, but they differ mainly in their scope and flexibility:\n",
        "\n",
        "map() is primarily used with Series to map values from a function, dictionary, or Series to each element, usually for simple element-wise transformations or value replacements. It works only on single columns and is limited to mapping or substituting values.\n",
        "\n",
        "apply() is more flexible and can be used on both Series and DataFrames. It applies a function along an axis (rows or columns) of a DataFrame or element-wise on a Series, allowing more complex operations like aggregations, row-wise computations, or applying custom functions that use multiple columns."
      ],
      "metadata": {
        "id": "UXxVVoU5jB3B"
      }
    },
    {
      "cell_type": "markdown",
      "source": [
        "Q18. What are some advanced features of NumPy ?\n",
        "\n",
        "Ans. some advanced features of NumPy that go beyond basic array operations:\n",
        "\n",
        "* Broadcasting: Automatically expands smaller arrays during arithmetic operations to match the shape of larger arrays without copying data, enabling efficient element-wise computations.\n",
        "\n",
        "* Fancy indexing: Allows selection of elements using integer arrays or boolean masks for powerful and flexible data retrieval.\n",
        "\n",
        "* Structured arrays and record arrays: Support heterogeneous data types within a single array, similar to a table with named columns.\n",
        "\n",
        "* Universal Functions (ufuncs): Fast, element-wise functions that operate on arrays and support operations like reduction, accumulation, and outer products.\n",
        "\n",
        "* Memory mapping: Allows working with large datasets stored on disk as if they were in memory, facilitating efficient handling of big data.\n",
        "\n",
        "* Linear algebra and Fourier transforms: Built-in modules for advanced mathematical operations such as matrix decompositions, eigenvalues, and FFTs.\n",
        "\n",
        "* Random sampling: Provides a comprehensive suite of random number generation and sampling methods for simulations and probabilistic modeling.\n",
        "\n",
        "* Integration with C/C++ and Fortran: Tools like numpy.ctypeslib and f2py enable extending functionality with compiled code for performance."
      ],
      "metadata": {
        "id": "LGFL09kzjCBU"
      }
    },
    {
      "cell_type": "markdown",
      "source": [
        "Q19. How does Pandas simplify time series analysis ?\n",
        "\n",
        "Ans. Pandas simplifies time series analysis by providing powerful, easy-to-use tools tailored specifically for date and time data. It offers specialized data types like DatetimeIndex, PeriodIndex, and Timedelta that allow efficient handling and indexing of time-stamped data. Pandas supports resampling (changing frequency of data), time shifting, rolling/window calculations, and time zone conversions, which are common tasks in time series analysis. Its ability to handle irregular time intervals, perform date arithmetic, and easily slice data by date ranges makes it straightforward to analyze trends, seasonality, and anomalies. Overall, Pandas integrates time series functionality seamlessly with its rich data manipulation capabilities, making complex time-based analyses more accessible and concise."
      ],
      "metadata": {
        "id": "83-H90W8jCM-"
      }
    },
    {
      "cell_type": "markdown",
      "source": [
        "Q20. What is the role of a pivot table in Pandas ?\n",
        "\n",
        "Ans. A **pivot table** in Pandas is used to **summarize, aggregate, and reorganize** data in a DataFrame by reshaping it based on one or more categorical variables. It allows you to compute aggregate statistics (like sums, means, counts) for different groups of data, displaying the results in a clear, tabular format with rows and columns representing unique values from specified categories. Pivot tables help in quickly exploring relationships between variables, comparing groups, and extracting meaningful insights from large datasets by condensing complex data into an easy-to-read summary.\n"
      ],
      "metadata": {
        "id": "mN6B8-K0jCWs"
      }
    },
    {
      "cell_type": "markdown",
      "source": [
        "Q21. Why is NumPy’s array slicing faster than Python’s list slicing ?\n",
        "\n",
        "Ans. NumPy’s array slicing is faster than Python’s list slicing because NumPy arrays store data in **contiguous blocks of memory** with a fixed data type, allowing slicing to create **views** on the original data without copying it. This means slicing simply adjusts pointers and metadata, making it a very lightweight operation. In contrast, Python lists are collections of pointers to separate Python objects scattered in memory, so slicing a list involves creating a **new list and copying references** to these objects, which is slower and uses more memory. Additionally, NumPy’s operations are implemented in optimized C code, further boosting slicing speed compared to Python’s interpreted list handling."
      ],
      "metadata": {
        "id": "kf1e3pVajCiT"
      }
    },
    {
      "cell_type": "markdown",
      "source": [
        "Q22. What are some common use cases for Seaborn ?\n",
        "\n",
        "Ans. Some common use cases for **Seaborn**, a Python data visualization library built on top of Matplotlib:\n",
        "\n",
        "* **Exploratory Data Analysis (EDA):** Quickly visualize distributions, relationships, and patterns in data using functions like `pairplot()`, `heatmap()`, and `boxplot()`.\n",
        "* **Statistical Visualization:** Plot statistical relationships with confidence intervals using `regplot()`, `lmplot()`, and `catplot()`.\n",
        "* **Categorical Data Analysis:** Compare categories using plots like `barplot()`, `violinplot()`, and `stripplot()`.\n",
        "* **Correlation Analysis:** Use `heatmap()` to visualize correlation matrices and identify relationships between variables.\n",
        "* **Multi-plot Grids:** Create complex layouts for subplots with `FacetGrid`, `PairGrid`, or `catplot()` to analyze how relationships vary across subsets of data.\n",
        "* **Thematic Styling:** Enhance plots with built-in themes and color palettes for consistent, publication-quality visuals.\n",
        "\n",
        "Seaborn is especially useful for making complex plots easy to produce with minimal code, making it a favorite tool for data scientists and analysts.\n"
      ],
      "metadata": {
        "id": "TdSkfWWvjCsR"
      }
    },
    {
      "cell_type": "markdown",
      "source": [
        "#Practical Questions"
      ],
      "metadata": {
        "id": "uM7VjpqkkMbQ"
      }
    },
    {
      "cell_type": "code",
      "source": [
        "#Q1.How do you create a 2D NumPy array and calculate the sum of each row ?\n",
        "import numpy as np\n",
        "array = np.array([[1, 2, 3],\n",
        "                  [4, 5, 6],\n",
        "                  [7, 8, 9]])\n",
        "row_sums = np.sum(array, axis=1)\n",
        "print(\"Row sums:\",row_sums)"
      ],
      "metadata": {
        "id": "ZkjMWIYjkF3F",
        "colab": {
          "base_uri": "https://localhost:8080/"
        },
        "outputId": "3c2bb25f-c263-46e2-aec9-c60f48472a81"
      },
      "execution_count": null,
      "outputs": [
        {
          "output_type": "stream",
          "name": "stdout",
          "text": [
            "Row sums: [ 6 15 24]\n"
          ]
        }
      ]
    },
    {
      "cell_type": "code",
      "source": [
        "#Q2. Write a Pandas script to find the mean of a specific column in a DataFrame ?\n",
        "import pandas as pd\n",
        "\n",
        "data = {\n",
        "    'Name' : ['Ayush', 'Yuvraj', 'shubham'],\n",
        "    'Age'  : [23,12,13]\n",
        "}\n",
        "\n",
        "df = pd.DataFrame(data)\n",
        "\n",
        "#finding the mean of age\n",
        "\n",
        "mean_age = df['Age'].mean()\n",
        "\n",
        "print(f'Mean of age is : {mean_age}')"
      ],
      "metadata": {
        "id": "oMjPeKghkVQj",
        "colab": {
          "base_uri": "https://localhost:8080/"
        },
        "outputId": "7d2feea3-2c47-4c5e-8567-7713d2dd636e"
      },
      "execution_count": null,
      "outputs": [
        {
          "output_type": "stream",
          "name": "stdout",
          "text": [
            "Mean of age is : 16.0\n"
          ]
        }
      ]
    },
    {
      "cell_type": "code",
      "source": [
        "#Q3. Create a scatter plot using Matplotlib.\n",
        "import matplotlib.pyplot as plt\n",
        "\n",
        "# Sample data\n",
        "x = [1, 2, 3, 4, 5]\n",
        "y = [2, 4, 1, 3, 7]\n",
        "\n",
        "# Create a scatter plot\n",
        "plt.scatter(x, y, color='blue', marker='o', label='Data points')\n",
        "\n",
        "# Add labels and title\n",
        "plt.xlabel('X-axis')\n",
        "plt.ylabel('Y-axis')\n",
        "plt.title('Simple Scatter Plot')\n",
        "plt.legend()\n",
        "\n",
        "# Show the plot\n",
        "plt.show()"
      ],
      "metadata": {
        "id": "N1XAOhMrkVgR",
        "colab": {
          "base_uri": "https://localhost:8080/",
          "height": 472
        },
        "outputId": "85527f96-e462-4735-aa8d-a66b164856d5"
      },
      "execution_count": null,
      "outputs": [
        {
          "output_type": "display_data",
          "data": {
            "text/plain": [
              "<Figure size 640x480 with 1 Axes>"
            ],
            "image/png": "[encoded data removed]"
          },
          "metadata": {}
        }
      ]
    },
    {
      "cell_type": "code",
      "source": [
        "#Q4. How do you calculate the correlation matrix using Seaborn and visualize it with a heatmap ?\n",
        "import pandas as pd\n",
        "import seaborn as sns\n",
        "import matplotlib.pyplot as plt\n",
        "\n",
        "# Sample DataFrame\n",
        "data = {\n",
        "    'Math': [90, 85, 70, 65, 95],\n",
        "    'Physics': [88, 80, 72, 60, 98],\n",
        "    'Chemistry': [85, 78, 75, 70, 92]\n",
        "}\n",
        "\n",
        "df = pd.DataFrame(data)\n",
        "\n",
        "# Step 1: Calculate the correlation matrix\n",
        "corr_matrix = df.corr()\n",
        "\n",
        "# Step 2: Visualize it with a Seaborn heatmap\n",
        "plt.figure(figsize=(8, 6))\n",
        "sns.heatmap(corr_matrix, annot=True, cmap='coolwarm', linewidths=0.5)\n",
        "\n",
        "plt.title('Correlation Matrix Heatmap')\n",
        "plt.show()"
      ],
      "metadata": {
        "id": "DyxQZAbPkVqR",
        "colab": {
          "base_uri": "https://localhost:8080/",
          "height": 545
        },
        "outputId": "8660c5f3-ecd5-4fa8-f617-f310ac09af6c"
      },
      "execution_count": null,
      "outputs": [
        {
          "output_type": "display_data",
          "data": {
            "text/plain": [
              "<Figure size 800x600 with 2 Axes>"
            ],
            "image/png": "[encoded data removed]"
          },
          "metadata": {}
        }
      ]
    },
    {
      "cell_type": "code",
      "source": [
        "#Q5. Generate a bar plot using Plotly.\n",
        "\n",
        "import plotly.express as px\n",
        "\n",
        "# Sample data\n",
        "data = {\n",
        "    'Fruits': ['Apples', 'Oranges', 'Bananas', 'Grapes'],\n",
        "    'Quantity': [10, 15, 7, 12]\n",
        "}\n",
        "\n",
        "# Create the bar plot\n",
        "fig = px.bar(data, x='Fruits', y='Quantity', title='Fruit Quantity Bar Plot')\n",
        "\n",
        "# Show the plot\n",
        "fig.show()"
      ],
      "metadata": {
        "id": "YsRatcK8kV0o",
        "colab": {
          "base_uri": "https://localhost:8080/",
          "height": 542
        },
        "outputId": "ab2b7805-fd60-409e-92d3-49b636f56421"
      },
      "execution_count": null,
      "outputs": [
        {
          "output_type": "display_data",
          "data": {
            "text/html": [
              "<html>\n",
              "<head><meta charset=\"utf-8\" /></head>\n",
              "<body>\n",
              "    <div>            <script src=\"https://cdnjs.cloudflare.com/ajax/libs/mathjax/2.7.5/MathJax.js?config=TeX-AMS-MML_SVG\"></script><script type=\"text/javascript\">if (window.MathJax && window.MathJax.Hub && window.MathJax.Hub.Config) {window.MathJax.Hub.Config({SVG: {font: \"STIX-Web\"}});}</script>                <script type=\"text/javascript\">window.PlotlyConfig = {MathJaxConfig: 'local'};</script>\n",
              "        <script charset=\"utf-8\" src=\"https://cdn.plot.ly/plotly-2.35.2.min.js\"></script>                <div id=\"10baa899-dc44-4021-9c44-55aba4f49645\" class=\"plotly-graph-div\" style=\"height:525px; width:100%;\"></div>            <script type=\"text/javascript\">                                    window.PLOTLYENV=window.PLOTLYENV || {};                                    if (document.getElementById(\"10baa899-dc44-4021-9c44-55aba4f49645\")) {                    Plotly.newPlot(                        \"10baa899-dc44-4021-9c44-55aba4f49645\",                        [{\"alignmentgroup\":\"True\",\"hovertemplate\":\"Fruits=%{x}\\u003cbr\\u003eQuantity=%{y}\\u003cextra\\u003e\\u003c\\u002fextra\\u003e\",\"legendgroup\":\"\",\"marker\":{\"color\":\"#636efa\",\"pattern\":{\"shape\":\"\"}},\"name\":\"\",\"offsetgroup\":\"\",\"orientation\":\"v\",\"showlegend\":false,\"textposition\":\"auto\",\"x\":[\"Apples\",\"Oranges\",\"Bananas\",\"Grapes\"],\"xaxis\":\"x\",\"y\":[10,15,7,12],\"yaxis\":\"y\",\"type\":\"bar\"}],                        {\"template\":{\"data\":{\"histogram2dcontour\":[{\"type\":\"histogram2dcontour\",\"colorbar\":{\"outlinewidth\":0,\"ticks\":\"\"},\"colorscale\":[[0.0,\"#0d0887\"],[0.1111111111111111,\"#46039f\"],[0.2222222222222222,\"#7201a8\"],[0.3333333333333333,\"#9c179e\"],[0.4444444444444444,\"#bd3786\"],[0.5555555555555556,\"#d8576b\"],[0.6666666666666666,\"#ed7953\"],[0.7777777777777778,\"#fb9f3a\"],[0.8888888888888888,\"#fdca26\"],[1.0,\"#f0f921\"]]}],\"choropleth\":[{\"type\":\"choropleth\",\"colorbar\":{\"outlinewidth\":0,\"ticks\":\"\"}}],\"histogram2d\":[{\"type\":\"histogram2d\",\"colorbar\":{\"outlinewidth\":0,\"ticks\":\"\"},\"colorscale\":[[0.0,\"#0d0887\"],[0.1111111111111111,\"#46039f\"],[0.2222222222222222,\"#7201a8\"],[0.3333333333333333,\"#9c179e\"],[0.4444444444444444,\"#bd3786\"],[0.5555555555555556,\"#d8576b\"],[0.6666666666666666,\"#ed7953\"],[0.7777777777777778,\"#fb9f3a\"],[0.8888888888888888,\"#fdca26\"],[1.0,\"#f0f921\"]]}],\"heatmap\":[{\"type\":\"heatmap\",\"colorbar\":{\"outlinewidth\":0,\"ticks\":\"\"},\"colorscale\":[[0.0,\"#0d0887\"],[0.1111111111111111,\"#46039f\"],[0.2222222222222222,\"#7201a8\"],[0.3333333333333333,\"#9c179e\"],[0.4444444444444444,\"#bd3786\"],[0.5555555555555556,\"#d8576b\"],[0.6666666666666666,\"#ed7953\"],[0.7777777777777778,\"#fb9f3a\"],[0.8888888888888888,\"#fdca26\"],[1.0,\"#f0f921\"]]}],\"heatmapgl\":[{\"type\":\"heatmapgl\",\"colorbar\":{\"outlinewidth\":0,\"ticks\":\"\"},\"colorscale\":[[0.0,\"#0d0887\"],[0.1111111111111111,\"#46039f\"],[0.2222222222222222,\"#7201a8\"],[0.3333333333333333,\"#9c179e\"],[0.4444444444444444,\"#bd3786\"],[0.5555555555555556,\"#d8576b\"],[0.6666666666666666,\"#ed7953\"],[0.7777777777777778,\"#fb9f3a\"],[0.8888888888888888,\"#fdca26\"],[1.0,\"#f0f921\"]]}],\"contourcarpet\":[{\"type\":\"contourcarpet\",\"colorbar\":{\"outlinewidth\":0,\"ticks\":\"\"}}],\"contour\":[{\"type\":\"contour\",\"colorbar\":{\"outlinewidth\":0,\"ticks\":\"\"},\"colorscale\":[[0.0,\"#0d0887\"],[0.1111111111111111,\"#46039f\"],[0.2222222222222222,\"#7201a8\"],[0.3333333333333333,\"#9c179e\"],[0.4444444444444444,\"#bd3786\"],[0.5555555555555556,\"#d8576b\"],[0.6666666666666666,\"#ed7953\"],[0.7777777777777778,\"#fb9f3a\"],[0.8888888888888888,\"#fdca26\"],[1.0,\"#f0f921\"]]}],\"surface\":[{\"type\":\"surface\",\"colorbar\":{\"outlinewidth\":0,\"ticks\":\"\"},\"colorscale\":[[0.0,\"#0d0887\"],[0.1111111111111111,\"#46039f\"],[0.2222222222222222,\"#7201a8\"],[0.3333333333333333,\"#9c179e\"],[0.4444444444444444,\"#bd3786\"],[0.5555555555555556,\"#d8576b\"],[0.6666666666666666,\"#ed7953\"],[0.7777777777777778,\"#fb9f3a\"],[0.8888888888888888,\"#fdca26\"],[1.0,\"#f0f921\"]]}],\"mesh3d\":[{\"type\":\"mesh3d\",\"colorbar\":{\"outlinewidth\":0,\"ticks\":\"\"}}],\"scatter\":[{\"fillpattern\":{\"fillmode\":\"overlay\",\"size\":10,\"solidity\":0.2},\"type\":\"scatter\"}],\"parcoords\":[{\"type\":\"parcoords\",\"line\":{\"colorbar\":{\"outlinewidth\":0,\"ticks\":\"\"}}}],\"scatterpolargl\":[{\"type\":\"scatterpolargl\",\"marker\":{\"colorbar\":{\"outlinewidth\":0,\"ticks\":\"\"}}}],\"bar\":[{\"error_x\":{\"color\":\"#2a3f5f\"},\"error_y\":{\"color\":\"#2a3f5f\"},\"marker\":{\"line\":{\"color\":\"#E5ECF6\",\"width\":0.5},\"pattern\":{\"fillmode\":\"overlay\",\"size\":10,\"solidity\":0.2}},\"type\":\"bar\"}],\"scattergeo\":[{\"type\":\"scattergeo\",\"marker\":{\"colorbar\":{\"outlinewidth\":0,\"ticks\":\"\"}}}],\"scatterpolar\":[{\"type\":\"scatterpolar\",\"marker\":{\"colorbar\":{\"outlinewidth\":0,\"ticks\":\"\"}}}],\"histogram\":[{\"marker\":{\"pattern\":{\"fillmode\":\"overlay\",\"size\":10,\"solidity\":0.2}},\"type\":\"histogram\"}],\"scattergl\":[{\"type\":\"scattergl\",\"marker\":{\"colorbar\":{\"outlinewidth\":0,\"ticks\":\"\"}}}],\"scatter3d\":[{\"type\":\"scatter3d\",\"line\":{\"colorbar\":{\"outlinewidth\":0,\"ticks\":\"\"}},\"marker\":{\"colorbar\":{\"outlinewidth\":0,\"ticks\":\"\"}}}],\"scattermapbox\":[{\"type\":\"scattermapbox\",\"marker\":{\"colorbar\":{\"outlinewidth\":0,\"ticks\":\"\"}}}],\"scatterternary\":[{\"type\":\"scatterternary\",\"marker\":{\"colorbar\":{\"outlinewidth\":0,\"ticks\":\"\"}}}],\"scattercarpet\":[{\"type\":\"scattercarpet\",\"marker\":{\"colorbar\":{\"outlinewidth\":0,\"ticks\":\"\"}}}],\"carpet\":[{\"aaxis\":{\"endlinecolor\":\"#2a3f5f\",\"gridcolor\":\"white\",\"linecolor\":\"white\",\"minorgridcolor\":\"white\",\"startlinecolor\":\"#2a3f5f\"},\"baxis\":{\"endlinecolor\":\"#2a3f5f\",\"gridcolor\":\"white\",\"linecolor\":\"white\",\"minorgridcolor\":\"white\",\"startlinecolor\":\"#2a3f5f\"},\"type\":\"carpet\"}],\"table\":[{\"cells\":{\"fill\":{\"color\":\"#EBF0F8\"},\"line\":{\"color\":\"white\"}},\"header\":{\"fill\":{\"color\":\"#C8D4E3\"},\"line\":{\"color\":\"white\"}},\"type\":\"table\"}],\"barpolar\":[{\"marker\":{\"line\":{\"color\":\"#E5ECF6\",\"width\":0.5},\"pattern\":{\"fillmode\":\"overlay\",\"size\":10,\"solidity\":0.2}},\"type\":\"barpolar\"}],\"pie\":[{\"automargin\":true,\"type\":\"pie\"}]},\"layout\":{\"autotypenumbers\":\"strict\",\"colorway\":[\"#636efa\",\"#EF553B\",\"#00cc96\",\"#ab63fa\",\"#FFA15A\",\"#19d3f3\",\"#FF6692\",\"#B6E880\",\"#FF97FF\",\"#FECB52\"],\"font\":{\"color\":\"#2a3f5f\"},\"hovermode\":\"closest\",\"hoverlabel\":{\"align\":\"left\"},\"paper_bgcolor\":\"white\",\"plot_bgcolor\":\"#E5ECF6\",\"polar\":{\"bgcolor\":\"#E5ECF6\",\"angularaxis\":{\"gridcolor\":\"white\",\"linecolor\":\"white\",\"ticks\":\"\"},\"radialaxis\":{\"gridcolor\":\"white\",\"linecolor\":\"white\",\"ticks\":\"\"}},\"ternary\":{\"bgcolor\":\"#E5ECF6\",\"aaxis\":{\"gridcolor\":\"white\",\"linecolor\":\"white\",\"ticks\":\"\"},\"baxis\":{\"gridcolor\":\"white\",\"linecolor\":\"white\",\"ticks\":\"\"},\"caxis\":{\"gridcolor\":\"white\",\"linecolor\":\"white\",\"ticks\":\"\"}},\"coloraxis\":{\"colorbar\":{\"outlinewidth\":0,\"ticks\":\"\"}},\"colorscale\":{\"sequential\":[[0.0,\"#0d0887\"],[0.1111111111111111,\"#46039f\"],[0.2222222222222222,\"#7201a8\"],[0.3333333333333333,\"#9c179e\"],[0.4444444444444444,\"#bd3786\"],[0.5555555555555556,\"#d8576b\"],[0.6666666666666666,\"#ed7953\"],[0.7777777777777778,\"#fb9f3a\"],[0.8888888888888888,\"#fdca26\"],[1.0,\"#f0f921\"]],\"sequentialminus\":[[0.0,\"#0d0887\"],[0.1111111111111111,\"#46039f\"],[0.2222222222222222,\"#7201a8\"],[0.3333333333333333,\"#9c179e\"],[0.4444444444444444,\"#bd3786\"],[0.5555555555555556,\"#d8576b\"],[0.6666666666666666,\"#ed7953\"],[0.7777777777777778,\"#fb9f3a\"],[0.8888888888888888,\"#fdca26\"],[1.0,\"#f0f921\"]],\"diverging\":[[0,\"#8e0152\"],[0.1,\"#c51b7d\"],[0.2,\"#de77ae\"],[0.3,\"#f1b6da\"],[0.4,\"#fde0ef\"],[0.5,\"#f7f7f7\"],[0.6,\"#e6f5d0\"],[0.7,\"#b8e186\"],[0.8,\"#7fbc41\"],[0.9,\"#4d9221\"],[1,\"#276419\"]]},\"xaxis\":{\"gridcolor\":\"white\",\"linecolor\":\"white\",\"ticks\":\"\",\"title\":{\"standoff\":15},\"zerolinecolor\":\"white\",\"automargin\":true,\"zerolinewidth\":2},\"yaxis\":{\"gridcolor\":\"white\",\"linecolor\":\"white\",\"ticks\":\"\",\"title\":{\"standoff\":15},\"zerolinecolor\":\"white\",\"automargin\":true,\"zerolinewidth\":2},\"scene\":{\"xaxis\":{\"backgroundcolor\":\"#E5ECF6\",\"gridcolor\":\"white\",\"linecolor\":\"white\",\"showbackground\":true,\"ticks\":\"\",\"zerolinecolor\":\"white\",\"gridwidth\":2},\"yaxis\":{\"backgroundcolor\":\"#E5ECF6\",\"gridcolor\":\"white\",\"linecolor\":\"white\",\"showbackground\":true,\"ticks\":\"\",\"zerolinecolor\":\"white\",\"gridwidth\":2},\"zaxis\":{\"backgroundcolor\":\"#E5ECF6\",\"gridcolor\":\"white\",\"linecolor\":\"white\",\"showbackground\":true,\"ticks\":\"\",\"zerolinecolor\":\"white\",\"gridwidth\":2}},\"shapedefaults\":{\"line\":{\"color\":\"#2a3f5f\"}},\"annotationdefaults\":{\"arrowcolor\":\"#2a3f5f\",\"arrowhead\":0,\"arrowwidth\":1},\"geo\":{\"bgcolor\":\"white\",\"landcolor\":\"#E5ECF6\",\"subunitcolor\":\"white\",\"showland\":true,\"showlakes\":true,\"lakecolor\":\"white\"},\"title\":{\"x\":0.05},\"mapbox\":{\"style\":\"light\"}}},\"xaxis\":{\"anchor\":\"y\",\"domain\":[0.0,1.0],\"title\":{\"text\":\"Fruits\"}},\"yaxis\":{\"anchor\":\"x\",\"domain\":[0.0,1.0],\"title\":{\"text\":\"Quantity\"}},\"legend\":{\"tracegroupgap\":0},\"title\":{\"text\":\"Fruit Quantity Bar Plot\"},\"barmode\":\"relative\"},                        {\"responsive\": true}                    ).then(function(){\n",
              "                            \n",
              "var gd = document.getElementById('10baa899-dc44-4021-9c44-55aba4f49645');\n",
              "var x = new MutationObserver(function (mutations, observer) {{\n",
              "        var display = window.getComputedStyle(gd).display;\n",
              "        if (!display || display === 'none') {{\n",
              "            console.log([gd, 'removed!']);\n",
              "            Plotly.purge(gd);\n",
              "            observer.disconnect();\n",
              "        }}\n",
              "}});\n",
              "\n",
              "// Listen for the removal of the full notebook cells\n",
              "var notebookContainer = gd.closest('#notebook-container');\n",
              "if (notebookContainer) {{\n",
              "    x.observe(notebookContainer, {childList: true});\n",
              "}}\n",
              "\n",
              "// Listen for the clearing of the current output cell\n",
              "var outputEl = gd.closest('.output');\n",
              "if (outputEl) {{\n",
              "    x.observe(outputEl, {childList: true});\n",
              "}}\n",
              "\n",
              "                        })                };                            </script>        </div>\n",
              "</body>\n",
              "</html>"
            ]
          },
          "metadata": {}
        }
      ]
    },
    {
      "cell_type": "code",
      "source": [
        "#Q6. Create a DataFrame and add a new column based on an existing column.\n",
        "\n",
        "import pandas as pd\n",
        "\n",
        "# Step 1: Create the DataFrame\n",
        "data = {\n",
        "    'Name': ['Alice', 'Bob', 'Charlie', 'David'],\n",
        "    'Score': [85, 92, 78, 90]\n",
        "}\n",
        "\n",
        "df = pd.DataFrame(data)\n",
        "\n",
        "# Step 2: Add a new column based on 'Score'\n",
        "# For example, assign grades based on score\n",
        "df['Grade'] = df['Score'].apply(\n",
        "    lambda x: 'A' if x >= 90 else ('B' if x >= 80 else 'C')\n",
        ")\n",
        "\n",
        "# Display the DataFrame\n",
        "print(df)"
      ],
      "metadata": {
        "id": "Dbv1PnpHkV_w",
        "colab": {
          "base_uri": "https://localhost:8080/"
        },
        "outputId": "33d652a2-10a3-4736-9481-e9a69e7fb10f"
      },
      "execution_count": null,
      "outputs": [
        {
          "output_type": "stream",
          "name": "stdout",
          "text": [
            "      Name  Score Grade\n",
            "0    Alice     85     B\n",
            "1      Bob     92     A\n",
            "2  Charlie     78     C\n",
            "3    David     90     A\n"
          ]
        }
      ]
    },
    {
      "cell_type": "code",
      "source": [
        "#Q7. Write a program to perform element-wise multiplication of two NumPy arrays.\n",
        "\n",
        "# Defining two NumPy arrays\n",
        "array1 = np.array([1, 2, 3, 4])\n",
        "array2 = np.array([10, 20, 30, 40])\n",
        "\n",
        "print(f'Array 1 : {array1}')\n",
        "print(f'Array 2 : {array2}')\n",
        "# Perform element-wise multiplication\n",
        "result = array1 * array2\n",
        "\n",
        "# Display the result\n",
        "print(\"Result of element-wise multiplication:\", result)"
      ],
      "metadata": {
        "id": "JQbn1kVnkWGQ",
        "colab": {
          "base_uri": "https://localhost:8080/"
        },
        "outputId": "f14800e9-609e-40b0-bb5a-379537939ba2"
      },
      "execution_count": null,
      "outputs": [
        {
          "output_type": "stream",
          "name": "stdout",
          "text": [
            "Array 1 : [1 2 3 4]\n",
            "Array 2 : [10 20 30 40]\n",
            "Result of element-wise multiplication: [ 10  40  90 160]\n"
          ]
        }
      ]
    },
    {
      "cell_type": "code",
      "source": [
        "#Q8. Create a line plot with multiple lines using Matplotlib.\n",
        "\n",
        "#import matplotlib.pyplot as plt\n",
        "\n",
        "# Sample data\n",
        "x = [1, 2, 3, 4, 5]\n",
        "y1 = [2, 3, 5, 7, 11]      # Line 1\n",
        "y2 = [1, 4, 6, 8, 10]      # Line 2\n",
        "\n",
        "# Create the plot\n",
        "plt.plot(x, y1, label='Line 1', color='blue', marker='o')\n",
        "plt.plot(x, y2, label='Line 2', color='green', marker='s')\n",
        "\n",
        "# Add title and labels\n",
        "plt.title('Line Plot with Multiple Lines')\n",
        "plt.xlabel('X-axis')\n",
        "plt.ylabel('Y-axis')\n",
        "\n",
        "# Add a legend\n",
        "plt.legend()\n",
        "\n",
        "# Show the plot\n",
        "plt.show()"
      ],
      "metadata": {
        "id": "tkxmgDM1kWM4",
        "colab": {
          "base_uri": "https://localhost:8080/",
          "height": 472
        },
        "outputId": "248acc46-2373-44e1-db32-83bea0caa1cb"
      },
      "execution_count": null,
      "outputs": [
        {
          "output_type": "display_data",
          "data": {
            "text/plain": [
              "<Figure size 640x480 with 1 Axes>"
            ],
            "image/png": "[encoded data removed]"
          },
          "metadata": {}
        }
      ]
    },
    {
      "cell_type": "code",
      "source": [
        "#Q9. Generate a Pandas DataFrame and filter rows where a column value is greater than a threshold.\n",
        "#we have already imported pandas in previous question, so it is not necessary\n",
        "#import pandas as pd\n",
        "\n",
        "# Step 1: Create a DataFrame\n",
        "data = {\n",
        "    'Name': ['Alice', 'Bob', 'Charlie', 'David'],\n",
        "    'Score': [85, 92, 78, 90]\n",
        "}\n",
        "\n",
        "df = pd.DataFrame(data)\n",
        "\n",
        "# Step 2: Filter rows where 'Score' is greater than 80\n",
        "filtered_df = df[df['Score'] > 80]\n",
        "\n",
        "# Display the result\n",
        "print(filtered_df)\n"
      ],
      "metadata": {
        "id": "1humhk2jkWUO",
        "colab": {
          "base_uri": "https://localhost:8080/"
        },
        "outputId": "3c4d5528-ab5f-403f-f2e4-dc186a9c7bb4"
      },
      "execution_count": null,
      "outputs": [
        {
          "output_type": "stream",
          "name": "stdout",
          "text": [
            "    Name  Score\n",
            "0  Alice     85\n",
            "1    Bob     92\n",
            "3  David     90\n"
          ]
        }
      ]
    },
    {
      "cell_type": "code",
      "source": [
        "#Q10. Create a histogram using Seaborn to visualize a distribution.\n",
        "\n",
        "#import seaborn as sns\n",
        "#import matplotlib.pyplot as plt\n",
        "\n",
        "# Sample data (e.g., exam scores)\n",
        "scores = [65, 70, 72, 75, 78, 80, 82, 85, 85, 88, 90, 92, 95, 97, 100]\n",
        "\n",
        "# Create histogram\n",
        "sns.histplot(scores, bins=8, kde=True, color='skyblue')\n",
        "\n",
        "# Add labels and title\n",
        "plt.title('Distribution of Scores')\n",
        "plt.xlabel('Score')\n",
        "plt.ylabel('Frequency')\n",
        "\n",
        "# Show the plot\n",
        "plt.show()"
      ],
      "metadata": {
        "id": "xZlEaCmxkWcG",
        "colab": {
          "base_uri": "https://localhost:8080/",
          "height": 472
        },
        "outputId": "442057d2-6d5e-470e-fdc2-fa60e242bf52"
      },
      "execution_count": null,
      "outputs": [
        {
          "output_type": "display_data",
          "data": {
            "text/plain": [
              "<Figure size 640x480 with 1 Axes>"
            ],
            "image/png": "[encoded data removed]"
          },
          "metadata": {}
        }
      ]
    },
    {
      "cell_type": "code",
      "source": [
        "#Q11. Perform matrix multiplication using NumPy.\n",
        "\n",
        "#import numpy as np\n",
        "\n",
        "# Define two matrices (2D arrays)\n",
        "A = np.array([[1, 2],\n",
        "              [3, 4]])\n",
        "\n",
        "B = np.array([[5, 6],\n",
        "              [7, 8]])\n",
        "print(f'Array1:\\n{A}')\n",
        "print(f'Array2:\\n{B}')\n",
        "result = np.dot(A, B)\n",
        "\n",
        "# Display the result\n",
        "print(\"Matrix multiplication result:\\n\", result)"
      ],
      "metadata": {
        "id": "JZi4odTQkWkX",
        "colab": {
          "base_uri": "https://localhost:8080/"
        },
        "outputId": "2f51bc3a-5631-4f25-9698-f90572f7f63e"
      },
      "execution_count": null,
      "outputs": [
        {
          "output_type": "stream",
          "name": "stdout",
          "text": [
            "Array1:\n",
            "[[1 2]\n",
            " [3 4]]\n",
            "Array2:\n",
            "[[5 6]\n",
            " [7 8]]\n",
            "Matrix multiplication result:\n",
            " [[19 22]\n",
            " [43 50]]\n"
          ]
        }
      ]
    },
    {
      "cell_type": "code",
      "source": [
        "#Q12. Use Pandas to load a CSV file and display its first 5 rows.\n",
        "import pandas as pd\n",
        "\n",
        "df = pd.read_csv('players.csv')\n",
        "\n",
        "# Display the first 5 rows\n",
        "print(df.head(5))"
      ],
      "metadata": {
        "id": "YN9hsBuVlknM",
        "colab": {
          "base_uri": "https://localhost:8080/"
        },
        "outputId": "24621be2-8056-4741-e296-b79bf36ba69f"
      },
      "execution_count": null,
      "outputs": [
        {
          "output_type": "stream",
          "name": "stdout",
          "text": [
            "  Rk         Player Pos Age   Tm   G  GS    MP   FG  FGA  ...   FT%  ORB  DRB  \\\n",
            "0  1     Quincy Acy  PF  24  NYK  68  22  1287  152  331  ...  .784   79  222   \n",
            "1  2   Jordan Adams  SG  20  MEM  30   0   248   35   86  ...  .609    9   19   \n",
            "2  3   Steven Adams   C  21  OKC  70  67  1771  217  399  ...  .502  199  324   \n",
            "3  4    Jeff Adrien  PF  28  MIN  17   0   215   19   44  ...  .579   23   54   \n",
            "4  5  Arron Afflalo  SG  29  TOT  78  72  2502  375  884  ...  .843   27  220   \n",
            "\n",
            "   TRB  AST STL BLK  TOV   PF   PTS  \n",
            "0  301   68  27  22   60  147   398  \n",
            "1   28   16  16   7   14   24    94  \n",
            "2  523   66  38  86   99  222   537  \n",
            "3   77   15   4   9    9   30    60  \n",
            "4  247  129  41   7  116  167  1035  \n",
            "\n",
            "[5 rows x 30 columns]\n"
          ]
        }
      ]
    },
    {
      "cell_type": "code",
      "source": [
        "#Q13. Create a 3D scatter plot using Plotly.\n",
        "\n",
        "import plotly.express as px\n",
        "import pandas as pd\n",
        "\n",
        "# Sample 3D data\n",
        "data = {\n",
        "    'X': [1, 2, 3, 4, 5],\n",
        "    'Y': [10, 20, 25, 30, 40],\n",
        "    'Z': [5, 15, 10, 25, 35],\n",
        "    'Label': ['A', 'B', 'C', 'D', 'E']\n",
        "}\n",
        "\n",
        "df = pd.DataFrame(data)\n",
        "\n",
        "# Create 3D scatter plot\n",
        "fig = px.scatter_3d(df, x='X', y='Y', z='Z', color='Label', title='3D Scatter Plot')\n",
        "\n",
        "# Show the plot\n",
        "fig.show()"
      ],
      "metadata": {
        "id": "SfHbLfLQlkX2",
        "colab": {
          "base_uri": "https://localhost:8080/",
          "height": 542
        },
        "outputId": "f82bda50-67ae-4704-c989-786cddfdfbe2"
      },
      "execution_count": 31,
      "outputs": [
        {
          "output_type": "display_data",
          "data": {
            "text/html": [
              "<html>\n",
              "<head><meta charset=\"utf-8\" /></head>\n",
              "<body>\n",
              "    <div>            <script src=\"https://cdnjs.cloudflare.com/ajax/libs/mathjax/2.7.5/MathJax.js?config=TeX-AMS-MML_SVG\"></script><script type=\"text/javascript\">if (window.MathJax && window.MathJax.Hub && window.MathJax.Hub.Config) {window.MathJax.Hub.Config({SVG: {font: \"STIX-Web\"}});}</script>                <script type=\"text/javascript\">window.PlotlyConfig = {MathJaxConfig: 'local'};</script>\n",
              "        <script charset=\"utf-8\" src=\"https://cdn.plot.ly/plotly-2.35.2.min.js\"></script>                <div id=\"63f7f0d6-56a0-47fd-9f24-00b30805c5f9\" class=\"plotly-graph-div\" style=\"height:525px; width:100%;\"></div>            <script type=\"text/javascript\">                                    window.PLOTLYENV=window.PLOTLYENV || {};                                    if (document.getElementById(\"63f7f0d6-56a0-47fd-9f24-00b30805c5f9\")) {                    Plotly.newPlot(                        \"63f7f0d6-56a0-47fd-9f24-00b30805c5f9\",                        [{\"hovertemplate\":\"Label=A\\u003cbr\\u003eX=%{x}\\u003cbr\\u003eY=%{y}\\u003cbr\\u003eZ=%{z}\\u003cextra\\u003e\\u003c\\u002fextra\\u003e\",\"legendgroup\":\"A\",\"marker\":{\"color\":\"#636efa\",\"symbol\":\"circle\"},\"mode\":\"markers\",\"name\":\"A\",\"scene\":\"scene\",\"showlegend\":true,\"x\":[1],\"y\":[10],\"z\":[5],\"type\":\"scatter3d\"},{\"hovertemplate\":\"Label=B\\u003cbr\\u003eX=%{x}\\u003cbr\\u003eY=%{y}\\u003cbr\\u003eZ=%{z}\\u003cextra\\u003e\\u003c\\u002fextra\\u003e\",\"legendgroup\":\"B\",\"marker\":{\"color\":\"#EF553B\",\"symbol\":\"circle\"},\"mode\":\"markers\",\"name\":\"B\",\"scene\":\"scene\",\"showlegend\":true,\"x\":[2],\"y\":[20],\"z\":[15],\"type\":\"scatter3d\"},{\"hovertemplate\":\"Label=C\\u003cbr\\u003eX=%{x}\\u003cbr\\u003eY=%{y}\\u003cbr\\u003eZ=%{z}\\u003cextra\\u003e\\u003c\\u002fextra\\u003e\",\"legendgroup\":\"C\",\"marker\":{\"color\":\"#00cc96\",\"symbol\":\"circle\"},\"mode\":\"markers\",\"name\":\"C\",\"scene\":\"scene\",\"showlegend\":true,\"x\":[3],\"y\":[25],\"z\":[10],\"type\":\"scatter3d\"},{\"hovertemplate\":\"Label=D\\u003cbr\\u003eX=%{x}\\u003cbr\\u003eY=%{y}\\u003cbr\\u003eZ=%{z}\\u003cextra\\u003e\\u003c\\u002fextra\\u003e\",\"legendgroup\":\"D\",\"marker\":{\"color\":\"#ab63fa\",\"symbol\":\"circle\"},\"mode\":\"markers\",\"name\":\"D\",\"scene\":\"scene\",\"showlegend\":true,\"x\":[4],\"y\":[30],\"z\":[25],\"type\":\"scatter3d\"},{\"hovertemplate\":\"Label=E\\u003cbr\\u003eX=%{x}\\u003cbr\\u003eY=%{y}\\u003cbr\\u003eZ=%{z}\\u003cextra\\u003e\\u003c\\u002fextra\\u003e\",\"legendgroup\":\"E\",\"marker\":{\"color\":\"#FFA15A\",\"symbol\":\"circle\"},\"mode\":\"markers\",\"name\":\"E\",\"scene\":\"scene\",\"showlegend\":true,\"x\":[5],\"y\":[40],\"z\":[35],\"type\":\"scatter3d\"}],                        {\"template\":{\"data\":{\"histogram2dcontour\":[{\"type\":\"histogram2dcontour\",\"colorbar\":{\"outlinewidth\":0,\"ticks\":\"\"},\"colorscale\":[[0.0,\"#0d0887\"],[0.1111111111111111,\"#46039f\"],[0.2222222222222222,\"#7201a8\"],[0.3333333333333333,\"#9c179e\"],[0.4444444444444444,\"#bd3786\"],[0.5555555555555556,\"#d8576b\"],[0.6666666666666666,\"#ed7953\"],[0.7777777777777778,\"#fb9f3a\"],[0.8888888888888888,\"#fdca26\"],[1.0,\"#f0f921\"]]}],\"choropleth\":[{\"type\":\"choropleth\",\"colorbar\":{\"outlinewidth\":0,\"ticks\":\"\"}}],\"histogram2d\":[{\"type\":\"histogram2d\",\"colorbar\":{\"outlinewidth\":0,\"ticks\":\"\"},\"colorscale\":[[0.0,\"#0d0887\"],[0.1111111111111111,\"#46039f\"],[0.2222222222222222,\"#7201a8\"],[0.3333333333333333,\"#9c179e\"],[0.4444444444444444,\"#bd3786\"],[0.5555555555555556,\"#d8576b\"],[0.6666666666666666,\"#ed7953\"],[0.7777777777777778,\"#fb9f3a\"],[0.8888888888888888,\"#fdca26\"],[1.0,\"#f0f921\"]]}],\"heatmap\":[{\"type\":\"heatmap\",\"colorbar\":{\"outlinewidth\":0,\"ticks\":\"\"},\"colorscale\":[[0.0,\"#0d0887\"],[0.1111111111111111,\"#46039f\"],[0.2222222222222222,\"#7201a8\"],[0.3333333333333333,\"#9c179e\"],[0.4444444444444444,\"#bd3786\"],[0.5555555555555556,\"#d8576b\"],[0.6666666666666666,\"#ed7953\"],[0.7777777777777778,\"#fb9f3a\"],[0.8888888888888888,\"#fdca26\"],[1.0,\"#f0f921\"]]}],\"heatmapgl\":[{\"type\":\"heatmapgl\",\"colorbar\":{\"outlinewidth\":0,\"ticks\":\"\"},\"colorscale\":[[0.0,\"#0d0887\"],[0.1111111111111111,\"#46039f\"],[0.2222222222222222,\"#7201a8\"],[0.3333333333333333,\"#9c179e\"],[0.4444444444444444,\"#bd3786\"],[0.5555555555555556,\"#d8576b\"],[0.6666666666666666,\"#ed7953\"],[0.7777777777777778,\"#fb9f3a\"],[0.8888888888888888,\"#fdca26\"],[1.0,\"#f0f921\"]]}],\"contourcarpet\":[{\"type\":\"contourcarpet\",\"colorbar\":{\"outlinewidth\":0,\"ticks\":\"\"}}],\"contour\":[{\"type\":\"contour\",\"colorbar\":{\"outlinewidth\":0,\"ticks\":\"\"},\"colorscale\":[[0.0,\"#0d0887\"],[0.1111111111111111,\"#46039f\"],[0.2222222222222222,\"#7201a8\"],[0.3333333333333333,\"#9c179e\"],[0.4444444444444444,\"#bd3786\"],[0.5555555555555556,\"#d8576b\"],[0.6666666666666666,\"#ed7953\"],[0.7777777777777778,\"#fb9f3a\"],[0.8888888888888888,\"#fdca26\"],[1.0,\"#f0f921\"]]}],\"surface\":[{\"type\":\"surface\",\"colorbar\":{\"outlinewidth\":0,\"ticks\":\"\"},\"colorscale\":[[0.0,\"#0d0887\"],[0.1111111111111111,\"#46039f\"],[0.2222222222222222,\"#7201a8\"],[0.3333333333333333,\"#9c179e\"],[0.4444444444444444,\"#bd3786\"],[0.5555555555555556,\"#d8576b\"],[0.6666666666666666,\"#ed7953\"],[0.7777777777777778,\"#fb9f3a\"],[0.8888888888888888,\"#fdca26\"],[1.0,\"#f0f921\"]]}],\"mesh3d\":[{\"type\":\"mesh3d\",\"colorbar\":{\"outlinewidth\":0,\"ticks\":\"\"}}],\"scatter\":[{\"fillpattern\":{\"fillmode\":\"overlay\",\"size\":10,\"solidity\":0.2},\"type\":\"scatter\"}],\"parcoords\":[{\"type\":\"parcoords\",\"line\":{\"colorbar\":{\"outlinewidth\":0,\"ticks\":\"\"}}}],\"scatterpolargl\":[{\"type\":\"scatterpolargl\",\"marker\":{\"colorbar\":{\"outlinewidth\":0,\"ticks\":\"\"}}}],\"bar\":[{\"error_x\":{\"color\":\"#2a3f5f\"},\"error_y\":{\"color\":\"#2a3f5f\"},\"marker\":{\"line\":{\"color\":\"#E5ECF6\",\"width\":0.5},\"pattern\":{\"fillmode\":\"overlay\",\"size\":10,\"solidity\":0.2}},\"type\":\"bar\"}],\"scattergeo\":[{\"type\":\"scattergeo\",\"marker\":{\"colorbar\":{\"outlinewidth\":0,\"ticks\":\"\"}}}],\"scatterpolar\":[{\"type\":\"scatterpolar\",\"marker\":{\"colorbar\":{\"outlinewidth\":0,\"ticks\":\"\"}}}],\"histogram\":[{\"marker\":{\"pattern\":{\"fillmode\":\"overlay\",\"size\":10,\"solidity\":0.2}},\"type\":\"histogram\"}],\"scattergl\":[{\"type\":\"scattergl\",\"marker\":{\"colorbar\":{\"outlinewidth\":0,\"ticks\":\"\"}}}],\"scatter3d\":[{\"type\":\"scatter3d\",\"line\":{\"colorbar\":{\"outlinewidth\":0,\"ticks\":\"\"}},\"marker\":{\"colorbar\":{\"outlinewidth\":0,\"ticks\":\"\"}}}],\"scattermapbox\":[{\"type\":\"scattermapbox\",\"marker\":{\"colorbar\":{\"outlinewidth\":0,\"ticks\":\"\"}}}],\"scatterternary\":[{\"type\":\"scatterternary\",\"marker\":{\"colorbar\":{\"outlinewidth\":0,\"ticks\":\"\"}}}],\"scattercarpet\":[{\"type\":\"scattercarpet\",\"marker\":{\"colorbar\":{\"outlinewidth\":0,\"ticks\":\"\"}}}],\"carpet\":[{\"aaxis\":{\"endlinecolor\":\"#2a3f5f\",\"gridcolor\":\"white\",\"linecolor\":\"white\",\"minorgridcolor\":\"white\",\"startlinecolor\":\"#2a3f5f\"},\"baxis\":{\"endlinecolor\":\"#2a3f5f\",\"gridcolor\":\"white\",\"linecolor\":\"white\",\"minorgridcolor\":\"white\",\"startlinecolor\":\"#2a3f5f\"},\"type\":\"carpet\"}],\"table\":[{\"cells\":{\"fill\":{\"color\":\"#EBF0F8\"},\"line\":{\"color\":\"white\"}},\"header\":{\"fill\":{\"color\":\"#C8D4E3\"},\"line\":{\"color\":\"white\"}},\"type\":\"table\"}],\"barpolar\":[{\"marker\":{\"line\":{\"color\":\"#E5ECF6\",\"width\":0.5},\"pattern\":{\"fillmode\":\"overlay\",\"size\":10,\"solidity\":0.2}},\"type\":\"barpolar\"}],\"pie\":[{\"automargin\":true,\"type\":\"pie\"}]},\"layout\":{\"autotypenumbers\":\"strict\",\"colorway\":[\"#636efa\",\"#EF553B\",\"#00cc96\",\"#ab63fa\",\"#FFA15A\",\"#19d3f3\",\"#FF6692\",\"#B6E880\",\"#FF97FF\",\"#FECB52\"],\"font\":{\"color\":\"#2a3f5f\"},\"hovermode\":\"closest\",\"hoverlabel\":{\"align\":\"left\"},\"paper_bgcolor\":\"white\",\"plot_bgcolor\":\"#E5ECF6\",\"polar\":{\"bgcolor\":\"#E5ECF6\",\"angularaxis\":{\"gridcolor\":\"white\",\"linecolor\":\"white\",\"ticks\":\"\"},\"radialaxis\":{\"gridcolor\":\"white\",\"linecolor\":\"white\",\"ticks\":\"\"}},\"ternary\":{\"bgcolor\":\"#E5ECF6\",\"aaxis\":{\"gridcolor\":\"white\",\"linecolor\":\"white\",\"ticks\":\"\"},\"baxis\":{\"gridcolor\":\"white\",\"linecolor\":\"white\",\"ticks\":\"\"},\"caxis\":{\"gridcolor\":\"white\",\"linecolor\":\"white\",\"ticks\":\"\"}},\"coloraxis\":{\"colorbar\":{\"outlinewidth\":0,\"ticks\":\"\"}},\"colorscale\":{\"sequential\":[[0.0,\"#0d0887\"],[0.1111111111111111,\"#46039f\"],[0.2222222222222222,\"#7201a8\"],[0.3333333333333333,\"#9c179e\"],[0.4444444444444444,\"#bd3786\"],[0.5555555555555556,\"#d8576b\"],[0.6666666666666666,\"#ed7953\"],[0.7777777777777778,\"#fb9f3a\"],[0.8888888888888888,\"#fdca26\"],[1.0,\"#f0f921\"]],\"sequentialminus\":[[0.0,\"#0d0887\"],[0.1111111111111111,\"#46039f\"],[0.2222222222222222,\"#7201a8\"],[0.3333333333333333,\"#9c179e\"],[0.4444444444444444,\"#bd3786\"],[0.5555555555555556,\"#d8576b\"],[0.6666666666666666,\"#ed7953\"],[0.7777777777777778,\"#fb9f3a\"],[0.8888888888888888,\"#fdca26\"],[1.0,\"#f0f921\"]],\"diverging\":[[0,\"#8e0152\"],[0.1,\"#c51b7d\"],[0.2,\"#de77ae\"],[0.3,\"#f1b6da\"],[0.4,\"#fde0ef\"],[0.5,\"#f7f7f7\"],[0.6,\"#e6f5d0\"],[0.7,\"#b8e186\"],[0.8,\"#7fbc41\"],[0.9,\"#4d9221\"],[1,\"#276419\"]]},\"xaxis\":{\"gridcolor\":\"white\",\"linecolor\":\"white\",\"ticks\":\"\",\"title\":{\"standoff\":15},\"zerolinecolor\":\"white\",\"automargin\":true,\"zerolinewidth\":2},\"yaxis\":{\"gridcolor\":\"white\",\"linecolor\":\"white\",\"ticks\":\"\",\"title\":{\"standoff\":15},\"zerolinecolor\":\"white\",\"automargin\":true,\"zerolinewidth\":2},\"scene\":{\"xaxis\":{\"backgroundcolor\":\"#E5ECF6\",\"gridcolor\":\"white\",\"linecolor\":\"white\",\"showbackground\":true,\"ticks\":\"\",\"zerolinecolor\":\"white\",\"gridwidth\":2},\"yaxis\":{\"backgroundcolor\":\"#E5ECF6\",\"gridcolor\":\"white\",\"linecolor\":\"white\",\"showbackground\":true,\"ticks\":\"\",\"zerolinecolor\":\"white\",\"gridwidth\":2},\"zaxis\":{\"backgroundcolor\":\"#E5ECF6\",\"gridcolor\":\"white\",\"linecolor\":\"white\",\"showbackground\":true,\"ticks\":\"\",\"zerolinecolor\":\"white\",\"gridwidth\":2}},\"shapedefaults\":{\"line\":{\"color\":\"#2a3f5f\"}},\"annotationdefaults\":{\"arrowcolor\":\"#2a3f5f\",\"arrowhead\":0,\"arrowwidth\":1},\"geo\":{\"bgcolor\":\"white\",\"landcolor\":\"#E5ECF6\",\"subunitcolor\":\"white\",\"showland\":true,\"showlakes\":true,\"lakecolor\":\"white\"},\"title\":{\"x\":0.05},\"mapbox\":{\"style\":\"light\"}}},\"scene\":{\"domain\":{\"x\":[0.0,1.0],\"y\":[0.0,1.0]},\"xaxis\":{\"title\":{\"text\":\"X\"}},\"yaxis\":{\"title\":{\"text\":\"Y\"}},\"zaxis\":{\"title\":{\"text\":\"Z\"}}},\"legend\":{\"title\":{\"text\":\"Label\"},\"tracegroupgap\":0},\"title\":{\"text\":\"3D Scatter Plot\"}},                        {\"responsive\": true}                    ).then(function(){\n",
              "                            \n",
              "var gd = document.getElementById('63f7f0d6-56a0-47fd-9f24-00b30805c5f9');\n",
              "var x = new MutationObserver(function (mutations, observer) {{\n",
              "        var display = window.getComputedStyle(gd).display;\n",
              "        if (!display || display === 'none') {{\n",
              "            console.log([gd, 'removed!']);\n",
              "            Plotly.purge(gd);\n",
              "            observer.disconnect();\n",
              "        }}\n",
              "}});\n",
              "\n",
              "// Listen for the removal of the full notebook cells\n",
              "var notebookContainer = gd.closest('#notebook-container');\n",
              "if (notebookContainer) {{\n",
              "    x.observe(notebookContainer, {childList: true});\n",
              "}}\n",
              "\n",
              "// Listen for the clearing of the current output cell\n",
              "var outputEl = gd.closest('.output');\n",
              "if (outputEl) {{\n",
              "    x.observe(outputEl, {childList: true});\n",
              "}}\n",
              "\n",
              "                        })                };                            </script>        </div>\n",
              "</body>\n",
              "</html>"
            ]
          },
          "metadata": {}
        }
      ]
    }
  ]
}