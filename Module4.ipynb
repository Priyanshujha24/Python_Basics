{
  "nbformat": 4,
  "nbformat_minor": 0,
  "metadata": {
    "colab": {
      "provenance": []
    },
    "kernelspec": {
      "name": "python3",
      "display_name": "Python 3"
    },
    "language_info": {
      "name": "python"
    }
  },
  "cells": [
    {
      "cell_type": "markdown",
      "source": [
        "1. What are data structures, and why are they important?\n",
        "\n",
        "Ans. Data Structures are way of storing data in memory. It is important because it is organinsed in such a way that it is easy to access and manipulate the data. It is faster, efficient and takes lesser memory."
      ],
      "metadata": {
        "id": "a8KzSwFEMOdk"
      }
    },
    {
      "cell_type": "code",
      "execution_count": null,
      "metadata": {
        "id": "t_88dNIzL_sA",
        "colab": {
          "base_uri": "https://localhost:8080/"
        },
        "outputId": "2181e119-a289-4916-d602-40245480a845"
      },
      "outputs": [
        {
          "output_type": "stream",
          "name": "stdout",
          "text": [
            "['Banana', 'orange']\n",
            "('apple', 'orange')\n"
          ]
        }
      ],
      "source": [
        "#2. Explain the difference between mutable and immutable data types with examples?\n",
        "#Ams. Mutable data types means their element or value stored can be manipulated. Example:\n",
        "list_a = [\"Apple\",\"orange\"]\n",
        "list_a[0] = \"Banana\" #we changed the value of an index\n",
        "print(list_a) #list is mutable\n",
        "\n",
        "\n",
        "#immutable data type means we cannot change their value. Ex:\n",
        "a = (\"apple\",\"orange\")\n",
        "#a[0]=\"banana\" --> tuple is immutable\n",
        "#a.append(\"banana\") --> we can't change\n",
        "print(a)\n"
      ]
    },
    {
      "cell_type": "markdown",
      "source": [
        "3. What are the main differences between lists and tuples in Python ?\n",
        "\n",
        "Ans. List and Tuple are two different data type in python. Few of the differences are :\n",
        "\n",
        "--> Lists are mutable and tuples are not. So, lists have more built-in method.\n",
        "\n",
        "--> Lists are defined using square brackets'[]' but tuples are defined using paranthesis '()'.\n",
        "\n",
        "--> lists consumes more time to operate and more memory than lists."
      ],
      "metadata": {
        "id": "2PlWe__EMLww"
      }
    },
    {
      "cell_type": "markdown",
      "source": [
        "4. Describe how dictionaries store data ?\n",
        "\n",
        "Ans. Dictionary stores data in pairs. One is called 'key' which is a unique value andd another is called 'value' which can be changable, both are separated by colon ':'. key is used to access the value. As of Python version 3.7, dictionaries are ordered. In Python 3.6 and earlier, dictionaries are unordered.\n",
        "\n",
        "curly braces '{}' are used to define the dictionary data type.\n",
        "dict = {\n",
        "  \"name\": \"py-thon\",\n",
        "  \"age\": 4,\n",
        "  \"hobby\": \"coding\"\n",
        "}\n",
        "\n",
        "here 'name', 'age', and 'hobby' are key and \"py-thon\", 4 and \"codinh\" are values."
      ],
      "metadata": {
        "id": "Tn4fboS6Slmj"
      }
    },
    {
      "cell_type": "markdown",
      "source": [
        "5. Why might you use a set instead of a list in Python ?\n",
        "\n",
        "Ans. It depends on the need. Lists are suitable for storing items in a specific order, list is mutable, it can store duplicate data. whereas 'set' cannot have duplicate values, it is unordered, and we can't change the item of a set but we can add or items from a set."
      ],
      "metadata": {
        "id": "1MkTfo-LWklb"
      }
    },
    {
      "cell_type": "markdown",
      "source": [
        "6. What is a string in Python, and how is it different from a list ?\n",
        "\n",
        "Ans. string is a sequence of characters, immutable and enclosed in double quotes \"\".\n",
        "\n",
        "List is a mutable data type which is mutable and can stores items of different types."
      ],
      "metadata": {
        "id": "3T7DcDgYuT0-"
      }
    },
    {
      "cell_type": "markdown",
      "source": [
        "7. How do tuples ensure data integrity in Python ?\n",
        "\n",
        "Ans. 'Immutability' of tuples ensures data integrity in Python. we cannot change, add or remove any element once tuple is created. that is why it can be used as a key of a dictionary."
      ],
      "metadata": {
        "id": "ctQH9xqE2_X0"
      }
    },
    {
      "cell_type": "markdown",
      "source": [
        "8. What is a hash table, and how does it relate to dictionaries in Python ?\n",
        "\n",
        "Ans. Hash table is a data structures and dictionary is implentation of hash table in python, where index is a string. the key of a dictionary is meant to be the index. it is fast data structure with O(1) time complexity."
      ],
      "metadata": {
        "id": "tdRquyRiaih8"
      }
    },
    {
      "cell_type": "code",
      "source": [
        "#9. Can lists contain different data types in Python ?\n",
        "#Ans. Yes a list contains different data types in python\n",
        "my_list = [\"string\",23,2.03,3+7j,True]\n",
        "print(my_list)"
      ],
      "metadata": {
        "id": "fkk9BzgO1qze",
        "colab": {
          "base_uri": "https://localhost:8080/"
        },
        "outputId": "1e842a6b-dc10-456a-e39b-0921db4f874e"
      },
      "execution_count": null,
      "outputs": [
        {
          "output_type": "stream",
          "name": "stdout",
          "text": [
            "['string', 23, 2.03, (3+7j), True]\n"
          ]
        }
      ]
    },
    {
      "cell_type": "markdown",
      "source": [
        "10. Explain why strings are immutable in Python ?\n",
        "\n",
        "Ans. This characteristic offers several advantages related to performance, memory efficiency, and safety. Immutability ensures that once a string is created, its value remains constant throughout its lifetime."
      ],
      "metadata": {
        "id": "vOc3HtoKAobr"
      }
    },
    {
      "cell_type": "markdown",
      "source": [
        "11. What advantages do dictionaries offer over lists for certain tasks ?\n",
        "\n",
        "Ans. In dictionary, items are easy and fast to search. And dictionary stores unique key that is immutable but the items in the list are mutable."
      ],
      "metadata": {
        "id": "y_0LkqMd1C0G"
      }
    },
    {
      "cell_type": "markdown",
      "source": [
        "12. Describe a scenario where using a tuple would be preferable over a list ?\n",
        "\n",
        "Ans. The main difference between tuple and list is that tuple is immutable. So, whenever there is a need to not have any change in data tuple is prefered over list."
      ],
      "metadata": {
        "id": "jSTLIH-_3cP1"
      }
    },
    {
      "cell_type": "markdown",
      "source": [
        "13. How do sets handle duplicate values in Python ?\n",
        "\n",
        "Ans. Sets in Python are designed to store only unique elements. When a set is created or when elements are added to it, any duplicate values are automatically discarded. This behavior ensures that a set contains only one instance of each distinct element. If an attempt is made to add a duplicate element, the set remains unchanged, effectively ignoring the redundant value. This characteristic makes sets useful for tasks such as removing duplicates from a list or checking for the presence of unique items in a collection."
      ],
      "metadata": {
        "id": "k2QZI5l05N9u"
      }
    },
    {
      "cell_type": "markdown",
      "source": [
        "14. How does the “in” keyword work differently for lists and dictionaries ?\n",
        "\n",
        "Ans. The in operator has different performance characteristics depending on the data structure it is used with.\n",
        "\n",
        "For lists, it has a time complexity of O(n), where n is the length of the list, It checks if the value is present in the list.\n",
        "\n",
        "For dictionaries, it has an average time complexity of O(1). It checks for key only in dictoinary and it returns True if the 'key' is found and False otherwise.\n",
        "\n",
        "Eg:  \n",
        "\n",
        "    my_list = [1, 2, 3]\n",
        "    print(2 in my_list)  # Output: True\n",
        "    print(4 in my_list)  # Output: False\n",
        "\n",
        "    my_dict = {\"a\": 1, \"b\": 2}\n",
        "    print(\"a\" in my_dict)  # Output: True (checks for keys)\n",
        "    print(1 in my_dict) # Output: False (does not check for values)\n",
        "\n"
      ],
      "metadata": {
        "id": "nZ-ITjzGC6Ry"
      }
    },
    {
      "cell_type": "markdown",
      "source": [
        "15. Can you modify the elements of a tuple? Explain why or why not ?\n",
        "\n",
        "Ans. Tuple is immutable data structures. we cannot add or remove element.\n",
        "\n",
        "Directly, the elements of a tuple is immutable but using slicing we can change it.\n",
        "\n",
        "\n",
        "    t = (1,2,3,4,5)\n",
        "\n",
        "    print(t)\n",
        "\n",
        "    t = t[:2] + (9,) +t[3:]\n",
        "\n",
        "    print(t)\n"
      ],
      "metadata": {
        "id": "G7HdVl7gwPb_"
      }
    },
    {
      "cell_type": "markdown",
      "source": [
        "16. What is a nested dictionary, and give an example of its use case ?\n",
        "\n",
        "Ans. A nested dictionary in Python is a dictionary where one or more of its values are also dictionaries.\n",
        "\n",
        "Nested dictionaries in Python are useful for representing hierarchical data structures. One common use case is storing and organizing employee data within a company.\n",
        "\n",
        "\n",
        "    company = {\n",
        "        \"employees\": {\n",
        "            \"engineering\": {\n",
        "                \"John Doe\": {\"title\": \"Senior Engineer\", \"salary\": 120000},\n",
        "                \"Jane Smith\": {\"title\": \"Software Engineer\", \"salary\": 100000},\n",
        "            },\n",
        "            \"marketing\": {\n",
        "                \"Peter Jones\": {\"title\": \"Marketing Manager\", \"salary\": 90000},\n",
        "                \"Linda Brown\": {\"title\": \"Marketing Specialist\", \"salary\": 70000},\n",
        "            },\n",
        "        },\n",
        "        \"location\": \"New York\",\n",
        "    }"
      ],
      "metadata": {
        "id": "jpYFEmHXJSB_"
      }
    },
    {
      "cell_type": "markdown",
      "source": [
        "17. Describe the time complexity of accessing elements in a dictionary.\n",
        "\n",
        "Ans. The average time complexity of accessing elements in a dictionary is O(1). this is because of implementation of hash value. the key is converted into the index."
      ],
      "metadata": {
        "id": "sCZpHZQS2vxG"
      }
    },
    {
      "cell_type": "markdown",
      "source": [
        "18. In what situations are lists preferred over dictionaries ?\n",
        "\n",
        "Ans. list can have duplicate value. It is a simple way to store different data types. Whereas dictionary stores data items in kay-value pairs."
      ],
      "metadata": {
        "id": "jwBGbxoI4mHg"
      }
    },
    {
      "cell_type": "markdown",
      "source": [
        "19. Why are dictionaries considered unordered, and how does that affect data retrieval ?\n",
        "\n",
        "Ans. Dictionary is now ordered data structure as of python v3.7"
      ],
      "metadata": {
        "id": "KGsHE8LC6ULN"
      }
    },
    {
      "cell_type": "markdown",
      "source": [
        "20. Explain the difference between a list and a dictionary in terms of data retrieval.\n",
        "\n",
        "Ans. In terms of data retrieval dictionary acts very faster than list because dictionary has a unique key that is converted to index but elements in a lsit are stored and accessed based on their position (index) in the sequence, starting from 0.\n",
        "\n",
        "Dictionaries, using a hash table, can find values associated with a key in an average of O(1) (constant) time, while lists, requiring sequential searching, have an average time complexity of O(n) (linear)."
      ],
      "metadata": {
        "id": "pdU1m9E779CN"
      }
    },
    {
      "cell_type": "code",
      "source": [
        "#Practical Questions"
      ],
      "metadata": {
        "id": "1Dax1hJRAU6y"
      },
      "execution_count": null,
      "outputs": []
    },
    {
      "cell_type": "code",
      "source": [
        "#1. Write a code to create a string with your name and print it ?\n",
        "\n",
        "name = \"Priyanshu Kumar\"\n",
        "print (name)"
      ],
      "metadata": {
        "colab": {
          "base_uri": "https://localhost:8080/"
        },
        "id": "kAy79FLyAbU0",
        "outputId": "6654dfc7-cfbc-4a4a-8195-213fcc66e5eb"
      },
      "execution_count": null,
      "outputs": [
        {
          "output_type": "stream",
          "name": "stdout",
          "text": [
            "Priyanshu Kumar\n"
          ]
        }
      ]
    },
    {
      "cell_type": "code",
      "source": [
        "#2.  Write a code to find the length of the string \"Hello World\" ?\n",
        "\n",
        "string = \"Hello World\"\n",
        "print(len(string))"
      ],
      "metadata": {
        "colab": {
          "base_uri": "https://localhost:8080/"
        },
        "id": "0IaPCusXA0gj",
        "outputId": "fb897d8f-96d1-44bc-cdd8-bf337633e620"
      },
      "execution_count": null,
      "outputs": [
        {
          "output_type": "stream",
          "name": "stdout",
          "text": [
            "11\n"
          ]
        }
      ]
    },
    {
      "cell_type": "code",
      "source": [
        "#3. Write a code to slice the first 3 characters from the string \"Python Programming\".\n",
        "\n",
        "string = \"Python Programming\"\n",
        "print(string[:3])"
      ],
      "metadata": {
        "colab": {
          "base_uri": "https://localhost:8080/"
        },
        "id": "pFDeRg1fBHY7",
        "outputId": "7b11889a-ad65-4495-a09b-048c7db0f066"
      },
      "execution_count": null,
      "outputs": [
        {
          "output_type": "stream",
          "name": "stdout",
          "text": [
            "Pyt\n"
          ]
        }
      ]
    },
    {
      "cell_type": "code",
      "source": [
        "#4. Write a code to convert the string \"hello\" to uppercase.\n",
        "\n",
        "String = \"hello\"\n",
        "print(String.upper())"
      ],
      "metadata": {
        "colab": {
          "base_uri": "https://localhost:8080/"
        },
        "id": "cA86aiCrBedJ",
        "outputId": "98f78208-f4d2-4f22-e483-1d6c56de4bcf"
      },
      "execution_count": null,
      "outputs": [
        {
          "output_type": "stream",
          "name": "stdout",
          "text": [
            "HELLO\n"
          ]
        }
      ]
    },
    {
      "cell_type": "code",
      "source": [
        "#5. Write a code to replace the word \"apple\" with \"orange\" in the string \"I like apple\".\n",
        "\n",
        "string = \"I like apple\"\n",
        "string.replace(\"apple\",\"orange\") #this will return a new string\n",
        "#print(string) # the output of this line will be as same as we assigned the string variable as string is immutable"
      ],
      "metadata": {
        "colab": {
          "base_uri": "https://localhost:8080/",
          "height": 35
        },
        "id": "YjIfSIm5Buvp",
        "outputId": "8c8d3a2b-18e8-4f31-d318-eb1bb1cf835e"
      },
      "execution_count": null,
      "outputs": [
        {
          "output_type": "execute_result",
          "data": {
            "text/plain": [
              "'I like orange'"
            ],
            "application/vnd.google.colaboratory.intrinsic+json": {
              "type": "string"
            }
          },
          "metadata": {},
          "execution_count": 7
        }
      ]
    },
    {
      "cell_type": "code",
      "source": [
        "#6. Write a code to create a list with numbers 1 to 5 and print it.\n",
        "\n",
        "my_list = [1,2,3,4,5]\n",
        "print(my_list)"
      ],
      "metadata": {
        "colab": {
          "base_uri": "https://localhost:8080/"
        },
        "id": "fkZepouLJTOW",
        "outputId": "70d1b12c-17a3-4230-eb72-358111a4bcb6"
      },
      "execution_count": null,
      "outputs": [
        {
          "output_type": "stream",
          "name": "stdout",
          "text": [
            "[1, 2, 3, 4, 5]\n"
          ]
        }
      ]
    },
    {
      "cell_type": "code",
      "source": [
        "#7. Write a code to append the number 10 to the list [1, 2, 3, 4].\n",
        "\n",
        "list = [1,2,3,4]\n",
        "list.append(10)\n",
        "print(list)"
      ],
      "metadata": {
        "colab": {
          "base_uri": "https://localhost:8080/"
        },
        "id": "Zx2Wwo35Jf6W",
        "outputId": "28004811-d107-4f8e-c686-7e795f4007da"
      },
      "execution_count": null,
      "outputs": [
        {
          "output_type": "stream",
          "name": "stdout",
          "text": [
            "[1, 2, 3, 4, 10]\n"
          ]
        }
      ]
    },
    {
      "cell_type": "code",
      "source": [
        "#8. Write a code to remove the number 3 from the list [1, 2, 3, 4, 5].\n",
        "\n",
        "l = [1,2,3,4,5]\n",
        "l.remove(3)\n",
        "print(l)"
      ],
      "metadata": {
        "colab": {
          "base_uri": "https://localhost:8080/"
        },
        "id": "RUwADp-mKZnJ",
        "outputId": "b9ba3ca2-22cf-4218-8c1a-6668ac538043"
      },
      "execution_count": null,
      "outputs": [
        {
          "output_type": "stream",
          "name": "stdout",
          "text": [
            "[1, 2, 4, 5]\n"
          ]
        }
      ]
    },
    {
      "cell_type": "code",
      "source": [
        "#9.  Write a code to access the second element in the list ['a', 'b', 'c', 'd'].\n",
        "\n",
        "my_list = ['a','b','c','d']\n",
        "print(my_list[1])"
      ],
      "metadata": {
        "colab": {
          "base_uri": "https://localhost:8080/"
        },
        "id": "CFJbrGVhKcaI",
        "outputId": "4243bc14-e038-425e-e36b-92755fbfb19f"
      },
      "execution_count": null,
      "outputs": [
        {
          "output_type": "stream",
          "name": "stdout",
          "text": [
            "b\n"
          ]
        }
      ]
    },
    {
      "cell_type": "code",
      "source": [
        "#10. Write a code to reverse the list [10, 20, 30, 40, 50].\n",
        "\n",
        "#there are different ways to reverse a list for exapmle: slicing, or reverse() method or reversed() function, I'm using reverse() method here\n",
        "\n",
        "my_list = [10,20,30,40,50]\n",
        "my_list.reverse() #this method doesn't return new list with reversed order just reverse the list in place\n",
        "print(my_list)"
      ],
      "metadata": {
        "colab": {
          "base_uri": "https://localhost:8080/"
        },
        "id": "rONor_eELBBe",
        "outputId": "8ba89e72-3984-4ad1-a7e0-484ce8ed24cf"
      },
      "execution_count": null,
      "outputs": [
        {
          "output_type": "stream",
          "name": "stdout",
          "text": [
            "[50, 40, 30, 20, 10]\n"
          ]
        }
      ]
    },
    {
      "cell_type": "code",
      "source": [
        "#11. Write a code to create a tuple with the elements 100, 200, 300 and print it.\n",
        "t1 = (100,200,300)\n",
        "print(t1)"
      ],
      "metadata": {
        "colab": {
          "base_uri": "https://localhost:8080/"
        },
        "id": "Lel0QveyM9uX",
        "outputId": "57516520-9106-4625-99de-96bfdc0362f6"
      },
      "execution_count": null,
      "outputs": [
        {
          "output_type": "stream",
          "name": "stdout",
          "text": [
            "(100, 200, 300)\n"
          ]
        }
      ]
    },
    {
      "cell_type": "code",
      "source": [
        "#12. Write a code to access the second-to-last element of the tuple ('red', 'green', 'blue', 'yellow').\n",
        "\n",
        "t2 = ('red', 'green', 'blue', 'yellow')\n",
        "print(t2[1:])"
      ],
      "metadata": {
        "colab": {
          "base_uri": "https://localhost:8080/"
        },
        "id": "-FGyTp0HOK5H",
        "outputId": "655644e2-435e-4767-c9af-f167df8b7574"
      },
      "execution_count": null,
      "outputs": [
        {
          "output_type": "stream",
          "name": "stdout",
          "text": [
            "('green', 'blue', 'yellow')\n"
          ]
        }
      ]
    },
    {
      "cell_type": "code",
      "source": [
        "#13. Write a code to find the minimum number in the tuple (10, 20, 5, 15).\n",
        "\n",
        "t = (10,20,5,15)\n",
        "print(min(t))"
      ],
      "metadata": {
        "colab": {
          "base_uri": "https://localhost:8080/"
        },
        "id": "aBP-eYOXR26X",
        "outputId": "a9dd2993-1f20-4449-9566-93f811ec9097"
      },
      "execution_count": null,
      "outputs": [
        {
          "output_type": "stream",
          "name": "stdout",
          "text": [
            "5\n"
          ]
        }
      ]
    },
    {
      "cell_type": "code",
      "source": [
        "#14. Write a code to find the index of the element \"cat\" in the tuple ('dog', 'cat', 'rabbit').\n",
        "\n",
        "t = ('dog', 'cat', 'rabbit')\n",
        "t.index('cat')"
      ],
      "metadata": {
        "colab": {
          "base_uri": "https://localhost:8080/"
        },
        "id": "7ZCdIZUJVD0i",
        "outputId": "7ea986cc-ac8c-4b9c-d8c4-08822d7d7ab7"
      },
      "execution_count": null,
      "outputs": [
        {
          "output_type": "execute_result",
          "data": {
            "text/plain": [
              "1"
            ]
          },
          "metadata": {},
          "execution_count": 20
        }
      ]
    },
    {
      "cell_type": "code",
      "source": [
        "#15. Write a code to create a tuple containing three different fruits and check if \"kiwi\" is in it.\n",
        "\n",
        "t = ('banana', 'apple', 'kiwi')\n",
        "print (\"kiwi\" in t)"
      ],
      "metadata": {
        "colab": {
          "base_uri": "https://localhost:8080/"
        },
        "id": "8X2z3ZZlYMIW",
        "outputId": "41304fda-eca0-4cc2-d4fb-88a46b20684c"
      },
      "execution_count": null,
      "outputs": [
        {
          "output_type": "stream",
          "name": "stdout",
          "text": [
            "True\n"
          ]
        }
      ]
    },
    {
      "cell_type": "code",
      "source": [
        "#16. Write a code to create a set with the elements 'a', 'b', 'c' and print it.\n",
        "\n",
        "my_set = {'a','b','c'}\n",
        "print(my_set)"
      ],
      "metadata": {
        "colab": {
          "base_uri": "https://localhost:8080/"
        },
        "id": "LbFpQdzzhn7B",
        "outputId": "2d102d9d-f5cd-40b7-8c45-a590753fd81e"
      },
      "execution_count": null,
      "outputs": [
        {
          "output_type": "stream",
          "name": "stdout",
          "text": [
            "{'b', 'a', 'c'}\n"
          ]
        }
      ]
    },
    {
      "cell_type": "code",
      "source": [
        "#17. Write a code to clear all elements from the set {1, 2, 3, 4, 5}.\n",
        "\n",
        "a_set = {1,2,3,4,5}\n",
        "print(\"before clearing \",a_set)\n",
        "a_set.clear()\n",
        "print('after clearing, there is no element inside set',a_set)\n",
        "print(a_set)"
      ],
      "metadata": {
        "colab": {
          "base_uri": "https://localhost:8080/"
        },
        "id": "7nhwHO_2l9yw",
        "outputId": "377802ec-7dfb-4d32-dfd3-99b725f97813"
      },
      "execution_count": null,
      "outputs": [
        {
          "output_type": "stream",
          "name": "stdout",
          "text": [
            "before clearing  {1, 2, 3, 4, 5}\n",
            "after clearing, there is no element inside set set()\n",
            "set()\n"
          ]
        }
      ]
    },
    {
      "cell_type": "code",
      "source": [
        "#18. Write a code to remove the element 4 from the set {1, 2, 3, 4}.\n",
        "\n",
        "b_set = {1,2,3,4}\n",
        "b_set.remove(4)\n",
        "print(b_set)"
      ],
      "metadata": {
        "colab": {
          "base_uri": "https://localhost:8080/"
        },
        "id": "IfW1gjKEnGAP",
        "outputId": "deff10dc-596b-4ed3-cae7-ef2e8c1bbff3"
      },
      "execution_count": null,
      "outputs": [
        {
          "output_type": "stream",
          "name": "stdout",
          "text": [
            "{1, 2, 3}\n"
          ]
        }
      ]
    },
    {
      "cell_type": "code",
      "source": [
        "#19. Write a code to find the union of two sets {1, 2, 3} and {3, 4, 5}.\n",
        "\n",
        "set1 = {1,2,3}\n",
        "set2 = {3,4,5}\n",
        "set1 | set2"
      ],
      "metadata": {
        "colab": {
          "base_uri": "https://localhost:8080/"
        },
        "id": "Emjt7NAAoaLQ",
        "outputId": "0f2094b6-0203-4a80-e378-3264f5052cea"
      },
      "execution_count": null,
      "outputs": [
        {
          "output_type": "execute_result",
          "data": {
            "text/plain": [
              "{1, 2, 3, 4, 5}"
            ]
          },
          "metadata": {},
          "execution_count": 31
        }
      ]
    },
    {
      "cell_type": "code",
      "source": [
        "#20. Write a code to find the intersection of two sets {1, 2, 3} and {2, 3, 4}.\n",
        "\n",
        "set1 = {1,2,3}\n",
        "set2 = {2,3,4}\n",
        "set1 & set2"
      ],
      "metadata": {
        "colab": {
          "base_uri": "https://localhost:8080/"
        },
        "id": "p424pzGupwz1",
        "outputId": "2290a030-fc0e-48d8-9c1a-654360828705"
      },
      "execution_count": null,
      "outputs": [
        {
          "output_type": "execute_result",
          "data": {
            "text/plain": [
              "{2, 3}"
            ]
          },
          "metadata": {},
          "execution_count": 33
        }
      ]
    },
    {
      "cell_type": "code",
      "source": [
        "#21. Write a code to create a dictionary with the keys \"name\", \"age\", and \"city\", and print it.\n",
        "\n",
        "dic = {\"name\" : \"Priyanshu Kumar\",\"Age\" : 24, \"city\" : \"Patna\"}\n",
        "print(dic)"
      ],
      "metadata": {
        "colab": {
          "base_uri": "https://localhost:8080/"
        },
        "id": "YLmxJD8lxtfz",
        "outputId": "c7dfcf70-ee9a-4a10-927d-e3cb99bb1526"
      },
      "execution_count": null,
      "outputs": [
        {
          "output_type": "stream",
          "name": "stdout",
          "text": [
            "{'name': 'Priyanshu Kumar', 'Age': 24, 'city': 'Patna'}\n"
          ]
        }
      ]
    },
    {
      "cell_type": "code",
      "source": [
        "#22. Write a code to add a new key-value pair \"country\": \"USA\" to the dictionary {'name': 'John', 'age': 25}.\n",
        "\n",
        "dic = {\"name\" : \"John\", \"Age\" : 25}\n",
        "dic[\"country\"] = \"USA\"\n",
        "print(dic)"
      ],
      "metadata": {
        "colab": {
          "base_uri": "https://localhost:8080/"
        },
        "id": "kTrhe_BoybxC",
        "outputId": "dfbd777b-7529-47bc-af48-c7d1e1fa8c28"
      },
      "execution_count": null,
      "outputs": [
        {
          "output_type": "stream",
          "name": "stdout",
          "text": [
            "{'name': 'John', 'Age': 25, 'country': 'USA'}\n"
          ]
        }
      ]
    },
    {
      "cell_type": "code",
      "source": [
        "#23. Write a code to access the value associated with the key \"name\" in the dictionary {'name': 'Alice', 'age': 30}.\n",
        "\n",
        "dic1 = {'name': 'Alice', 'age': 30}\n",
        "dic1['name']"
      ],
      "metadata": {
        "colab": {
          "base_uri": "https://localhost:8080/",
          "height": 35
        },
        "id": "Ef99Iuid0Kyv",
        "outputId": "5769e488-7cc1-4377-e4db-306701f4e33a"
      },
      "execution_count": null,
      "outputs": [
        {
          "output_type": "execute_result",
          "data": {
            "text/plain": [
              "'Alice'"
            ],
            "application/vnd.google.colaboratory.intrinsic+json": {
              "type": "string"
            }
          },
          "metadata": {},
          "execution_count": 44
        }
      ]
    },
    {
      "cell_type": "code",
      "source": [
        "#24. Write a code to remove the key \"age\" from the dictionary {'name': 'Bob', 'age': 22, 'city': 'New York'}.\n",
        "\n",
        "dictionary = {'name': 'Bob', 'age': 22, 'city': 'New York'}\n",
        "del dictionary['age']\n",
        "print(dictionary)"
      ],
      "metadata": {
        "colab": {
          "base_uri": "https://localhost:8080/"
        },
        "id": "DLWE6rlQ2LbT",
        "outputId": "b2f7d3a5-2bab-4a48-b221-ed1bc7ac27a2"
      },
      "execution_count": null,
      "outputs": [
        {
          "output_type": "stream",
          "name": "stdout",
          "text": [
            "{'name': 'Bob', 'city': 'New York'}\n"
          ]
        }
      ]
    },
    {
      "cell_type": "code",
      "source": [
        "#25. Write a code to check if the key \"city\" exists in the dictionary {'name': 'Alice', 'city': 'Paris'}.\n",
        "\n",
        "dicti = {'name': 'Alice', 'city': 'Paris'}\n",
        "print(\"city\" in dicti)"
      ],
      "metadata": {
        "colab": {
          "base_uri": "https://localhost:8080/"
        },
        "id": "Cf0mW0T84NLy",
        "outputId": "188a1c25-d352-43a1-c9d3-dfe77a116d79"
      },
      "execution_count": null,
      "outputs": [
        {
          "output_type": "stream",
          "name": "stdout",
          "text": [
            "True\n"
          ]
        }
      ]
    },
    {
      "cell_type": "code",
      "source": [
        "#26. Write a code to create a list, a tuple, and a dictionary, and print them all.\n",
        "\n",
        "list1 = [1,2,3,4]\n",
        "tuple1 = ('a','b','c','d')\n",
        "dict1 = {\"key1\" : \"value1\", 7:\"fav no.\", \"job\":\"hahaha\"}\n",
        "print(f\"This is list - {list1}\\nThis is tuple - {tuple1}\\nThis is dictionary - {dict1}\")"
      ],
      "metadata": {
        "colab": {
          "base_uri": "https://localhost:8080/"
        },
        "id": "7PmpNVJbIKDc",
        "outputId": "4f8f2e9c-6abe-4ccc-a57f-32843f32ed25"
      },
      "execution_count": null,
      "outputs": [
        {
          "output_type": "stream",
          "name": "stdout",
          "text": [
            "This is list - [1, 2, 3, 4]\n",
            "This is tuple - ('a', 'b', 'c', 'd')\n",
            "This is dictionary - {'key1': 'value1', 7: 'fav no.', 'job': 'hahaha'}\n"
          ]
        }
      ]
    },
    {
      "cell_type": "code",
      "source": [
        "'''27.  Write a code to create a list of 5 random numbers between 1 and 100, sort it in ascending order, and print the\n",
        "result.(replaced) '''\n",
        "\n",
        "import random\n",
        "\n",
        "random_numbers = random.sample(range(1, 101), 5)\n",
        "\n",
        "\n",
        "random_numbers.sort()\n",
        "\n",
        "print(random_numbers)"
      ],
      "metadata": {
        "colab": {
          "base_uri": "https://localhost:8080/"
        },
        "id": "VLKMqkF-JqMa",
        "outputId": "73be25c6-125c-4675-c574-e89a0cf058f6"
      },
      "execution_count": null,
      "outputs": [
        {
          "output_type": "stream",
          "name": "stdout",
          "text": [
            "[42, 49, 56, 75, 93]\n"
          ]
        }
      ]
    },
    {
      "cell_type": "code",
      "source": [
        "#28. Write a code to create a list with strings and print the element at the third index.\n",
        "\n",
        "My_list = [\"how\",\"are\", \"you\", \"?\"]\n",
        "print(My_list[3])"
      ],
      "metadata": {
        "colab": {
          "base_uri": "https://localhost:8080/"
        },
        "id": "iVxhBdnDQuEx",
        "outputId": "7f1b8d4b-8543-4eed-ac45-7ea5c2ba3087"
      },
      "execution_count": null,
      "outputs": [
        {
          "output_type": "stream",
          "name": "stdout",
          "text": [
            "?\n"
          ]
        }
      ]
    },
    {
      "cell_type": "code",
      "source": [
        "#29. Write a code to combine two dictionaries into one and print the result.\n",
        "\n",
        "dict1 = {\"name\":\"Priyanshu kumar\",\"age\" : 24, \"address\": \"Darbhanga\"}\n",
        "dict2 = {\"course\":\"DA\", \"completion\":\"100%\"}\n",
        "dict1.update(dict2)\n",
        "print(dict1)"
      ],
      "metadata": {
        "colab": {
          "base_uri": "https://localhost:8080/"
        },
        "id": "T1i4Ka24RGil",
        "outputId": "22a7e797-6276-4d26-9ee7-98bf47e0f763"
      },
      "execution_count": null,
      "outputs": [
        {
          "output_type": "stream",
          "name": "stdout",
          "text": [
            "{'name': 'Priyanshu kumar', 'age': 24, 'address': 'Darbhanga', 'course': 'DA', 'completion': '100%'}\n"
          ]
        }
      ]
    },
    {
      "cell_type": "code",
      "source": [
        "#30. Write a code to convert a list of strings into a set\n",
        "\n",
        "list1 = [\"hello,\",\"how\",\"are\",\"you ?\"]\n",
        "set1 = set(list1)\n",
        "print(set1)"
      ],
      "metadata": {
        "colab": {
          "base_uri": "https://localhost:8080/"
        },
        "id": "tszTXYJwTZP6",
        "outputId": "5b1b130f-dd05-4207-882f-8e13b07e01d0"
      },
      "execution_count": null,
      "outputs": [
        {
          "output_type": "stream",
          "name": "stdout",
          "text": [
            "{'are', 'you ?', 'hello,', 'how'}\n"
          ]
        }
      ]
    }
  ]
}