{
  "nbformat": 4,
  "nbformat_minor": 0,
  "metadata": {
    "colab": {
      "provenance": [],
      "collapsed_sections": [
        "sEUg5vE4U--D"
      ]
    },
    "kernelspec": {
      "name": "python3",
      "display_name": "Python 3"
    },
    "language_info": {
      "name": "python"
    }
  },
  "cells": [
    {
      "cell_type": "markdown",
      "source": [
        "#THEORY Questions"
      ],
      "metadata": {
        "id": "sEUg5vE4U--D"
      }
    },
    {
      "cell_type": "markdown",
      "source": [
        "Q1. What is the difference between interpreted and compiled languages ?\n",
        "\n",
        "Ans. Compiled languages translate the entire source code into machine code before running the program, resulting in faster execution but requiring a separate compilation step. Interpreted languages, on the other hand, execute code line-by-line using an interpreter, which makes them more flexible and easier to debug but generally slower at runtime. Examples of compiled languages include C and C++, while Python and JavaScript are commonly interpreted."
      ],
      "metadata": {
        "id": "Z1zY1rmeVeHJ"
      }
    },
    {
      "cell_type": "markdown",
      "source": [
        "Q2. What is exception handling in Python ?\n",
        "\n",
        "Ans. Exception handling in Python is a way to manage errors that occur during the execution of a program, allowing the program to continue running or fail gracefully. It uses try, except, else, and finally blocks to catch and respond to exceptions (errors) like ZeroDivisionError, FileNotFoundError, etc. This prevents the program from crashing unexpectedly and lets you define custom error responses.\n",
        "\n",
        "For example:\n",
        "\n",
        "    try:\n",
        "        result = 10 / 0\n",
        "    except ZeroDivisionError:\n",
        "        print(\"You can't divide by zero!\")\n",
        "        \n",
        "    #This will print a friendly error message instead of stopping the program with an error."
      ],
      "metadata": {
        "id": "ZmpzpZiKVeVe"
      }
    },
    {
      "cell_type": "markdown",
      "source": [
        "Q3. What is the purpose of the finally block in exception handling ?\n",
        "\n",
        "Ans. The finally block in Python's exception handling is used to define cleanup actions that must be executed no matter what—whether an exception was raised or not. It ensures that critical code (like closing files, releasing resources, or ending database connections) always runs.\n",
        "\n",
        "Ex:\n",
        "\n",
        "    try:\n",
        "        file = open('data.txt', 'r')\n",
        "        # some file operations\n",
        "    except FileNotFoundError:\n",
        "        print(\"File not found.\")\n",
        "    finally:\n",
        "        file.close()\n",
        "        print(\"File closed.\")\n",
        "\n",
        "    #Even if an error occurs or no error happens, the code in the finally block will run."
      ],
      "metadata": {
        "id": "kN3W-eAYVeeD"
      }
    },
    {
      "cell_type": "markdown",
      "source": [
        "Q4. What is logging in Python ?\n",
        "\n",
        "Ans. Logging in Python is a built-in way to track events that happen during a program’s execution. It allows to record messages, such as errors, warnings, or informational updates, to the console or a file for debugging and monitoring purposes. Python's logging module provides flexible logging levels like DEBUG, INFO, WARNING, ERROR, and CRITICAL, helping developers understand the program's flow and diagnose issues without using print statements.\n",
        "\n",
        "Ex:\n",
        "\n",
        "    import logging\n",
        "\n",
        "    # Set up basic configuration\n",
        "    logging.basicConfig(level=logging.WARNING, format='%(levelname)s: %(message)s')\n",
        "\n",
        "    # Log messages at different levels\n",
        "    logging.debug(\"This is a debug message\")\n",
        "    logging.info(\"This is an info message\")\n",
        "    logging.warning(\"This is a warning\")\n",
        "    logging.error(\"This is an error\")\n",
        "    logging.critical(\"This is critical\")\n",
        "\n",
        "    #Output :\n",
        "      WARNING:root:This is a warning\n",
        "      ERROR:root:This is an error\n",
        "      CRITICAL:root:This is critical\n",
        "      other logging is not showing because of hierarchy level"
      ],
      "metadata": {
        "id": "4aCoDVnuVemp"
      }
    },
    {
      "cell_type": "markdown",
      "source": [
        "Q5. What is the significance of the `__del__` method in Python ?\n",
        "\n",
        "Ans. The __del__ method in Python is a special method called a destructor, which is invoked when an object is about to be destroyed or garbage collected. Its main purpose is to allow for cleanup actions, such as closing files or releasing external resources, before the object is removed from memory.\n",
        "\n",
        "Ex:\n",
        "\n",
        "    x = 10\n",
        "    print(x)  # Output: 10\n",
        "    del x\n",
        "    # print(x)  # This will cause a NameError because x no longer exists"
      ],
      "metadata": {
        "id": "_BV0E5mJVevM"
      }
    },
    {
      "cell_type": "markdown",
      "source": [
        "Q6. What is the difference between import and from ... import in Python ?\n",
        "\n",
        "Ans. In Python, import module brings in the entire module, so we access its functions or variables using the module name as a prefix (e.g., math.sqrt(16)), while from module import name lets you import specific parts of a module and use them directly without the prefix (e.g., sqrt(16)).\n",
        "\n"
      ],
      "metadata": {
        "id": "SvXeiC2QVfCU"
      }
    },
    {
      "cell_type": "markdown",
      "source": [
        "Q7. How can you handle multiple exceptions in Python ?\n",
        "\n",
        "Ans. We can handle multiple exceptions in Python by listing them as a comma-separated tuple in a single except block, or by using multiple except blocks to handle each exception separately.\n",
        "\n",
        "Here's an example of both ways:\n",
        "\n",
        "    try:\n",
        "        # code that may raise different exceptions\n",
        "        x = int(input(\"Enter a number: \"))\n",
        "        result = 10 / x\n",
        "    except (ValueError, ZeroDivisionError) as e:\n",
        "        print(f\"Handled multiple exceptions in one block: {e}\")\n",
        "\n",
        "OR,\n",
        "\n",
        "    try:\n",
        "        x = int(input(\"Enter a number: \"))\n",
        "        result = 10 / x\n",
        "    except ValueError:\n",
        "        print(\"Invalid input! Please enter a valid number.\")\n",
        "    except ZeroDivisionError:\n",
        "        print(\"Cannot divide by zero!\")\n"
      ],
      "metadata": {
        "id": "1f29fiscVfK9"
      }
    },
    {
      "cell_type": "markdown",
      "source": [
        "Q8. What is the purpose of the with statement when handling files in Python ?\n",
        "\n",
        "Ans. The purpose of the with statement when handling files in Python is to automatically manage the opening and closing of the file, ensuring that the file is properly closed after its block of code finishes—whether the code runs successfully or an error occurs. This makes file handling safer and cleaner by handling resource cleanup without needing an explicit file.close() call.\n",
        "\n",
        "Eg:\n",
        "\n",
        "    with open('file.txt', 'r') as file:\n",
        "        content = file.read()\n",
        "    Here, the file is automatically closed after reading, even if an exception is raised."
      ],
      "metadata": {
        "id": "hWjIBUWbVfQY"
      }
    },
    {
      "cell_type": "markdown",
      "source": [
        "Q9. What is the difference between multithreading and multiprocessing ?\n",
        "\n",
        "Ans. The main difference between multithreading and multiprocessing in Python is how they handle concurrent execution:\n",
        "\n",
        "Multithreading uses multiple threads within the same process to perform tasks concurrently. Threads share the same memory space, making it lightweight but prone to issues like the Global Interpreter Lock (GIL), which can limit true parallelism in CPU-bound tasks.\n",
        "\n",
        "Multiprocessing, on the other hand, uses multiple processes, each with its own memory space. This avoids the GIL and allows true parallel execution, especially effective for CPU-bound tasks, but comes with more overhead than threads due to separate memory and communication needs.\n",
        "\n",
        "In short:\n",
        "\n",
        "Use multithreading for I/O-bound tasks (e.g., file or network operations).\n",
        "\n",
        "Use multiprocessing for CPU-bound tasks (e.g., heavy calculations).\n",
        "\n",
        "---"
      ],
      "metadata": {
        "id": "FkvSrDtqVfVH"
      }
    },
    {
      "cell_type": "markdown",
      "source": [
        "Q10. What are the advantages of using logging in a program ?\n",
        "\n",
        "Ans. Using logging in a program offers several advantages:\n",
        "\n",
        "Tracks Events: Logs important events, errors, and system behavior, which helps monitor the program’s execution.\n",
        "\n",
        "Debugging Aid: Provides detailed information that helps developers diagnose and fix issues more easily than using print statements.\n",
        "\n",
        "Persistent Records: Stores logs in files, allowing us to review issues even after the program has stopped running.\n",
        "\n",
        "Adjustable Levels: Supports log levels like DEBUG, INFO, WARNING, ERROR, and CRITICAL, so you can control the detail of information recorded.\n",
        "\n",
        "Production Friendly: Unlike print statements, logging can be used in both development and production without cluttering output.\n",
        "\n",
        "Flexible Output: Can direct logs to files, consoles, remote servers, or even email alerts.\n",
        "\n",
        "Overall, logging improves the maintainability, reliability, and observability of a program.\n",
        "\n",
        "---"
      ],
      "metadata": {
        "id": "31EG1Y5iVfZX"
      }
    },
    {
      "cell_type": "markdown",
      "source": [
        "Q11. What is memory management in Python ?\n",
        "\n",
        "Ans. Memory management in Python refers to the process of allocating, using, and releasing memory during the execution of a Python program. Python handles most of the memory management tasks automatically through its built-in features.\n",
        "\n",
        "1. Automatic Allocation: Python allocates memory to objects as needed.\n",
        "\n",
        "2. Reference Counting: Each object keeps track of how many references point to it. When the count hits zero, it’s deleted.\n",
        "\n",
        "3. Garbage Collection: Cleans up unused objects, including those in circular references.\n",
        "\n",
        "4. Private Heap: All objects live in a private heap managed by Python.\n",
        "\n",
        "5. Memory Pools (PyMalloc): Speeds up memory handling for small objects."
      ],
      "metadata": {
        "id": "14gN0MOwVfeb"
      }
    },
    {
      "cell_type": "markdown",
      "source": [
        "Q12. What are the basic steps involved in exception handling in Python ?\n",
        "\n",
        "Ans. The basic steps involved in exception handling in Python are:\n",
        "\n",
        "1. Try Block: Write the code that might cause an exception inside a try block.\n",
        "\n",
        "2. Except Block: Handle the exception using one or more except blocks.\n",
        "\n",
        "3. Else Block (Optional): Runs if no exception occurs in the try block.\n",
        "\n",
        "4. Finally Block (Optional): Runs no matter what — used for cleanup actions.\n",
        "\n",
        "        try:\n",
        "            x = 10 / 0\n",
        "        except ZeroDivisionError:\n",
        "            print(\"Cannot divide by zero.\")\n",
        "        else:\n",
        "            print(\"No error occurred.\")\n",
        "        finally:\n",
        "            print(\"This always runs.\")\n",
        "\n",
        "        Use try to test code.\n",
        "\n",
        "        #Use except to handle errors.\n",
        "        #Use else for code that runs if there’s no error.\n",
        "        #Use finally for cleanup, always runs.\n"
      ],
      "metadata": {
        "id": "SJ73Yd8bVfif"
      }
    },
    {
      "cell_type": "markdown",
      "source": [
        "Q13. Why is memory management important in Python ?\n",
        "\n",
        "Ans. Memory management is important in Python because it ensures efficient use of system memory, which helps your programs run faster, use fewer resources, and avoid crashes.\n",
        "\n",
        "Key Reasons:\n",
        "1. Performance: Efficient memory use leads to faster execution.\n",
        "\n",
        "2. Stability: Prevents memory leaks and program crashes.\n",
        "\n",
        "3. Scalability: Proper memory handling supports larger data and more users.\n",
        "\n",
        "4. Resource Optimization: Frees up memory for other processes."
      ],
      "metadata": {
        "id": "JwMML19OVfnY"
      }
    },
    {
      "cell_type": "markdown",
      "source": [
        "Q14. What is the role of try and except in exception handling ?\n",
        "\n",
        "Ans. The try and except blocks in Python are used for exception handling, allowing a program to deal with unexpected errors gracefully without crashing.\n",
        "\n",
        "Role of try and except:\n",
        "1. try block:\n",
        "\n",
        "    --> Used to wrap the code that might cause an exception.\n",
        "\n",
        "    --> If an error occurs inside the try block, Python jumps to the except block.\n",
        "\n",
        "    --> If no error occurs, the except block is skipped.\n",
        "\n",
        "2. except block:\n",
        "\n",
        "    --> Used to handle the exception.\n",
        "\n",
        "    --> We can specify which type of exception to catch (e.g., ZeroDivisionError, ValueError), or use a generic handler.\n",
        "\n",
        "        try:\n",
        "            result = 10 / 0  # This will cause a ZeroDivisionError\n",
        "        except ZeroDivisionError:\n",
        "            print(\"You can't divide by zero!\")\n",
        "\n",
        "Benefits:\n",
        "\n",
        "--> Prevents program crashes.\n",
        "\n",
        "--> Allows for custom error messages or recovery strategies.\n",
        "\n",
        "--> Improves code robustness and user experience."
      ],
      "metadata": {
        "id": "uqBTmmP0Vfrl"
      }
    },
    {
      "cell_type": "markdown",
      "source": [
        "Q15. How does Python's garbage collection system work ?\n",
        "\n",
        "Ans. Python’s garbage collection system is responsible for automatically managing memory by reclaiming unused memory and cleaning up objects that are no longer in use, so programmers don’t have to do it manually.\n",
        "\n",
        "The internal process -->\n",
        "\n",
        "1. Reference Counting :\n",
        "Python tracks how many references point to an object. When the count drops to zero, the object is deleted.\n",
        "\n",
        "        a = [1, 2, 3]  # reference count of the list is 1\n",
        "        b = a          # reference count becomes 2\n",
        "        del a          # reference count becomes 1\n",
        "        del b          # reference count becomes 0 → object is deleted\n",
        "\n",
        "\n",
        "2. Garbage Collector (GC)\n",
        "For objects in circular references (e.g., two objects referencing each other), reference counting alone fails. Python’s gc module finds and removes these cycles automatically.\n",
        "\n",
        "        import gc\n",
        "        gc.collect()  # Manually run garbage collection\n",
        "\n",
        "\n",
        "3. Generational Collection\n",
        "Python organizes objects into generations (0, 1, 2). New objects are in generation 0, and survivors move up. Higher generations are collected less often for efficiency."
      ],
      "metadata": {
        "id": "DEqpe1XBVfv_"
      }
    },
    {
      "cell_type": "markdown",
      "source": [
        "Q16. What is the purpose of the else block in exception handling ?\n",
        "\n",
        "Ans. The else block in exception handling is used to define code that should run only if no exception occurs in the try block. It helps separate normal execution logic from error-handling logic, making the code cleaner. If an exception is raised, the else block is skipped, and the except block is executed instead. This is useful when you want to perform additional steps only if everything in the try block succeeds.\n",
        "\n",
        "      try:\n",
        "          num = int(input(\"Enter a number: \"))\n",
        "      except ValueError:\n",
        "          print(\"That's not a valid number.\")\n",
        "      else:\n",
        "          print(f\"You entered: {num}\")\n",
        "\n",
        "      #In this example, the else block runs only if int(input(...)) doesn’t raise a ValueError."
      ],
      "metadata": {
        "id": "aga5YA0aVf1b"
      }
    },
    {
      "cell_type": "markdown",
      "source": [
        "Q17. What are the common logging levels in Python ?\n",
        "\n",
        "Ans. Python's logging module provides several standard logging levels to indicate the severity or importance of a message. Here are the most common ones, from lowest to highest priority:\n",
        "\n",
        "🔹 1. DEBUG\n",
        "Used for detailed diagnostic information, typically useful for developers during debugging.\n",
        "Example: \"Variable x has value 10\"\n",
        "\n",
        "🔹 2. INFO\n",
        "Used to confirm that things are working as expected.\n",
        "Example: \"User logged in successfully\"\n",
        "\n",
        "🔹 3. WARNING\n",
        "Indicates something unexpected happened, but the program is still running.\n",
        "Example: \"Disk space running low\"\n",
        "\n",
        "🔹 4. ERROR\n",
        "A serious issue that has caused part of the program to fail.\n",
        "Example: \"Failed to save file\"\n",
        "\n",
        "🔹 5. CRITICAL\n",
        "A very serious error indicating that the program may not be able to continue running.\n",
        "Example: \"System shutdown due to overheating\"\n",
        "\n"
      ],
      "metadata": {
        "id": "2vUTmRO4Vf5v"
      }
    },
    {
      "cell_type": "markdown",
      "source": [
        "Q18. What is the difference between os.fork() and multiprocessing in Python ?\n",
        "\n",
        "Ans. The main difference between os.fork() and the multiprocessing module in Python lies in abstraction level, portability, and ease of use:\n",
        "\n",
        "🔹 os.fork()\n",
        "\n",
        "  --> Low-level system call that directly creates a child process by duplicating the current process.\n",
        "\n",
        "  --> Available only on Unix-like systems (Linux, macOS), not on Windows.\n",
        "\n",
        "  --> The child process continues execution from the point of the fork.\n",
        "\n",
        "  --> Requires manual management of resources and inter-process communication.\n",
        "\n",
        "      import os\n",
        "      pid = os.fork()\n",
        "      if pid == 0:\n",
        "          print(\"Child process\")\n",
        "      else:\n",
        "          print(\"Parent process\")\n",
        "\n",
        "🔹 multiprocessing Module\n",
        "\n",
        "  --> High-level interface for creating and managing processes.\n",
        "\n",
        "  --> Cross-platform (works on Windows, Linux, macOS).\n",
        "\n",
        "  --> Supports features like process pools, shared memory, queues, and pipes for communication.\n",
        "\n",
        "  --> Safer and more manageable for complex applications.\n",
        "\n",
        "      from multiprocessing import Process\n",
        "\n",
        "      def task():\n",
        "          print(\"Child process\")\n",
        "\n",
        "      p = Process(target=task)\n",
        "      p.start()\n",
        "      p.join()\n"
      ],
      "metadata": {
        "id": "PcrSb9UHVf-x"
      }
    },
    {
      "cell_type": "markdown",
      "source": [
        "Q19. What is the importance of closing a file in Python ?\n",
        "\n",
        "Ans. Closing a file in Python is important because it frees up system resources, ensures data is properly saved, and prevents file corruption or access issues.\n",
        "\n",
        "Alternatively, using a with block is safer, as it automatically closes the file:\n",
        "\n",
        "      with open(\"example.txt\", \"w\") as f:\n",
        "          f.write(\"Hello, world!\")\n"
      ],
      "metadata": {
        "id": "7q_IAsjpVgDH"
      }
    },
    {
      "cell_type": "markdown",
      "source": [
        "Q20. What is the difference between file.read() and file.readline() in Python ?\n",
        "\n",
        "Ans. Difference between file.read() and file.readline() in Python:\n",
        "In Python, both file.read() and file.readline() are used to read data from a file, but they differ in how much data they read and how they are typically used.\n",
        "\n",
        "1. file.read() reads the entire content of the file as a single string. It is useful when the whole file needs to be processed at once. However, it can consume a lot of memory if the file is large.\n",
        "\n",
        "2. file.readline() reads only one line at a time, ending at the newline character (\\n). It is more memory-efficient and is typically used when reading large files line by line.\n",
        "\n",
        "        # Using read()\n",
        "        with open(\"sample.txt\", \"r\") as f:\n",
        "            content = f.read()\n",
        "            print(content)\n",
        "\n",
        "        # Using readline()\n",
        "        with open(\"sample.txt\", \"r\") as f:\n",
        "            line = f.readline()\n",
        "            print(line)\n",
        "\n",
        "In summary, read() is suitable for reading small files completely, while readline() is better for reading large files line by line."
      ],
      "metadata": {
        "id": "RvKGaWPxVgIB"
      }
    },
    {
      "cell_type": "markdown",
      "source": [
        "Q21. What is the logging module in Python used for ?\n",
        "\n",
        "Ans. The logging module in Python is used to record messages and track events that happen during the execution of a program. It is an essential tool for debugging, monitoring, and maintaining Python applications. Unlike simple print() statements, the logging module provides a flexible way to output messages with different severity levels, such as DEBUG, INFO, WARNING, ERROR, and CRITICAL.\n",
        "\n",
        "It also allows messages to be directed to various destinations, such as the console, log files, or even external systems. This makes it suitable for both small scripts and large-scale applications.\n",
        "\n",
        "✒ DEBUG: Used for detailed diagnostic information, typically useful only for developers.\n",
        "\n",
        "✒INFO: Confirms that things are working as expected during normal operation.\n",
        "\n",
        "✒WARNING: Indicates something unexpected happened, but the program is still running.\n",
        "\n",
        "✒ERROR: Reports a serious problem that caused part of the program to fail.\n",
        "\n",
        "✒CRITICAL: Indicates a very severe error that may prevent the program from continuing.\n",
        "\n",
        "\n",
        "\n",
        "Eg:\n",
        "\n",
        "    import logging\n",
        "\n",
        "    logging.basicConfig(level=logging.INFO)\n",
        "    logging.info(\"This is an info message.\")\n"
      ],
      "metadata": {
        "id": "bjnS93UQVgNK"
      }
    },
    {
      "cell_type": "markdown",
      "source": [
        "Q22. What is the os module in Python used for in file handling ?\n",
        "\n",
        "Ans. The os module in Python is used to interact with the operating system, especially for performing file and directory operations. In file handling, it allows you to create, delete, rename, and move files or directories, check file existence, and navigate the file system.\n",
        "\n",
        "Some commonly used os functions for file handling include:\n",
        "\n",
        "✒os.remove(\"file.txt\") – deletes a file\n",
        "\n",
        "✒os.rename(\"old.txt\", \"new.txt\") – renames a file\n",
        "\n",
        "✒os.mkdir(\"folder\") – creates a new directory\n",
        "\n",
        "✒os.listdir() – lists files and directories in the current path\n",
        "\n",
        "✒os.path.exists(\"file.txt\") – checks if a file or directory exists\n",
        "\n",
        "By using the os module, file operations become more dynamic and platform-independent.\n",
        "\n",
        "    import os\n",
        "\n",
        "    if os.path.exists(\"example.txt\"):\n",
        "        os.rename(\"example.txt\", \"renamed.txt\")\n",
        "    \n",
        "    #In this example, the code checks if a file exists and renames it if found."
      ],
      "metadata": {
        "id": "CPO8W_ZMVgRv"
      }
    },
    {
      "cell_type": "markdown",
      "source": [
        "Q23. What are the challenges associated with memory management in Python ?\n",
        "\n",
        "Ans. Memory management in Python is mostly automatic, but there are still some challenges developers may face:\n",
        "\n",
        "1. Reference Cycles: Python uses reference counting, which can't handle objects that reference each other (circular references). Although the garbage collector can detect these, it may not always clean them up immediately.\n",
        "\n",
        "2. Memory Leaks: If references to unused objects are unintentionally maintained (e.g., in global variables, lists, or caches), they won't be collected, leading to increased memory usage over time.\n",
        "\n",
        "3. High Memory Usage: Python is not as memory-efficient as lower-level languages like C, especially when handling large datasets or many objects, due to its object model and dynamic typing.\n",
        "\n",
        "4. Garbage Collection Overhead: Automatic garbage collection adds processing overhead, which may affect performance in memory-intensive or real-time applications.\n",
        "\n",
        "5. Manual Resource Management: Some resources (like open files or network connections) still require manual handling (e.g., using close() or with statements) to avoid memory/resource leaks.\n",
        "\n"
      ],
      "metadata": {
        "id": "IWvjnDjXVgWv"
      }
    },
    {
      "cell_type": "markdown",
      "source": [
        "Q24. How do you raise an exception manually in Python ?\n",
        "\n",
        "Ans. In Python, you can raise an exception manually using the raise keyword, followed by the exception you want to trigger. This is useful when you want to stop program execution and signal that an error has occurred under certain conditions.\n",
        "\n",
        "Syntax:\n",
        "\n",
        "    raise ExceptionType(\"Optional error message\")\n",
        "\n",
        "Example:\n",
        "\n",
        "    age = -5\n",
        "    if age < 0:\n",
        "        raise ValueError(\"Age cannot be negative\")\n",
        "      "
      ],
      "metadata": {
        "id": "DPa0Twa0VgbW"
      }
    },
    {
      "cell_type": "markdown",
      "source": [
        "Q25. Why is it important to use multithreading in certain applications?\n",
        "\n",
        "Ans. Multithreading is important in certain applications because it allows a program to perform multiple tasks concurrently, improving efficiency, responsiveness, and performance, especially in I/O-bound operations. Each thread runs independently but shares the same memory space, making it lightweight compared to using multiple processes.\n",
        "\n",
        "Multithreading is particularly useful in situations where a program needs to wait for external resources, such as file operations, network requests, or user input. Instead of sitting idle during these waits, other threads can continue executing. This leads to better resource utilization and a smoother user experience in applications like web servers, real-time systems, or GUIs.\n",
        "\n",
        "However, due to Python’s Global Interpreter Lock (GIL), multithreading is less effective for CPU-bound tasks, where the multiprocessing module is preferred.\n",
        "\n",
        "Example Use Cases:\n",
        "\n",
        "--> Handling multiple client requests in a server\n",
        "\n",
        "--> Downloading files while updating a progress bar\n",
        "\n",
        "--> Running background tasks in desktop applications"
      ],
      "metadata": {
        "id": "udjo1Dq0Vggn"
      }
    },
    {
      "cell_type": "markdown",
      "source": [
        "#PRACTICAL Questions"
      ],
      "metadata": {
        "id": "DfhaJb21abeh"
      }
    },
    {
      "cell_type": "code",
      "source": [
        "#Q1. How can you open a file for writing in Python and write a string to it ?\n",
        "\n",
        "# Open the file in write mode ('w')\n",
        "with open('example.txt', 'w') as file:\n",
        "    # Write a string to the file\n",
        "    file.write(\"Hello, world!\")"
      ],
      "metadata": {
        "id": "MvhWDL43aY78"
      },
      "execution_count": 10,
      "outputs": []
    },
    {
      "cell_type": "code",
      "source": [
        "#Q2. Write a Python program to read the contents of a file and print each line ?\n",
        "\n",
        "with open ('example.txt', 'r') as file:\n",
        "  for line in file:\n",
        "    print(line, end = \"\")"
      ],
      "metadata": {
        "colab": {
          "base_uri": "https://localhost:8080/"
        },
        "id": "mApzfm2qumOy",
        "outputId": "65771099-74b0-47e9-be93-e7755e1c263c"
      },
      "execution_count": 11,
      "outputs": [
        {
          "output_type": "stream",
          "name": "stdout",
          "text": [
            "Hello, world!"
          ]
        }
      ]
    },
    {
      "cell_type": "code",
      "source": [
        "#3. How would you handle a case where the file doesn't exist while trying to open it for reading ?\n",
        "\n",
        "filename = 'example.txt'\n",
        "\n",
        "try:\n",
        "    with open(filename, 'r') as file:\n",
        "        print(file.read())\n",
        "except FileNotFoundError:\n",
        "    print(f\"Error: The file '{filename}' does not exist.\")"
      ],
      "metadata": {
        "id": "q1WGodcGfMrM",
        "colab": {
          "base_uri": "https://localhost:8080/"
        },
        "outputId": "69f02877-1082-4f89-c7b3-e7dd23bd8f74"
      },
      "execution_count": 12,
      "outputs": [
        {
          "output_type": "stream",
          "name": "stdout",
          "text": [
            "Hello, world!\n"
          ]
        }
      ]
    },
    {
      "cell_type": "code",
      "source": [
        "#Q4. Write a Python script that reads from one file and writes its content to another file\n",
        "\n",
        "with open ('example.txt', 'r') as source_file:\n",
        "  print('source file content : ', end='')\n",
        "  data = source_file.read()\n",
        "  print(data)\n",
        "\n",
        "with open ('new_file.txt', 'w') as newFile:\n",
        "    newFile.write(data)\n",
        "\n",
        "print('content copied')\n",
        "\n",
        "#showing content\n",
        "with open ('new_file.txt','r') as newFile:\n",
        "  print('reading new file content.....')\n",
        "  print(newFile.read())"
      ],
      "metadata": {
        "id": "jXHGVdFJfNFf",
        "colab": {
          "base_uri": "https://localhost:8080/"
        },
        "outputId": "13291df7-a897-4c2d-c5ab-13588cde82d2"
      },
      "execution_count": 13,
      "outputs": [
        {
          "output_type": "stream",
          "name": "stdout",
          "text": [
            "source file content : Hello, world!\n",
            "content copied\n",
            "reading new file content.....\n",
            "Hello, world!\n"
          ]
        }
      ]
    },
    {
      "cell_type": "code",
      "source": [
        "#Q5. How would you catch and handle division by zero error in Python ?\n",
        "\n",
        "def divide_numbers(a, b):\n",
        "    try:\n",
        "        result = a / b\n",
        "        print(f\"Result: {result}\")\n",
        "    except ZeroDivisionError:\n",
        "        print(\"Error: Division by zero is not allowed.\")\n",
        "\n",
        "# Example usage\n",
        "divide_numbers(10, 2)   # Valid division\n",
        "divide_numbers(10, 0)   # Triggers ZeroDivisionError"
      ],
      "metadata": {
        "id": "h3ewKU2MfNaa",
        "colab": {
          "base_uri": "https://localhost:8080/"
        },
        "outputId": "0581b022-4db5-4f7d-fa0c-dd147c9b7c50"
      },
      "execution_count": 14,
      "outputs": [
        {
          "output_type": "stream",
          "name": "stdout",
          "text": [
            "Result: 5.0\n",
            "Error: Division by zero is not allowed.\n"
          ]
        }
      ]
    },
    {
      "cell_type": "code",
      "source": [
        "#Q6. Write a Python program that logs an error message to a log file when a division by zero exception occurs.\n",
        "\n",
        "import logging\n",
        "\n",
        "logging.basicConfig(filename=\"fileLog.log\", level=logging.ERROR, format='%(asctime)s - %(levelname)s - %(message)s')\n",
        "\n",
        "def divide(a, b):\n",
        "    try:\n",
        "        result = a / b\n",
        "        print(f\"Result: {result}\")\n",
        "    except ZeroDivisionError:\n",
        "        error_message = f\"Attempted to divide {a} by zero.\"\n",
        "        logging.error(error_message)\n",
        "        print(\"Error: Division by zero is not allowed. Check 'error.log' for details.\")\n",
        "\n",
        "divide(10, 0)   # Triggers and logs ZeroDivisionError"
      ],
      "metadata": {
        "id": "H4bCf7q1fN2i",
        "colab": {
          "base_uri": "https://localhost:8080/"
        },
        "outputId": "b53afd52-81f3-46e2-97c8-d0c293b59504"
      },
      "execution_count": 15,
      "outputs": [
        {
          "output_type": "stream",
          "name": "stderr",
          "text": [
            "ERROR:root:Attempted to divide 10 by zero.\n"
          ]
        },
        {
          "output_type": "stream",
          "name": "stdout",
          "text": [
            "Error: Division by zero is not allowed. Check 'error.log' for details.\n"
          ]
        }
      ]
    },
    {
      "cell_type": "code",
      "source": [
        "#Q7. How do you log information at different levels (INFO, ERROR, WARNING) in Python using the logging module ?\n",
        "\n",
        "import logging\n",
        "\n",
        "logging.basicConfig(\n",
        "    filename='app.log',          # Log file\n",
        "    level=logging.DEBUG,         # Minimum level to capture but it seems there is a default level set in colab and that is 'warning'\n",
        "                                 # and that's why debug and info is not showing\n",
        "    format='%(asctime)s - %(levelname)s - %(message)s'  # Log format\n",
        ")\n",
        "\n",
        "# Log messages at various levels\n",
        "logging.debug(\"This is a DEBUG message.\")\n",
        "logging.info(\"This is an INFO message.\")\n",
        "logging.warning(\"This is a WARNING message.\")\n",
        "logging.error(\"This is an ERROR message.\")\n",
        "logging.critical(\"This is a CRITICAL message.\")\n"
      ],
      "metadata": {
        "id": "OsMw48EqfPtR",
        "colab": {
          "base_uri": "https://localhost:8080/"
        },
        "outputId": "115d27c4-8ce4-4d2f-9a94-48f722a6b43f"
      },
      "execution_count": 16,
      "outputs": [
        {
          "output_type": "stream",
          "name": "stderr",
          "text": [
            "WARNING:root:This is a WARNING message.\n",
            "ERROR:root:This is an ERROR message.\n",
            "CRITICAL:root:This is a CRITICAL message.\n"
          ]
        }
      ]
    },
    {
      "cell_type": "code",
      "source": [
        "#Q8. Write a program to handle a file opening error using exception handling ?\n",
        "\n",
        "def open_file(filename):\n",
        "    try:\n",
        "        with open(filename, 'r') as file:\n",
        "            content = file.read()\n",
        "            print(\"File contents:\\n\", content)\n",
        "    except Exception as e :\n",
        "      print(e)\n",
        "\n",
        "\n",
        "# Example usage\n",
        "open_file(\"nonexistent_file.txt\")"
      ],
      "metadata": {
        "id": "O-o-FNq1fP17",
        "colab": {
          "base_uri": "https://localhost:8080/"
        },
        "outputId": "0c5237a3-c3c2-4a3a-92af-bf2381b6e22d"
      },
      "execution_count": 17,
      "outputs": [
        {
          "output_type": "stream",
          "name": "stdout",
          "text": [
            "[Errno 2] No such file or directory: 'nonexistent_file.txt'\n"
          ]
        }
      ]
    },
    {
      "cell_type": "code",
      "source": [
        "#Q9. How can you read a file line by line and store its content in a list in Python ?\n",
        "\n",
        "\n",
        "def read_file_to_list(filename):\n",
        "    try:\n",
        "        with open(filename, 'r') as file:\n",
        "            lines = [line.strip() for line in file]\n",
        "        return lines\n",
        "    except FileNotFoundError:\n",
        "        print(f\"Error: The file '{filename}' does not exist.\")\n",
        "        return []\n",
        "\n",
        "# Example usage\n",
        "cleaned_lines = read_file_to_list('example.txt')\n",
        "print(cleaned_lines)\n"
      ],
      "metadata": {
        "id": "GEgxQTuifP-X",
        "colab": {
          "base_uri": "https://localhost:8080/"
        },
        "outputId": "d30603e9-af49-4dce-9325-f9e561943136"
      },
      "execution_count": 18,
      "outputs": [
        {
          "output_type": "stream",
          "name": "stdout",
          "text": [
            "['Hello, world!']\n"
          ]
        }
      ]
    },
    {
      "cell_type": "code",
      "source": [
        "#Q10. How can you append data to an existing file in Python ?\n",
        "\n",
        "with open('example.txt', 'a') as file:\n",
        "    file.write('\\nthis line is added in question no. 10' + '\\n')  # Adds a newline after the data\n",
        "print(f\"Data appended to 'example.txt'.\")"
      ],
      "metadata": {
        "id": "l2r8GW4JfQGq",
        "colab": {
          "base_uri": "https://localhost:8080/"
        },
        "outputId": "e6160f14-07e8-482a-cbe0-d1e4a6f51115"
      },
      "execution_count": 23,
      "outputs": [
        {
          "output_type": "stream",
          "name": "stdout",
          "text": [
            "Data appended to 'example.txt'.\n"
          ]
        }
      ]
    },
    {
      "cell_type": "code",
      "source": [
        "'''Q11. Write a Python program that uses a try-except block to handle an error when attempting to access a\n",
        "dictionary key that doesn't exist'''\n",
        "\n",
        "my_dict = {\n",
        "    'name': 'Alice',\n",
        "    'age': 30\n",
        "}\n",
        "\n",
        "try:\n",
        "    value = my_dict[\"city\"]\n",
        "    print(f\"The key is: {value}\")\n",
        "except KeyError as e:\n",
        "    print(f\"Error: The key 'e.args[0]' does not exist in the dictionary.\")"
      ],
      "metadata": {
        "id": "i2Ew0bbxfQNx",
        "colab": {
          "base_uri": "https://localhost:8080/"
        },
        "outputId": "81396617-317c-4bf9-ca83-9364339e2620"
      },
      "execution_count": 20,
      "outputs": [
        {
          "output_type": "stream",
          "name": "stdout",
          "text": [
            "Error: The key 'e.args[0]' does not exist in the dictionary.\n"
          ]
        }
      ]
    },
    {
      "cell_type": "code",
      "source": [
        "#Q12. Write a program that demonstrates using multiple except blocks to handle different types of exceptions.\n",
        "\n",
        "try:\n",
        "    # User input that can trigger multiple exceptions\n",
        "    num1 = int(input(\"Enter the numerator: \"))\n",
        "    num2 = int(input(\"Enter the denominator: \"))\n",
        "    result = num1 / num2\n",
        "\n",
        "    my_dict = {\"key1\": \"value1\"}\n",
        "    print(\"Value for 'key2':\", my_dict[\"key2\"])  # KeyError\n",
        "\n",
        "except ValueError:\n",
        "    print(\"Error: Invalid input. Please enter numeric values.\")\n",
        "except ZeroDivisionError:\n",
        "    print(\"Error: Division by zero is not allowed.\")\n",
        "except KeyError as e:\n",
        "    print(f\"Error: The dictionary key {e} does not exist.\")\n",
        "except Exception as e:\n",
        "    print(f\"An unexpected error occurred: {e}\")\n",
        "else:\n",
        "    print(f\"Result: {result}\")\n",
        "finally:\n",
        "    print(\"Execution completed.\")"
      ],
      "metadata": {
        "id": "xZjc8JyZfQVv",
        "colab": {
          "base_uri": "https://localhost:8080/"
        },
        "outputId": "44de79f1-767e-41aa-deb5-ceb70cff11ba"
      },
      "execution_count": 21,
      "outputs": [
        {
          "output_type": "stream",
          "name": "stdout",
          "text": [
            "Enter the numerator: 10\n",
            "Enter the denominator: 2\n",
            "Error: The dictionary key 'key2' does not exist.\n",
            "Execution completed.\n"
          ]
        }
      ]
    },
    {
      "cell_type": "code",
      "source": [
        "#Q13.  How would you check if a file exists before attempting to read it in Python ?\n",
        "\n",
        "import os\n",
        "filename = 'example.txt'\n",
        "\n",
        "if os.path.exists(filename):\n",
        "    with open(filename, 'r') as file:\n",
        "        content = file.read()\n",
        "        print(content)\n",
        "else:\n",
        "    print(f\"Error: The file '{filename}' does not exist.\")"
      ],
      "metadata": {
        "id": "7z1IKC63fQea",
        "colab": {
          "base_uri": "https://localhost:8080/"
        },
        "outputId": "d80eb0ad-9497-4f73-aa18-212c79f7e869"
      },
      "execution_count": 24,
      "outputs": [
        {
          "output_type": "stream",
          "name": "stdout",
          "text": [
            "Hello, world!this line is added in question no. 10\n",
            "\n",
            "this line is added in question no. 10\n",
            "\n"
          ]
        }
      ]
    },
    {
      "cell_type": "code",
      "source": [
        "#Q14. Write a program that uses the logging module to log both informational and error messages.\n",
        "\n",
        "import logging\n",
        "\n",
        "# Configure logging\n",
        "logging.basicConfig(filename='app.log',level=logging.DEBUG,format='%(asctime)s - %(levelname)s - %(message)s')\n",
        "\n",
        "def divide(a, b):\n",
        "    logging.info(f\"Attempting to divide {a} by {b}\")\n",
        "    try:\n",
        "        result = a / b\n",
        "        logging.info(f\"Division successful: {a} / {b} = {result}\")\n",
        "        return result\n",
        "    except ZeroDivisionError:\n",
        "        logging.error(\"Error: Division by zero attempted.\")\n",
        "        return None\n",
        "\n",
        "# Example usage\n",
        "divide(10, 2)     # Logs info messages\n",
        "divide(10, 0)     # Logs an error message"
      ],
      "metadata": {
        "id": "HGI65f-vfQmO",
        "colab": {
          "base_uri": "https://localhost:8080/"
        },
        "outputId": "f3885435-f0c9-4b78-dc6a-961cf603420c"
      },
      "execution_count": 25,
      "outputs": [
        {
          "output_type": "stream",
          "name": "stderr",
          "text": [
            "ERROR:root:Error: Division by zero attempted.\n"
          ]
        }
      ]
    },
    {
      "cell_type": "code",
      "source": [
        "#Q15.  Write a Python program that prints the content of a file and handles the case when the file is empty.\n",
        "\n",
        "def print_file_content(filename):\n",
        "    try:\n",
        "        with open(filename, 'r') as file:\n",
        "            content = file.read()\n",
        "            if content:\n",
        "                print(\"File content:\",content)\n",
        "            else:\n",
        "                print(f\"The file '{filename}' is empty.\")\n",
        "    except FileNotFoundError:\n",
        "        print(f\"Error: The file '{filename}' does not exist.\")\n",
        "    except IOError as e:\n",
        "        print(f\"An I/O error occurred: {e}\")\n",
        "\n",
        "# Example usage\n",
        "print_file_content('example.txt')"
      ],
      "metadata": {
        "id": "O1p5sUKyfQvd",
        "colab": {
          "base_uri": "https://localhost:8080/"
        },
        "outputId": "3e510de8-db75-4f69-f65c-cc5007a52c11"
      },
      "execution_count": 26,
      "outputs": [
        {
          "output_type": "stream",
          "name": "stdout",
          "text": [
            "File content: Hello, world!this line is added in question no. 10\n",
            "\n",
            "this line is added in question no. 10\n",
            "\n"
          ]
        }
      ]
    },
    {
      "cell_type": "code",
      "source": [
        "#Q16. Demonstrate how to use memory profiling to check the memory usage of a small program.\n",
        "\n",
        "!pip install memory_profiler\n",
        "from memory_profiler import profile\n",
        "\n",
        "@profile\n",
        "def my_function():\n",
        "    a = [i for i in range(1000)]  # A list of 1000 numbers\n",
        "    b = [i**2 for i in range(1000)]  # A list of 1000 squared numbers\n",
        "    result = sum(a) + sum(b)  # Simple operation to use memory\n",
        "    print(f\"Sum of elements: {result}\")\n",
        "    return result\n",
        "\n",
        "if __name__ == \"__main__\":\n",
        "    my_function()"
      ],
      "metadata": {
        "id": "mbd3BKorfQ36",
        "colab": {
          "base_uri": "https://localhost:8080/"
        },
        "outputId": "3b0b499e-313e-45ab-9cea-b0974c1b1243"
      },
      "execution_count": 27,
      "outputs": [
        {
          "output_type": "stream",
          "name": "stdout",
          "text": [
            "Collecting memory_profiler\n",
            "  Downloading memory_profiler-0.61.0-py3-none-any.whl.metadata (20 kB)\n",
            "Requirement already satisfied: psutil in /usr/local/lib/python3.11/dist-packages (from memory_profiler) (5.9.5)\n",
            "Downloading memory_profiler-0.61.0-py3-none-any.whl (31 kB)\n",
            "Installing collected packages: memory_profiler\n",
            "Successfully installed memory_profiler-0.61.0\n"
          ]
        },
        {
          "output_type": "stream",
          "name": "stderr",
          "text": [
            "\n",
            "PYDEV DEBUGGER WARNING:\n",
            "sys.settrace() should not be used when the debugger is being used.\n",
            "This may cause the debugger to stop working correctly.\n",
            "If this is needed, please check: \n",
            "http://pydev.blogspot.com/2007/06/why-cant-pydev-debugger-work-with.html\n",
            "to see how to restore the debug tracing back correctly.\n",
            "Call Location:\n",
            "  File \"/usr/local/lib/python3.11/dist-packages/memory_profiler.py\", line 847, in enable\n",
            "    sys.settrace(self.trace_memory_usage)\n",
            "\n",
            "\n",
            "PYDEV DEBUGGER WARNING:\n",
            "sys.settrace() should not be used when the debugger is being used.\n",
            "This may cause the debugger to stop working correctly.\n",
            "If this is needed, please check: \n",
            "http://pydev.blogspot.com/2007/06/why-cant-pydev-debugger-work-with.html\n",
            "to see how to restore the debug tracing back correctly.\n",
            "Call Location:\n",
            "  File \"/usr/local/lib/python3.11/dist-packages/memory_profiler.py\", line 850, in disable\n",
            "    sys.settrace(self._original_trace_function)\n",
            "\n"
          ]
        },
        {
          "output_type": "stream",
          "name": "stdout",
          "text": [
            "ERROR: Could not find file <ipython-input-27-b633a9db8ae5>\n",
            "NOTE: %mprun can only be used on functions defined in physical files, and not in the IPython environment.\n",
            "Sum of elements: 333333000\n"
          ]
        }
      ]
    },
    {
      "cell_type": "code",
      "source": [
        "#Q17. Write a Python program to create and write a list of numbers to a file, one number per line.\n",
        "\n",
        "def write_numbers_to_file(filename, numbers):\n",
        "    try:\n",
        "        with open(filename, 'w') as file:\n",
        "            for number in numbers:\n",
        "                file.write(f\"{number}\\n\")\n",
        "        print(f\"Successfully wrote {len(numbers)} numbers to '{filename}'.\")\n",
        "    except IOError as e:\n",
        "        print(f\"An I/O error occurred: {e}\")\n",
        "\n",
        "# Example usage\n",
        "numbers_list = [1, 2, 3, 4, 5, 10, 20, 30]\n",
        "write_numbers_to_file('numbers.txt', numbers_list)"
      ],
      "metadata": {
        "id": "IgCj36UCfRJy",
        "colab": {
          "base_uri": "https://localhost:8080/"
        },
        "outputId": "e1b6e8fd-3f53-4a0c-c372-7a887bad1845"
      },
      "execution_count": 28,
      "outputs": [
        {
          "output_type": "stream",
          "name": "stdout",
          "text": [
            "Successfully wrote 8 numbers to 'numbers.txt'.\n"
          ]
        }
      ]
    },
    {
      "cell_type": "code",
      "source": [
        "#Q18. How would you implement a basic logging setup that logs to a file with rotation after 1MB ?\n",
        "\n",
        "import logging\n",
        "from logging.handlers import RotatingFileHandler\n",
        "\n",
        "# Create a logger\n",
        "logger = logging.getLogger('my_logger')\n",
        "logger.setLevel(logging.DEBUG)  # Set the logging level\n",
        "\n",
        "# Create a handler for writing log messages to a file with rotation\n",
        "handler = RotatingFileHandler(\n",
        "    'app.log', maxBytes=1_000_000, backupCount=5  # 1MB max size, keep up to 5 backup files\n",
        ")\n",
        "\n",
        "# Create a formatter and set it for the handler\n",
        "formatter = logging.Formatter('%(asctime)s - %(levelname)s - %(message)s')\n",
        "handler.setFormatter(formatter)\n",
        "\n",
        "# Add the handler to the logger\n",
        "logger.addHandler(handler)\n",
        "\n",
        "# Example usage\n",
        "logger.debug(\"Debug message\")\n",
        "logger.info(\"Info message\")\n",
        "logger.warning(\"Warning message\")\n",
        "logger.error(\"Error message\")\n",
        "logger.critical(\"Critical message\")"
      ],
      "metadata": {
        "id": "rvfdBuLMfRSY",
        "colab": {
          "base_uri": "https://localhost:8080/"
        },
        "outputId": "2cfe32ff-b5c8-4346-cb80-00bd7a7de3b4"
      },
      "execution_count": 29,
      "outputs": [
        {
          "output_type": "stream",
          "name": "stderr",
          "text": [
            "DEBUG:my_logger:Debug message\n",
            "INFO:my_logger:Info message\n",
            "WARNING:my_logger:Warning message\n",
            "ERROR:my_logger:Error message\n",
            "CRITICAL:my_logger:Critical message\n"
          ]
        }
      ]
    },
    {
      "cell_type": "code",
      "source": [
        "#Q19. Write a program that handles both IndexError and KeyError using a try-except block.\n",
        "\n",
        "\n",
        "my_list = [1, 2, 3]\n",
        "my_dict = {'a': 10, 'b': 20}\n",
        "\n",
        "try:\n",
        "    # Attempt to access an out-of-range index\n",
        "    print(\"List element at index 5:\", my_list[5])\n",
        "except IndexError as e:\n",
        "    print(\"Caught an IndexError:\", e)\n",
        "\n",
        "try:\n",
        "    # Attempt to access a non-existent key\n",
        "    print(\"Value for key 'z':\", my_dict['z']) #\n",
        "\n",
        "except KeyError as e:\n",
        "    print(\"Caught a KeyError:\", e)"
      ],
      "metadata": {
        "id": "LHuiTRSefRaf",
        "colab": {
          "base_uri": "https://localhost:8080/"
        },
        "outputId": "277ea8b0-20ea-44ac-c4aa-02503a849000"
      },
      "execution_count": 30,
      "outputs": [
        {
          "output_type": "stream",
          "name": "stdout",
          "text": [
            "Caught an IndexError: list index out of range\n",
            "Caught a KeyError: 'z'\n"
          ]
        }
      ]
    },
    {
      "cell_type": "code",
      "source": [
        "#Q20. How would you open a file and read its contents using a context manager in Python ?\n",
        "\n",
        "file_path = 'example.txt'\n",
        "\n",
        "# Open and read the file using a context manager\n",
        "with open(file_path, 'r') as file:\n",
        "    contents = file.read()\n",
        "    if contents:\n",
        "      print(contents)\n",
        "    else:\n",
        "      print('there is no such file')"
      ],
      "metadata": {
        "id": "gDtHJ5OWfRiv",
        "colab": {
          "base_uri": "https://localhost:8080/"
        },
        "outputId": "d45b301e-c1cd-43f2-bf4c-119499401d5f"
      },
      "execution_count": 31,
      "outputs": [
        {
          "output_type": "stream",
          "name": "stdout",
          "text": [
            "Hello, world!this line is added in question no. 10\n",
            "\n",
            "this line is added in question no. 10\n",
            "\n"
          ]
        }
      ]
    },
    {
      "cell_type": "code",
      "source": [
        "#Q21. Write a Python program that reads a file and prints the number of occurrences of a specific word.\n",
        "\n",
        "def count_word_occurrences(file_path, target_word):\n",
        "    try:\n",
        "        with open(file_path, 'r', encoding='utf-8') as file:\n",
        "            contents = file.read().lower()  # Convert to lowercase for case-insensitive matching\n",
        "            word_list = contents.split()\n",
        "            word_count = word_list.count(target_word.lower())\n",
        "\n",
        "            print(f\"The word '{target_word}' occurs {word_count} times in the file.\")\n",
        "    except FileNotFoundError:\n",
        "        print(f\"Error: The file '{file_path}' was not found.\")\n",
        "    except Exception as e:\n",
        "        print(f\"An error occurred: {e}\")\n",
        "\n",
        "# Example usage\n",
        "file_name = 'example.txt'\n",
        "word_to_count = 'is'\n",
        "count_word_occurrences(file_name, word_to_count)"
      ],
      "metadata": {
        "id": "aEDbVvLwfRq4",
        "colab": {
          "base_uri": "https://localhost:8080/"
        },
        "outputId": "7509f25b-0cef-44b9-a4e7-dbd0f4d908bb"
      },
      "execution_count": 34,
      "outputs": [
        {
          "output_type": "stream",
          "name": "stdout",
          "text": [
            "The word 'is' occurs 2 times in the file.\n"
          ]
        }
      ]
    },
    {
      "cell_type": "code",
      "source": [
        "#Q22. How can you check if a file is empty before attempting to read its contents ?\n",
        "\n",
        "#there are more ways to check but the easiest way is :\n",
        "with open('example.txt', 'r') as file:\n",
        "    contents = file.read()\n",
        "    if not contents:\n",
        "        print(\"The file is empty.\")\n",
        "    else:\n",
        "        print(\"File contents:\")\n",
        "        print(contents)\n"
      ],
      "metadata": {
        "id": "GJJu3gLKfR1u",
        "colab": {
          "base_uri": "https://localhost:8080/"
        },
        "outputId": "55059185-bf5e-4d61-dbe0-dc3798059f0a"
      },
      "execution_count": 36,
      "outputs": [
        {
          "output_type": "stream",
          "name": "stdout",
          "text": [
            "File contents:\n",
            "Hello, world!this line is added in question no. 10\n",
            "\n",
            "this line is added in question no. 10\n",
            "\n"
          ]
        }
      ]
    },
    {
      "cell_type": "code",
      "source": [
        "#Q23. Write a Python program that writes to a log file when an error occurs during file handling.\n",
        "\n",
        "import logging\n",
        "\n",
        "# Configure logging to write to a file\n",
        "logging.basicConfig(\n",
        "    filename='error_log.txt',\n",
        "    level=logging.ERROR,\n",
        "    format='%(asctime)s - %(levelname)s - %(message)s'\n",
        ")\n",
        "\n",
        "def read_file(file_path):\n",
        "    try:\n",
        "        with open(file_path, 'r') as file:\n",
        "            contents = file.read()\n",
        "            print(\"File contents:\\n\", contents)\n",
        "    except Exception as e:\n",
        "        logging.error(e)\n",
        "\n",
        "# Example usage\n",
        "file_name = 'nonexistent_file.txt'\n",
        "read_file(file_name)"
      ],
      "metadata": {
        "colab": {
          "base_uri": "https://localhost:8080/"
        },
        "id": "iQ0thJgcq0U9",
        "outputId": "a35b328f-7682-4402-c33f-80f8f2762def"
      },
      "execution_count": 41,
      "outputs": [
        {
          "output_type": "stream",
          "name": "stderr",
          "text": [
            "ERROR:root:[Errno 2] No such file or directory: 'nonexistent_file.txt'\n"
          ]
        }
      ]
    }
  ]
}