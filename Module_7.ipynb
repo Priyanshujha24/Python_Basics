{
  "nbformat": 4,
  "nbformat_minor": 0,
  "metadata": {
    "colab": {
      "provenance": [],
      "authorship_tag": "ABX9TyOIn5/nUaa15RdrrRn40xc9",
      "include_colab_link": true
    },
    "kernelspec": {
      "name": "python3",
      "display_name": "Python 3"
    },
    "language_info": {
      "name": "python"
    }
  },
  "cells": [
    {
      "cell_type": "markdown",
      "metadata": {
        "id": "view-in-github",
        "colab_type": "text"
      },
      "source": [
        "<a href=\"https://colab.research.google.com/github/Priyanshujha24/Python_Basics/blob/main/Module_7.ipynb\" target=\"_parent\"><img src=\"https://colab.research.google.com/assets/colab-badge.svg\" alt=\"Open In Colab\"/></a>"
      ]
    },
    {
      "cell_type": "markdown",
      "source": [
        "#THEORY Questions"
      ],
      "metadata": {
        "id": "sEUg5vE4U--D"
      }
    },
    {
      "cell_type": "markdown",
      "source": [
        "Q1. What is the difference between interpreted and compiled languages ?"
      ],
      "metadata": {
        "id": "Z1zY1rmeVeHJ"
      }
    },
    {
      "cell_type": "markdown",
      "source": [
        "Q2. What is exception handling in Python ?"
      ],
      "metadata": {
        "id": "ZmpzpZiKVeVe"
      }
    },
    {
      "cell_type": "markdown",
      "source": [
        "Q3. What is the purpose of the finally block in exception handling ?"
      ],
      "metadata": {
        "id": "kN3W-eAYVeeD"
      }
    },
    {
      "cell_type": "markdown",
      "source": [
        "Q4. What is logging in Python ?"
      ],
      "metadata": {
        "id": "4aCoDVnuVemp"
      }
    },
    {
      "cell_type": "markdown",
      "source": [
        "Q5. What is the significance of the del method in Python ?"
      ],
      "metadata": {
        "id": "_BV0E5mJVevM"
      }
    },
    {
      "cell_type": "markdown",
      "source": [
        "Q6. What is the difference between import and from ... import in Python ?"
      ],
      "metadata": {
        "id": "SvXeiC2QVfCU"
      }
    },
    {
      "cell_type": "markdown",
      "source": [
        "Q7. How can you handle multiple exceptions in Python ?"
      ],
      "metadata": {
        "id": "1f29fiscVfK9"
      }
    },
    {
      "cell_type": "markdown",
      "source": [
        "Q8. What is the purpose of the with statement when handling files in Python ?"
      ],
      "metadata": {
        "id": "hWjIBUWbVfQY"
      }
    },
    {
      "cell_type": "markdown",
      "source": [
        "Q9. What is the difference between multithreading and multiprocessing ?"
      ],
      "metadata": {
        "id": "FkvSrDtqVfVH"
      }
    },
    {
      "cell_type": "markdown",
      "source": [
        "Q10. What are the advantages of using logging in a program ?"
      ],
      "metadata": {
        "id": "31EG1Y5iVfZX"
      }
    },
    {
      "cell_type": "markdown",
      "source": [
        "Q11. What is memory management in Python ?"
      ],
      "metadata": {
        "id": "14gN0MOwVfeb"
      }
    },
    {
      "cell_type": "markdown",
      "source": [
        "Q12. What are the basic steps involved in exception handling in Python ?"
      ],
      "metadata": {
        "id": "SJ73Yd8bVfif"
      }
    },
    {
      "cell_type": "markdown",
      "source": [
        "Q13. Why is memory management important in Python ?"
      ],
      "metadata": {
        "id": "JwMML19OVfnY"
      }
    },
    {
      "cell_type": "markdown",
      "source": [
        "Q14. What is the role of try and except in exception handling ?"
      ],
      "metadata": {
        "id": "uqBTmmP0Vfrl"
      }
    },
    {
      "cell_type": "markdown",
      "source": [
        "Q15. How does Python's garbage collection system work ?"
      ],
      "metadata": {
        "id": "DEqpe1XBVfv_"
      }
    },
    {
      "cell_type": "markdown",
      "source": [
        "Q16. What is the purpose of the else block in exception handling ?"
      ],
      "metadata": {
        "id": "aga5YA0aVf1b"
      }
    },
    {
      "cell_type": "markdown",
      "source": [
        "Q17. What are the common logging levels in Python ?"
      ],
      "metadata": {
        "id": "2vUTmRO4Vf5v"
      }
    },
    {
      "cell_type": "markdown",
      "source": [
        "Q18. What is the difference between os.fork() and multiprocessing in Python ?"
      ],
      "metadata": {
        "id": "PcrSb9UHVf-x"
      }
    },
    {
      "cell_type": "markdown",
      "source": [
        "Q19. What is the importance of closing a file in Python ?"
      ],
      "metadata": {
        "id": "7q_IAsjpVgDH"
      }
    },
    {
      "cell_type": "markdown",
      "source": [
        "Q20. What is the difference between file.read() and file.readline() in Python ?"
      ],
      "metadata": {
        "id": "RvKGaWPxVgIB"
      }
    },
    {
      "cell_type": "markdown",
      "source": [
        "Q21. What is the logging module in Python used for ?"
      ],
      "metadata": {
        "id": "bjnS93UQVgNK"
      }
    },
    {
      "cell_type": "markdown",
      "source": [
        "Q22. What is the os module in Python used for in file handling ?"
      ],
      "metadata": {
        "id": "CPO8W_ZMVgRv"
      }
    },
    {
      "cell_type": "markdown",
      "source": [
        "Q23. What are the challenges associated with memory management in Python ?"
      ],
      "metadata": {
        "id": "IWvjnDjXVgWv"
      }
    },
    {
      "cell_type": "markdown",
      "source": [
        "Q24. How do you raise an exception manually in Python ?"
      ],
      "metadata": {
        "id": "DPa0Twa0VgbW"
      }
    },
    {
      "cell_type": "markdown",
      "source": [
        "Q25. Why is it important to use multithreading in certain applications?"
      ],
      "metadata": {
        "id": "udjo1Dq0Vggn"
      }
    },
    {
      "cell_type": "markdown",
      "source": [
        "#PRACTICAL Questions"
      ],
      "metadata": {
        "id": "DfhaJb21abeh"
      }
    },
    {
      "cell_type": "code",
      "source": [
        "#Q1. How can you open a file for writing in Python and write a string to it ?\n",
        "\n",
        "# Open the file in write mode ('w')\n",
        "with open('example.txt', 'w') as file:\n",
        "    # Write a string to the file\n",
        "    file.write(\"Hello, world!\")\n",
        "\n",
        "#'example.txt' is the name of the file you want to create or overwrite.\n",
        "#'w' mode means write mode. It will create the file if it doesn't exist or overwrite it if it does.\n",
        "#with statement is used to automatically close the file after the block is executed.\n",
        "#file.write(\"Hello, world!\") writes the string to the file."
      ],
      "metadata": {
        "id": "MvhWDL43aY78"
      },
      "execution_count": 6,
      "outputs": []
    },
    {
      "cell_type": "code",
      "source": [
        "#Q2. Write a Python program to read the contents of a file and print each line ?\n",
        "\n",
        "def read_and_print_file(filename):\n",
        "    try:\n",
        "        with open(filename, 'r') as file:\n",
        "            for line in file:\n",
        "                print(line, end='')  # end='' prevents adding extra newlines\n",
        "    except FileNotFoundError:\n",
        "        print(f\"Error: The file '{filename}' was not found.\")\n",
        "    except IOError:\n",
        "        print(f\"Error: An I/O error occurred while reading '{filename}'.\")\n",
        "\n",
        "# Replace 'example.txt' with your desired file name\n",
        "read_and_print_file('example.txt')\n",
        "\n",
        "\n",
        "#open(filename, 'r') opens the file in read mode.\n",
        "#with ensures the file is properly closed after reading.\n",
        "#for line in file reads the file line-by-line.\n",
        "#print(line, end='') prints each line without adding an extra newline.\n",
        "#try-except blocks handle potential errors like missing files."
      ],
      "metadata": {
        "colab": {
          "base_uri": "https://localhost:8080/"
        },
        "id": "mApzfm2qumOy",
        "outputId": "95094827-3052-479b-824e-e7c001771a7b"
      },
      "execution_count": 3,
      "outputs": [
        {
          "output_type": "stream",
          "name": "stdout",
          "text": [
            "Hello, world!"
          ]
        }
      ]
    },
    {
      "cell_type": "code",
      "source": [
        "#3. How would you handle a case where the file doesn't exist while trying to open it for reading ?\n",
        "\n",
        "filename = 'nonexistent_file.txt'\n",
        "\n",
        "try:\n",
        "    with open(filename, 'r') as file:\n",
        "        content = file.read()\n",
        "        print(content)\n",
        "except FileNotFoundError:\n",
        "    print(f\"Error: The file '{filename}' does not exist.\")\n",
        "\n",
        "\n",
        "#The open(filename, 'r') line attempts to open the file in read mode.\n",
        "#If the file doesn’t exist, Python raises a FileNotFoundError.\n",
        "#The except FileNotFoundError block catches that exception and prints a user-friendly error message."
      ],
      "metadata": {
        "id": "q1WGodcGfMrM",
        "colab": {
          "base_uri": "https://localhost:8080/"
        },
        "outputId": "a4d07fc6-a084-4ebc-fc87-38b421d8bd89"
      },
      "execution_count": 9,
      "outputs": [
        {
          "output_type": "stream",
          "name": "stdout",
          "text": [
            "Error: The file 'nonexistent_file.txt' does not exist.\n"
          ]
        }
      ]
    },
    {
      "cell_type": "code",
      "source": [
        "#Q4. Write a Python script that reads from one file and writes its content to another file\n",
        "\n",
        "def copy_file(source_filename, destination_filename):\n",
        "    try:\n",
        "        with open(source_filename, 'r') as source_file:\n",
        "            content = source_file.read()\n",
        "\n",
        "        with open(destination_filename, 'w') as destination_file:\n",
        "            destination_file.write(content)\n",
        "\n",
        "        print(f\"Content copied from '{source_filename}' to '{destination_filename}' successfully.\")\n",
        "    except FileNotFoundError:\n",
        "        print(f\"Error: The file '{source_filename}' does not exist.\")\n",
        "    except IOError as e:\n",
        "        print(f\"An I/O error occurred: {e}\")\n",
        "\n",
        "# Example usage\n",
        "copy_file('source.txt', 'destination.txt')\n",
        "\n",
        "#Reads the entire content of source.txt.\n",
        "#Writes the content into destination.txt.\n",
        "#Handles errors such as:\n",
        "#FileNotFoundError (if the source file is missing),\n",
        "#General IOError for other I/O-related issues."
      ],
      "metadata": {
        "id": "jXHGVdFJfNFf",
        "colab": {
          "base_uri": "https://localhost:8080/"
        },
        "outputId": "71a52eba-b517-4cae-869d-3ff92a70433b"
      },
      "execution_count": 11,
      "outputs": [
        {
          "output_type": "stream",
          "name": "stdout",
          "text": [
            "Error: The file 'source.txt' does not exist.\n"
          ]
        }
      ]
    },
    {
      "cell_type": "code",
      "source": [],
      "metadata": {
        "id": "h3ewKU2MfNaa"
      },
      "execution_count": null,
      "outputs": []
    },
    {
      "cell_type": "code",
      "source": [],
      "metadata": {
        "id": "H4bCf7q1fN2i"
      },
      "execution_count": null,
      "outputs": []
    },
    {
      "cell_type": "code",
      "source": [],
      "metadata": {
        "id": "OsMw48EqfPtR"
      },
      "execution_count": null,
      "outputs": []
    },
    {
      "cell_type": "code",
      "source": [],
      "metadata": {
        "id": "O-o-FNq1fP17"
      },
      "execution_count": null,
      "outputs": []
    },
    {
      "cell_type": "code",
      "source": [],
      "metadata": {
        "id": "GEgxQTuifP-X"
      },
      "execution_count": null,
      "outputs": []
    },
    {
      "cell_type": "code",
      "source": [],
      "metadata": {
        "id": "l2r8GW4JfQGq"
      },
      "execution_count": null,
      "outputs": []
    },
    {
      "cell_type": "code",
      "source": [],
      "metadata": {
        "id": "i2Ew0bbxfQNx"
      },
      "execution_count": null,
      "outputs": []
    },
    {
      "cell_type": "code",
      "source": [],
      "metadata": {
        "id": "xZjc8JyZfQVv"
      },
      "execution_count": null,
      "outputs": []
    },
    {
      "cell_type": "code",
      "source": [],
      "metadata": {
        "id": "7z1IKC63fQea"
      },
      "execution_count": null,
      "outputs": []
    },
    {
      "cell_type": "code",
      "source": [],
      "metadata": {
        "id": "HGI65f-vfQmO"
      },
      "execution_count": null,
      "outputs": []
    },
    {
      "cell_type": "code",
      "source": [],
      "metadata": {
        "id": "O1p5sUKyfQvd"
      },
      "execution_count": null,
      "outputs": []
    },
    {
      "cell_type": "code",
      "source": [],
      "metadata": {
        "id": "mbd3BKorfQ36"
      },
      "execution_count": null,
      "outputs": []
    },
    {
      "cell_type": "code",
      "source": [],
      "metadata": {
        "id": "7mQMzSVkfRBQ"
      },
      "execution_count": null,
      "outputs": []
    },
    {
      "cell_type": "code",
      "source": [],
      "metadata": {
        "id": "IgCj36UCfRJy"
      },
      "execution_count": null,
      "outputs": []
    },
    {
      "cell_type": "code",
      "source": [],
      "metadata": {
        "id": "rvfdBuLMfRSY"
      },
      "execution_count": null,
      "outputs": []
    },
    {
      "cell_type": "code",
      "source": [],
      "metadata": {
        "id": "LHuiTRSefRaf"
      },
      "execution_count": null,
      "outputs": []
    },
    {
      "cell_type": "code",
      "source": [],
      "metadata": {
        "id": "gDtHJ5OWfRiv"
      },
      "execution_count": null,
      "outputs": []
    },
    {
      "cell_type": "code",
      "source": [],
      "metadata": {
        "id": "aEDbVvLwfRq4"
      },
      "execution_count": null,
      "outputs": []
    },
    {
      "cell_type": "code",
      "source": [],
      "metadata": {
        "id": "GJJu3gLKfR1u"
      },
      "execution_count": null,
      "outputs": []
    }
  ]
}