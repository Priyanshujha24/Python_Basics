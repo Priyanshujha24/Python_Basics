{
  "nbformat": 4,
  "nbformat_minor": 0,
  "metadata": {
    "colab": {
      "provenance": []
    },
    "kernelspec": {
      "name": "python3",
      "display_name": "Python 3"
    },
    "language_info": {
      "name": "python"
    }
  },
  "cells": [
    {
      "cell_type": "markdown",
      "source": [
        "#***Theory Questions***"
      ],
      "metadata": {
        "id": "LOF6P9z5asjI"
      }
    },
    {
      "cell_type": "markdown",
      "source": [
        "Q1. What is Object-Oriented Programming (OOP) ?\n",
        "\n",
        "Ans. Object-Oriented Programming (OOP) is a programming paradigm based on the concept of 'objects', which are instances of classes. It helps organize code by grouping data and behavior together, making programs more modular, reusable, and easier to maintain. Key principles of OOP include encapsulation, inheritance, polymorphism, and abstraction.\n",
        "\n",
        "Eg:\n",
        "\n",
        "    class Animal:\n",
        "      def speak(self):\n",
        "          print(\"Animal speaks\")\n",
        "\n",
        "    class Dog(Animal):\n",
        "        def speak(self):\n",
        "            print(\"Dog barks\")\n",
        "\n",
        "    a = Animal()\n",
        "    d = Dog()\n",
        "\n",
        "    a.speak()  # Output: Animal speaks\n",
        "    d.speak()  # Output: Dog barks"
      ],
      "metadata": {
        "id": "0K6W3diDY7Tu"
      }
    },
    {
      "cell_type": "markdown",
      "source": [
        "Q2. What is a class in OOP ?\n",
        "\n",
        "Ans. A class in Object-Oriented Programming (OOP) is a blueprint or template for creating objects. It defines a set of attributes (data) and methods (functions) that the created objects will have.\n",
        "\n",
        "Eg:\n",
        "\n",
        "    class Car:\n",
        "    def __init__(self, brand):\n",
        "        self.brand = brand\n",
        "\n",
        "    def drive(self):\n",
        "        print(f\"{self.brand} is driving.\")\n",
        "\n",
        "    my_car = Car(\"Toyota\")\n",
        "    my_car.drive()  # Output: Toyota is driving."
      ],
      "metadata": {
        "id": "ZzEJU32oZKav"
      }
    },
    {
      "cell_type": "markdown",
      "source": [
        "Q3. What is an object in OOP ?\n",
        "\n",
        "Ans. An object in Object-Oriented Programming (OOP) is a real-world instance of a class. It contains both data (attributes) and functions (methods) that define its behavior. Objects allow you to create multiple independent instances from the same class, each with its own state and behavior.\n",
        "\n",
        "Eg:\n",
        "\n",
        "    class Car:\n",
        "        def __init__(self, brand):\n",
        "            self.brand = brand\n",
        "\n",
        "        def drive(self):\n",
        "            print(f\"{self.brand} is driving.\")\n",
        "\n",
        "    #Creating an object of the Car class\n",
        "    my_car = Car(\"Honda\")\n",
        "    my_car.drive()  # Output: Honda is driving.\n",
        "\n",
        "\n",
        "    #Here, my_car is an object of Car class.\n"
      ],
      "metadata": {
        "id": "EXMqahXSZK_o"
      }
    },
    {
      "cell_type": "markdown",
      "source": [
        "Q4. What is the difference between abstraction and encapsulation ?\n",
        "\n",
        "Ans. Encapsulation enables abstraction.\n",
        "\n",
        "Encapsulation is fundamental act of combining properties and methods related to the same entity.\n",
        "\n",
        "The aim of Abstraction is to reduce/hiding complexity by providing a simplified high level interface to interact with.\n",
        "\n",
        "Abstraction = Hide implementation → \"What it does\"\n",
        "\n",
        "Encapsulation = Hide data → \"How it's done safely\"\n",
        "\n",
        "Encapsulation Example: The balance is hidden (__balance) and can only be accessed via get_balance().\n",
        "\n",
        "    class BankAccount:\n",
        "        def __init__(self, balance):\n",
        "            self.__balance = balance  # Private attribute\n",
        "\n",
        "        def get_balance(self):\n",
        "            return self.__balance     # Controlled access\n",
        "\n",
        "    acc = BankAccount(1000)\n",
        "    print(acc.get_balance())  # Output: 1000\n",
        "\n",
        "\n",
        "Abstraction Example : The user only knows that make_sound() works; they don’t need to know how it’s implemented.\n",
        "\n",
        "    from abc import ABC, abstractmethod\n",
        "\n",
        "    class Animal(ABC):               # Abstract base class\n",
        "        @abstractmethod\n",
        "        def make_sound(self):\n",
        "            pass\n",
        "\n",
        "    class Dog(Animal):\n",
        "        def make_sound(self):\n",
        "            print(\"Bark\")\n",
        "\n",
        "    d = Dog()\n",
        "    d.make_sound()  # Output: Bark\n"
      ],
      "metadata": {
        "id": "NiRpX0UgZLud"
      }
    },
    {
      "cell_type": "markdown",
      "source": [
        "Q5. What are dunder methods in Python ?\n",
        "\n",
        "Ans. Dunder methods (short for \"double underscore\" methods) in Python are special built-in methods that start and end with double underscores. They are also called magic methods, and they let us define how objects of your class behave with built-in functions and operators.\n",
        "\n",
        "It provides infrastructure for every class.\n",
        "\n",
        "It resides in 'Object' class and every class (predefined or userdefined) inherit Object class automatically.\n",
        "\n",
        "Example :\n",
        "    \n",
        "    class Book:\n",
        "      def __init__(self, title):\n",
        "          self.title = title\n",
        "\n",
        "      def __str__(self):\n",
        "          return f\"Book title: {self.title}\"\n",
        "\n",
        "    b = Book(\"1984\")\n",
        "    print(b)  # Output: Book title: 1984\n",
        "\n",
        "\n",
        "    #`__init__` initializes the object.\n",
        "    #`__str__` customizes how it prints."
      ],
      "metadata": {
        "id": "G-k3qPWWZL25"
      }
    },
    {
      "cell_type": "markdown",
      "source": [
        "Q6. Explain the concept of inheritance in OOP ?\n",
        "\n",
        "Ans. Inheritance means creating new classes(called subclass or derived class or child class) based on existing classes(called base class or super class), inheriting their properties and methods.\n",
        "\n",
        "Subclasses can override existing feature. Inheritnce also allows for a very important OOP concept called Polymorphism.\n",
        "\n",
        "Eg:\n",
        "\n",
        "    class Animal:\n",
        "        def speak(self):\n",
        "            print(\"Animal makes a sound\")\n",
        "\n",
        "    class Dog(Animal):\n",
        "        def speak(self):\n",
        "            super().speak()       # Call the parent class method\n",
        "            print(\"Dog barks\")    # Add custom behavior\n",
        "\n",
        "    d = Dog()\n",
        "    d.speak()\n",
        "\n",
        "\n",
        "    --> Dog inherits from Animal.\n",
        "    --> Dog overrides the speak() method.\n",
        "    --> super().speak() calls the parent class's version of the method."
      ],
      "metadata": {
        "id": "YePUa5EsZL90"
      }
    },
    {
      "cell_type": "markdown",
      "source": [
        "Q7. What is polymorphism in OOP ?\n",
        "\n",
        "Ans. Polymorphism in Object-Oriented Programming (OOP) allows objects of different classes to be treated as objects of a common base class, and lets the same method name behave differently depending on the object’s class.\n",
        "\n",
        "Eg:\n",
        "    class Animal:\n",
        "        def speak(self):\n",
        "            print(\"Animal makes a sound\")\n",
        "\n",
        "    class Dog(Animal):\n",
        "        def speak(self):\n",
        "            print(\"Dog barks\")\n",
        "\n",
        "    class Cat(Animal):\n",
        "        def speak(self):\n",
        "            print(\"Cat meows\")\n",
        "\n",
        "    # Polymorphism in action\n",
        "    for animal in [Dog(), Cat()]:\n",
        "        animal.speak()\n",
        "\n",
        "    The same method call (animal.speak()) behaves differently depending on the object — that's polymorphism."
      ],
      "metadata": {
        "id": "q9Ve7VP5ZMHb"
      }
    },
    {
      "cell_type": "markdown",
      "source": [
        "Q8. How is encapsulation achieved in Python ?\n",
        "\n",
        "Ans. Encapsulation in Python is the concept of restricting direct access to some of an object’s internal data and methods, to protect the integrity of the data.\n",
        "\n",
        "It is achieved by using access modifiers:\n",
        "\n",
        "_single_underscore: protected (convention)\n",
        "\n",
        "__double_underscore: private (name mangling)\n",
        "\n",
        "Example :\n",
        "\n",
        "    class BankAccount:\n",
        "        def __init__(self, balance):\n",
        "            self.__balance = balance  # Private attribute\n",
        "\n",
        "        def get_balance(self):\n",
        "            return self.__balance     # Controlled access\n",
        "\n",
        "        def deposit(self, amount):\n",
        "            self.__balance += amount\n",
        "\n",
        "    acc = BankAccount(1000)\n",
        "    acc.deposit(500)\n",
        "    print(acc.get_balance())  # Output: 1500\n",
        "\n",
        "    #--> __balance is private, can't be accessed directly (acc.__balance will error).\n",
        "\n",
        "    #--> Access is given only through methods like get_balance() and deposit()."
      ],
      "metadata": {
        "id": "22BPd7jbZMP5"
      }
    },
    {
      "cell_type": "markdown",
      "source": [
        "Q9. What is a constructor in Python ?\n",
        "\n",
        "Ans. Constructor is a special method that invokes automatically when object is created for initialization. In python, `__init__()` is a constructor used to initialize the object's attributes with default or provided values.\n",
        "\n",
        "Example :\n",
        "\n",
        "    class Person:\n",
        "    def __init__(self, name):\n",
        "        self.name = name  # Attribute initialization\n",
        "\n",
        "    p = Person(\"Alice\")\n",
        "    print(p.name)  # Output: Alice"
      ],
      "metadata": {
        "id": "mSxIZmiGZMZo"
      }
    },
    {
      "cell_type": "markdown",
      "source": [
        "Q10. What are class and static methods in Python ?\n",
        "\n",
        "Ans. ✅ Class Method :\n",
        "\n",
        "--> A class method is a method that is bound to the class, not the instance.\n",
        "\n",
        "--> It can access and modify class-level data, and is marked with the @classmethod decorator.\n",
        "\n",
        "--> It takes cls (the class itself) as the first argument.\n",
        "\n",
        "\n",
        "✅ Static Method :\n",
        "--> A static method does not take self or cls as its first parameter.\n",
        "\n",
        "--> It belongs to the class but cannot access or modify class or instance data.\n",
        "\n",
        "--> It is marked with the @staticmethod decorator and behaves like a regular function inside a class.\n",
        "\n",
        "\n",
        "Example :\n",
        "\n",
        "    class Employee:\n",
        "        company_name = \"TechCorp\"  # Class variable shared by all\n",
        "\n",
        "        def __init__(self, name, salary):\n",
        "            self.name = name         # Instance variable\n",
        "            self.salary = salary\n",
        "\n",
        "        def show_details(self):      # Instance method\n",
        "            print(f\"{self.name} earns ${self.salary} at {Employee.company_name}\")\n",
        "\n",
        "        @classmethod\n",
        "        def change_company(cls, new_name):  # Class method\n",
        "            cls.company_name = new_name\n",
        "\n",
        "        @staticmethod\n",
        "        def is_workday(day):        # Static method\n",
        "            return day.lower() not in ['saturday', 'sunday']\n",
        "\n",
        "\n",
        "    # Create an employee object\n",
        "    e1 = Employee(\"Alice\", 60000)\n",
        "\n",
        "    # Instance method\n",
        "    e1.show_details()  # Output: Alice earns $60000 at TechCorp\n",
        "\n",
        "    # Class method\n",
        "    Employee.change_company(\"CodeWorks\")\n",
        "    e1.show_details()  # Output: Alice earns $60000 at CodeWorks\n",
        "\n",
        "    # Static method\n",
        "    print(Employee.is_workday(\"Monday\"))   # Output: True\n",
        "    print(Employee.is_workday(\"Sunday\"))   # Output: False\n"
      ],
      "metadata": {
        "id": "2bSfprlOZMe-"
      }
    },
    {
      "cell_type": "markdown",
      "source": [
        "Q11. What is method overloading in Python ?\n",
        "Ans. Method overloading is a concept and not only associated with python. Method Overloading means having multiple methods with the same name but different parameters in the same class.\n",
        "\n",
        "But implementing method overloading in python is not looks traditional like java or c++. Python simulates method overloading by using:\n",
        "\n",
        "--> Default arguments\n",
        "\n",
        "--> Variable-length arguments (*args, **kwargs)\n",
        "\n",
        "Example :\n",
        "\n",
        "    class Calculator:\n",
        "        def add(self, *args):\n",
        "            return sum(args)\n",
        "\n",
        "    calc = Calculator()\n",
        "\n",
        "    print(calc.add(1, 2))            # Output: 3\n",
        "    print(calc.add(1, 2, 3, 4, 5))   # Output: 15\n"
      ],
      "metadata": {
        "id": "z1RVQwuNZMmo"
      }
    },
    {
      "cell_type": "markdown",
      "source": [
        "Q12. What is method overriding in OOP ?\n",
        "\n",
        "Ans. Method overriding occurs when a subclass provides its own version of a method that is already defined in its parent class. It allows you to customize or extend the behavior of a method in a child class.\n",
        "\n",
        "Example :\n",
        "\n",
        "    class Animal:\n",
        "        def speak(self):\n",
        "            print(\"Animal makes a sound\")\n",
        "\n",
        "    class Dog(Animal):\n",
        "    def speak(self):\n",
        "        super().speak()          # Call parent method\n",
        "        print(\"Dog barks\")       # Add custom behavior\n",
        "\n",
        "    # Usage\n",
        "    d = Dog()\n",
        "    d.speak()  # Output: Dog barks (overrides parent method)"
      ],
      "metadata": {
        "id": "rK0n4o-5ZMw_"
      }
    },
    {
      "cell_type": "markdown",
      "source": [
        "Q13. What is a property decorator in Python ?\n",
        "\n",
        "Ans. Decorator modifies the behavior of a method or property. The @property decorator in Python is used to define a method as a read-only attribute — meaning you can access it like a variable, but it behaves like a method behind the scenes.\n",
        "\n",
        "We Use @property to hide internal implementation, to add logic to attribute access and to prevent direct modification of sensitive data.\n",
        "\n",
        "Ex:\n",
        "\n",
        "    class Person:\n",
        "        def __init__(self, name):\n",
        "            self._name = name\n",
        "\n",
        "        @property\n",
        "        def name(self):         # Getter\n",
        "            return self._name\n",
        "\n",
        "        @name.setter\n",
        "        def name(self, value):  # Setter\n",
        "            if value:\n",
        "                self._name = value\n",
        "            else:\n",
        "                raise ValueError(\"Name cannot be empty\")\n",
        "\n",
        "        @name.deleter\n",
        "        def name(self):         # Deleter\n",
        "            del self._name\n",
        "\n",
        "    p = Person(\"Alice\")\n",
        "    print(p.name)       # Output: Alice\n",
        "    p.name = \"Bob\"      # Calls setter\n",
        "    del p.name          # Calls deleter"
      ],
      "metadata": {
        "id": "flCBi35AZM7p"
      }
    },
    {
      "cell_type": "markdown",
      "source": [
        "Q14. Why is polymorphism important in OOP ?\n",
        "\n",
        "Ans. Polymorphism redues repitition. Code becomes easy to debug, easier to understand and maintain because it uses a common interface.\n",
        "\n",
        "Ex:\n",
        "\n",
        "    class Animal:\n",
        "        def speak(self):\n",
        "            print(\"Animal speaks\")\n",
        "\n",
        "    class Dog(Animal):\n",
        "        def speak(self):\n",
        "            print(\"Dog barks\")\n",
        "\n",
        "    class Cat(Animal):\n",
        "        def speak(self):\n",
        "            print(\"Cat meows\")\n",
        "\n",
        "    # Polymorphism in action\n",
        "    def make_animal_speak(animal):\n",
        "        animal.speak()\n",
        "\n",
        "    make_animal_speak(Dog())  # Output: Dog barks\n",
        "    make_animal_speak(Cat())  # Output: Cat meows\n",
        "\n",
        "\n",
        "    '''The function make_animal_speak() works with any subclass of Animal, without caring about the exact type.'''"
      ],
      "metadata": {
        "id": "pHf7EDjjZNDO"
      }
    },
    {
      "cell_type": "markdown",
      "source": [
        "Q15. What is an abstract class in Python ?\n",
        "\n",
        "Ans. Abstract class is a class that cannot be instantiated directly. It's purpose is to serve as a blueprint or a template for other classes.Declared using the ABC (Abstract Base Class) module.It can define abstract methods (methods with no implementation) that must be implemented by any subclass.\n",
        "\n",
        "Ex:\n",
        "\n",
        "    from abc import ABC, abstractmethod\n",
        "\n",
        "    class Animal(ABC):              # Abstract class\n",
        "        @abstractmethod\n",
        "        def speak(self):            # Abstract method\n",
        "            pass\n",
        "\n",
        "    class Dog(Animal):\n",
        "        def speak(self):\n",
        "            print(\"Dog barks\")\n",
        "\n",
        "    # a = Animal()  ❌ Error: Can't instantiate abstract class\n",
        "    d = Dog()\n",
        "    d.speak()       # Output: Dog barks\n",
        "\n",
        "\n",
        "    #Animal is an abstract class.\n",
        "    #speak() is an abstract method — must be implemented in Dog.\n",
        "    #Abstract classes enforce structure and ensure consistent method names in all subclasses."
      ],
      "metadata": {
        "id": "QNQ7Gg9vZNMI"
      }
    },
    {
      "cell_type": "markdown",
      "source": [
        "Q16. What are the advantages of OOP ?\n",
        "Ans. Object-Oriented Programming (OOP) offers several advantages that make it ideal for building robust and maintainable software. It promotes modularity by organizing code into classes and objects, making it easier to manage. Reusability is achieved through inheritance, allowing code to be reused and extended without duplication. Encapsulation protects internal object data by restricting direct access, improving security and reliability. Abstraction hides unnecessary details and presents only essential features, reducing complexity. With polymorphism, the same method can behave differently across different classes, allowing for flexible and scalable code. Overall, OOP improves maintainability, encourages collaboration, and supports clean, well-structured software design.\n",
        "\n",
        "Ex: it would be a long example to cover every aspects of OOP, however here is a small example demonstrating basic concepts of OOP.\n",
        "\n",
        "    class Vehicle:\n",
        "        def __init__(self, brand):\n",
        "            self.brand = brand\n",
        "\n",
        "        def drive(self):\n",
        "            print(f\"{self.brand} vehicle is driving.\")\n",
        "\n",
        "    class Car(Vehicle):  # Inheritance\n",
        "        def drive(self):  # Polymorphism (method overriding)\n",
        "            print(f\"{self.brand} car is driving smoothly.\")\n",
        "\n",
        "    # Create objects\n",
        "    v = Vehicle(\"Generic\")\n",
        "    c = Car(\"Toyota\")\n",
        "\n",
        "    v.drive()  # Output: Generic vehicle is driving.\n",
        "    c.drive()  # Output: Toyota car is driving smoothly.\n",
        "\n",
        "\n",
        "    #Class & Object: Vehicle, Car, v, and c\n",
        "    #Encapsulation: brand is part of the object\n",
        "    #Inheritance: Car inherits from Vehicle\n",
        "    #Polymorphism: drive() method behaves differently in Car"
      ],
      "metadata": {
        "id": "ml4v5sr-ZNRs"
      }
    },
    {
      "cell_type": "markdown",
      "source": [
        "Q17. What is the difference between a class variable and an instance variable ?\n",
        "\n",
        "Ans. class variable is often called static variable. They exist in the class namespace. It is declared inside class but ouside any method and shared among all instances. It is accessed via class name followed by dot(.) operator and variable name. class variable don't change on instance creation.\n",
        "\n",
        "Instance variables belong to specific instances of a class, not the class itself. Each instance gets its own separate copy. it comes into memory when an instance is created (when we call the class constructor). It is defined inside __init__ or instance methods. It is unique to each instance.\n",
        "\n",
        "Eg:\n",
        "\n",
        "    class Student:\n",
        "        school = \"Green High\"  # Class variable (shared)\n",
        "\n",
        "        def __init__(self, name):\n",
        "            self.name = name   # Instance variable (unique)\n",
        "\n",
        "    # Create two students\n",
        "    s1 = Student(\"Alice\")\n",
        "    s2 = Student(\"Bob\")\n",
        "\n",
        "    # Change instance variable\n",
        "    s1.name = \"Alicia\"\n",
        "\n",
        "    # Change class variable via class\n",
        "    Student.school = \"Blue High\"\n",
        "\n",
        "    # Change class variable via instance (creates a new instance variable!)\n",
        "    s2.school = \"Red High\"\n",
        "\n",
        "    # Print values\n",
        "    print(s1.name)     # Alicia (changed only for s1)\n",
        "    print(s2.name)     # Bob\n",
        "\n",
        "    print(s1.school)   # Blue High (inherited from class)\n",
        "    print(s2.school)   # Red High (new instance variable for s2)\n",
        "    print(Student.school)  # Blue High (original class variable)\n",
        "\n",
        "    #s1.name changed — only affects s1 (instance variable).\n",
        "    #Student.school changed — affects all instances unless overridden.\n",
        "    #s2.school = \"Red High\" creates a new instance variable that hides the class variable.\n"
      ],
      "metadata": {
        "id": "joI3-3wVZNZf"
      }
    },
    {
      "cell_type": "markdown",
      "source": [
        "Q18. What is multiple inheritance in Python?\n",
        "\n",
        "Ans. Multiple inheritance is a feature in Python where a class can inherit from more than one parent class. This allows the child class to access attributes and methods of all its parent classes.\n",
        "\n",
        "Example:\n",
        "\n",
        "    class Father:\n",
        "        def skills(self):\n",
        "            print(\"Father: Cooking\")\n",
        "\n",
        "    class Mother:\n",
        "        def skills(self):\n",
        "            print(\"Mother: Painting\")\n",
        "\n",
        "    class Child(Father, Mother):  # Inherits from both\n",
        "        def skills(self):\n",
        "            super().skills()       # Calls Father’s method due to MRO\n",
        "            print(\"Child: Coding\")\n",
        "\n",
        "    c = Child()\n",
        "    c.skills()\n",
        "\n",
        "    #Python uses Method Resolution Order (MRO) —\n",
        "    it looks for methods in the order\n",
        "    the parent classes are listed (Father first in this case).\n",
        "    The MRO is typically calculated using the C3 linearization algorithm, ensuring a consistent and predictable search order.\n",
        "\n",
        "    #we can still call specific parent methods directly if needed: Mother.skills(self)"
      ],
      "metadata": {
        "id": "VSWPdUphcJqG"
      }
    },
    {
      "cell_type": "markdown",
      "source": [
        "Q19. Explain the purpose of `__str__` and `__repr__` methods in Python.\n",
        "\n",
        "Ans. Both __str__ and __repr__ are special (dunder) methods used to define how an object is represented as a string. These methods resides in Object class and the Object class is inherited by every class.\n",
        "\n",
        "__str__ defines the \"informal\" or user-friendly string representation of an object.It is called by print() or str(obj). It's goal is to provide readable and clean output. print() uses __str__ by default.\n",
        "\n",
        " __repr__ creates an \"official\" string representation meant for developers. It should be unambiguous and ideally show how to recreate the object. Called by repr(obj) or in the Python shell.It is used for debugging.\n",
        "\n",
        "Interactive shells, debuggers, and containers (like lists) use __repr__. If __str__ isn't defined, Python falls back to __repr__. A good __repr__ should let us recreate the object: eval(repr(obj)) == obj\n",
        "\n",
        "\n",
        "\n",
        "Ex:\n",
        "\n",
        "    class Book:\n",
        "        def __init__(self, title, author):\n",
        "            self.title = title\n",
        "            self.author = author\n",
        "\n",
        "        def __str__(self):\n",
        "            return f\"'{self.title}' by {self.author}\"\n",
        "\n",
        "        def __repr__(self):\n",
        "            return f\"Book('{self.title}', '{self.author}')\"\n",
        "\n",
        "    b = Book(\"1984\", \"George Orwell\")\n",
        "\n",
        "    print(str(b))    # Output: '1984' by George Orwell\n",
        "    print(repr(b))   # Output: Book('1984', 'George Orwell')\n"
      ],
      "metadata": {
        "id": "NXLfVSzjcKGr"
      }
    },
    {
      "cell_type": "markdown",
      "source": [
        "Q20. What is the significance of the `super()` function in Python?\n",
        "\n",
        "Ans. The super() function in Python is used to give access to methods and properties of a parent class. It is commonly used in inheritance to call methods from a parent class without explicitly naming it. This helps make code more maintainable and allows to take advantage of the Method Resolution Order (MRO) in multiple inheritance scenarios. It ensures proper initialization when using multiple inheritance.\n",
        "\n",
        "Ex:\n",
        "\n",
        "    class Animal:\n",
        "        def __init__(self, name):\n",
        "            self.name = name\n",
        "\n",
        "        def speak(self):\n",
        "            return f\"{self.name} makes a sound\"\n",
        "\n",
        "    class Dog(Animal):\n",
        "        def __init__(self, name, breed):\n",
        "            super().__init__(name)  # Call to parent class constructor\n",
        "            self.breed = breed\n",
        "\n",
        "        def speak(self):\n",
        "            return f\"{self.name} barks\"\n",
        "\n",
        "    dog = Dog(\"Rex\", \"Labrador\")\n",
        "    print(dog.speak())  # Output: Rex barks\n",
        "\n",
        "    #In this example:\n",
        "    super().__init__(name) calls the __init__ method of the Animal class."
      ],
      "metadata": {
        "id": "QclTloF4cKOh"
      }
    },
    {
      "cell_type": "markdown",
      "source": [
        "Q21. What is the significance of the __del__ method in Python ?\n",
        "\n",
        "Ans. The __del__ method in Python is known as a destructor. It is called when an object is about to be destroyed, typically when it is garbage collected (i.e., when there are no more references to the object).Significance of __del__ is that it is used to release resources like closing files, network connections, or database connections.\n",
        "\n",
        "But, we shouldn't rely on __del__ for critical resource cleanup because the timing of its call is not guaranteed, especially in complex programs or circular references. In modern Python code, it's better to use context managers (i.e., with statements) for resource management instead of relying on __del__.\n",
        "\n",
        "Ex:\n",
        "\n",
        "    class FileHandler:\n",
        "        def __init__(self, filename):\n",
        "            self.file = open(filename, 'w')\n",
        "            print(f\"Opened file {filename}\")\n",
        "\n",
        "        def write_data(self, data):\n",
        "            self.file.write(data)\n",
        "\n",
        "        def __del__(self):\n",
        "            print(\"Closing file\")\n",
        "            self.file.close()\n",
        "\n",
        "    handler = FileHandler('example.txt')\n",
        "    handler.write_data(\"Hello, world!\")\n",
        "    del handler  # Explicitly deletes the object, triggering __del__\n"
      ],
      "metadata": {
        "id": "SoQRw_GbcKZr"
      }
    },
    {
      "cell_type": "markdown",
      "source": [
        "Q22. What is the difference between @staticmethod and @classmethod in Python?\n",
        "\n",
        "Ans. The @staticmethod decorator defines a method that does not receive an implicit first argument like self or cls. It behaves like a regular function but belongs to the class’s namespace. Static methods are used when the method logic is related to the class but does not need access to class or instance attributes. They're commonly used for utility functions that operate independently of class or instance data. we\n",
        "\n",
        "The @classmethod decorator, on the other hand, defines a method that receives the class (cls) as its first argument. This allows the method to access and modify class-level attributes or create instances of the class. Class methods are often used for factory methods or when behavior depends on the class rather than a particular instance.\n",
        "\n",
        "Eg:\n",
        "\n",
        "    class Circle:\n",
        "        pi = 3.14159\n",
        "\n",
        "        def __init__(self, radius):\n",
        "            self.radius = radius\n",
        "\n",
        "        @staticmethod\n",
        "        def area(radius):\n",
        "            return Circle.pi * radius * radius\n",
        "\n",
        "        @classmethod\n",
        "        def from_diameter(cls, diameter):\n",
        "            radius = diameter / 2\n",
        "            return cls(radius)\n",
        "\n",
        "    # Using static method\n",
        "    print(\"Area with radius 5:\", Circle.area(5))  # Output: Area with radius 5: 78.53975\n",
        "\n",
        "    # Using class method to create a Circle instance\n",
        "    c = Circle.from_diameter(10)\n",
        "    print(\"Radius from diameter 10:\", c.radius)  # Output: Radius from diameter 10: 5.0\n",
        "\n",
        "    #area() is a static method that calculates the area and doesn’t need any class or instance data.\n",
        "\n",
        "    #from_diameter() is a class method that creates a new Circle object using the class (cls) and given diameter.\n"
      ],
      "metadata": {
        "id": "c0cuqmxtcKh_"
      }
    },
    {
      "cell_type": "markdown",
      "source": [
        "Q23. How does polymorphism work in Python with inheritance?\n",
        "\n",
        "Ans. Polymorphism in Python with inheritance allows objects of different classes to be treated as objects of a common superclass, enabling the same method to behave differently depending on the object that calls it. This is achieved by defining a method in the base class and then overriding it in derived classes. When a method is called on a base class reference pointing to a subclass object, Python automatically invokes the subclass's version of the method. This supports dynamic method resolution and makes code more flexible and extensible, allowing for generalized interfaces and reusable logic across different types of objects that share a common behavior.\n",
        "\n",
        "Ex:\n",
        "\n",
        "    '''In this example, make_sound() uses polymorphism to call the correct speak() method based on the actual object type.'''\n",
        "    \n",
        "    class Animal:\n",
        "        def speak(self):\n",
        "            return \"Some sound\"\n",
        "\n",
        "    class Dog(Animal):\n",
        "        def speak(self):\n",
        "            return \"Bark\"\n",
        "\n",
        "    class Cat(Animal):\n",
        "        def speak(self):\n",
        "            return \"Meow\"\n",
        "\n",
        "    def make_sound(animal):\n",
        "        print(animal.speak())\n",
        "\n",
        "    make_sound(Dog())  # Output: Bark\n",
        "    make_sound(Cat())  # Output: Meow\n"
      ],
      "metadata": {
        "id": "-qUn0hVacKrr"
      }
    },
    {
      "cell_type": "markdown",
      "source": [
        "Q24. What is method chaining in Python OOP ?\n",
        "\n",
        "Ans. Method chaining in Python OOP is a programming technique where multiple methods are called on the same object in a single statement, one after another. This is possible when each method returns the object itself (self) after performing its operation. Method chaining improves code readability and conciseness, especially when configuring or modifying an object through a series of steps. Its commonly used in fluent interfaces, where each method call modifies the object and returns it, allowing for a streamlined, chainable syntax.\n",
        "\n",
        "Eg:\n",
        "\n",
        "    '''In this example, set_name, set_age, and show all return self, enabling chained method calls.'''\n",
        "    \n",
        "    class Person:\n",
        "        def __init__(self):\n",
        "            self.name = \"\"\n",
        "            self.age = 0\n",
        "\n",
        "        def set_name(self, name):\n",
        "            self.name = name\n",
        "            return self\n",
        "\n",
        "        def set_age(self, age):\n",
        "            self.age = age\n",
        "            return self\n",
        "\n",
        "        def show(self):\n",
        "            print(f\"Name: {self.name}, Age: {self.age}\")\n",
        "            return self\n",
        "\n",
        "    # Method chaining\n",
        "    Person().set_name(\"Alice\").set_age(30).show()\n",
        "    # Output: Name: Alice, Age: 30\n"
      ],
      "metadata": {
        "id": "U2MOdCGzcK1E"
      }
    },
    {
      "cell_type": "markdown",
      "source": [
        "Q25. What is the purpose of the `__call__` method in Python?\n",
        "\n",
        "Ans. The __call__ method in Python allows an instance of a class to be called as if it were a function. This special method makes objects \"callable,\" meaning you can use parentheses () after an object to invoke the __call__ method. Its useful for implementing objects that behave like functions, enabling cleaner syntax in scenarios such as function wrappers, decorators, or when designing classes that perform repeated actions. By defining __call__, you can encapsulate function-like behavior within a class while maintaining object-oriented structure and state.\n",
        "\n",
        "Eg:\n",
        "\n",
        "    '''In this example, calling double(5) actually invokes double.__call__(5), multiplying the input by the stored factor.'''\n",
        "\n",
        "    class Multiplier:\n",
        "        def __init__(self, factor):\n",
        "            self.factor = factor\n",
        "\n",
        "        def __call__(self, value):\n",
        "            return self.factor * value\n",
        "\n",
        "    double = Multiplier(2)\n",
        "    print(double(5))  # Output: 10\n"
      ],
      "metadata": {
        "id": "F4vPe9ZrcK_B"
      }
    },
    {
      "cell_type": "markdown",
      "source": [
        "#***Practicle Questions***"
      ],
      "metadata": {
        "id": "LqHOQpAia5yn"
      }
    },
    {
      "cell_type": "code",
      "execution_count": null,
      "metadata": {
        "colab": {
          "base_uri": "https://localhost:8080/"
        },
        "id": "EFJXkv9FY0Ts",
        "outputId": "50df77b5-fccc-4344-c509-e8ae645d71d2"
      },
      "outputs": [
        {
          "output_type": "stream",
          "name": "stdout",
          "text": [
            "Bark!\n"
          ]
        }
      ],
      "source": [
        "'''1. Create a parent class Animal with a method speak() that prints a generic message. Create a child class Dog\n",
        "that overrides the speak() method to print \"Bark!\".'''\n",
        "class Animal:\n",
        "  def speak(self):\n",
        "    print (\"Animals do have a voice\")\n",
        "\n",
        "class Dog(Animal):\n",
        "  def speak(self):\n",
        "    print(\"Bark!\")\n",
        "\n",
        "dog = Dog()\n",
        "dog.speak()"
      ]
    },
    {
      "cell_type": "code",
      "source": [
        "'''2. Write a program to create an abstract class Shape with a method area(). Derive classes Circle and Rectangle\n",
        "from it and implement the area() method in both.'''\n",
        "from abc import ABC, abstractmethod\n",
        "class Shape(ABC):\n",
        "\n",
        "  @abstractmethod\n",
        "  def area(self):\n",
        "    pass\n",
        "\n",
        "class Circle(Shape):\n",
        "  def __init__(self,radius):\n",
        "    self.radius = radius\n",
        "\n",
        "  def area(self):\n",
        "    return 3.14 * self.radius**2\n",
        "\n",
        "class Rectangle(Shape):\n",
        "    def __init__(self,length,breadth):\n",
        "        self.length = length\n",
        "        self.breadth = breadth\n",
        "\n",
        "    def area(self):\n",
        "        return self.length*self.breadth\n",
        "\n",
        "circle1 = Circle(7)\n",
        "area_of_circle1 = circle1.area()\n",
        "rectangle1 = Rectangle(5,7)\n",
        "area_of_rectangle1 = rectangle1.area()\n",
        "print(f'the area of the circle is {area_of_circle1} sq. unit')\n",
        "print(f'the area of the rectangle is {area_of_rectangle1} sq. unit')"
      ],
      "metadata": {
        "id": "_ABRkAoxcxC8",
        "colab": {
          "base_uri": "https://localhost:8080/"
        },
        "outputId": "3a471593-a5b5-4de4-d06c-efb1bd8a0463"
      },
      "execution_count": null,
      "outputs": [
        {
          "output_type": "stream",
          "name": "stdout",
          "text": [
            "the area of the circle is 153.86 sq. unit\n",
            "the area of the rectangle is 35 sq. unit\n"
          ]
        }
      ]
    },
    {
      "cell_type": "code",
      "source": [
        "'''3. Implement a multi-level inheritance scenario where a class Vehicle has an attribute type. Derive a class Car\n",
        "and further derive a class ElectricCar that adds a battery attribute.'''\n",
        "\n",
        "class Vehicle(): #The base class or parent class\n",
        "  def __init__(self, type):\n",
        "    self.type = type # type attribute as asked in the question\n",
        "  def display_info(self):\n",
        "    print(f'this is a {self.type}')\n",
        "\n",
        "class Car(Vehicle): #inheriting base class Vehicle\n",
        "  def __init__(self,type,brand_name):\n",
        "    super().__init__(type) # calling vehicle class __init() to initialize the type\n",
        "    self.brand_name = brand_name\n",
        "  def display_info(self):\n",
        "    super().display_info()\n",
        "    print(f'The car is made by {self.brand_name} company')\n",
        "\n",
        "class ElectricCar(Car): #this is an example of multi-level inheritance\n",
        "  def __init__(self,type,brand_name,battery):\n",
        "    super().__init__(type,brand_name)\n",
        "    self.battery = battery\n",
        "\n",
        "  def display_info(self):\n",
        "    super().display_info()\n",
        "    print(f'the battery capactiy is {self.battery} unit')\n",
        "\n",
        "\n",
        "E1 = ElectricCar(\"Electric car\", \"TATA\", 5000)\n",
        "E1.display_info()"
      ],
      "metadata": {
        "id": "dMp4SWkecxGD",
        "colab": {
          "base_uri": "https://localhost:8080/"
        },
        "outputId": "90b7279a-f319-4c91-9cc9-d4f72d353ae6"
      },
      "execution_count": null,
      "outputs": [
        {
          "output_type": "stream",
          "name": "stdout",
          "text": [
            "this is a Electric car\n",
            "The car is made by TATA company\n",
            "the battery capactiy is 5000 unit\n"
          ]
        }
      ]
    },
    {
      "cell_type": "code",
      "source": [
        "'''4. Demonstrate polymorphism by creating a base class Bird with a method fly(). Create two derived classes\n",
        "Sparrow and Penguin that override the fly() method.'''\n",
        "\n",
        "class Bird():\n",
        "  def fly(self):\n",
        "    print ('Generic flying')\n",
        "\n",
        "class Sparrow(Bird):\n",
        "  def fly(self):\n",
        "    print('Sparrow is flying')\n",
        "class Penguin(Bird):\n",
        "  def fly(self):\n",
        "    print(\"Penguins can't fly\")\n",
        "\n",
        "generic_bird1 = Bird()\n",
        "sparrow1 = Sparrow()\n",
        "penguin1 = Penguin()\n",
        "\n",
        "birds: list[Bird] = [generic_bird1, sparrow1, penguin1]\n",
        "\n",
        "for bird in birds:\n",
        "  bird.fly()"
      ],
      "metadata": {
        "id": "-m6un-JAcxKh",
        "colab": {
          "base_uri": "https://localhost:8080/"
        },
        "outputId": "2f557684-fde4-4c3f-dde3-5b2b8665cd77"
      },
      "execution_count": null,
      "outputs": [
        {
          "output_type": "stream",
          "name": "stdout",
          "text": [
            "Generic flying\n",
            "Sparrow is flying\n",
            "Penguins can't fly\n"
          ]
        }
      ]
    },
    {
      "cell_type": "code",
      "source": [
        "'''5. Write a program to demonstrate encapsulation by creating a class BankAccount with private attributes\n",
        "balance and methods to deposit, withdraw, and check balance.'''\n",
        "\n",
        "class BankAccount:\n",
        "  def __init__(self,balance):\n",
        "    if balance > 0:\n",
        "      self.__balance = balance\n",
        "      print(f'initial amount : {self.__balance}')\n",
        "    else:\n",
        "      print('instantiate only with postive number')\n",
        "\n",
        "  def deposit(self,amount):\n",
        "    if amount > 0:\n",
        "      self.__balance +=amount\n",
        "      print('deposited 500')\n",
        "    else:\n",
        "      print('deposit only with postive amount')\n",
        "\n",
        "  def withdraw(self,amount):\n",
        "    if self.__balance < amount:\n",
        "      return \"insufficient balance\"\n",
        "\n",
        "    self.__balance  -= amount\n",
        "    print(f'withdrawl : {amount}, current balance : {self.__balance}')\n",
        "\n",
        "  def check_balance(self):\n",
        "    return self.__balance\n",
        "\n",
        "account = BankAccount(2000)\n",
        "\n",
        "#we cannot access balance directly\n",
        "#account.__balance ---- this will give error\n",
        "\n",
        "account.deposit(500)\n",
        "account.withdraw(200)\n",
        "print(f'\\ntrying to deposit negative number -200')\n",
        "account.deposit(-200)\n",
        "print(f'\\ntrying to withdraw amount larger than account balance')\n",
        "account.withdraw(5000)"
      ],
      "metadata": {
        "id": "MgIWnFf5cxUK",
        "colab": {
          "base_uri": "https://localhost:8080/",
          "height": 174
        },
        "outputId": "8ded96c4-79ce-4541-96de-83ee4770a052"
      },
      "execution_count": null,
      "outputs": [
        {
          "output_type": "stream",
          "name": "stdout",
          "text": [
            "initial amount : 2000\n",
            "deposited 500\n",
            "withdrawl : 200, current balance : 2300\n",
            "\n",
            "trying to deposit negative number -200\n",
            "deposit only with postive amount\n",
            "\n",
            "trying to withdraw amount larger than account balance\n"
          ]
        },
        {
          "output_type": "execute_result",
          "data": {
            "text/plain": [
              "'insufficient balance'"
            ],
            "application/vnd.google.colaboratory.intrinsic+json": {
              "type": "string"
            }
          },
          "metadata": {},
          "execution_count": 11
        }
      ]
    },
    {
      "cell_type": "code",
      "source": [
        "'''6. Demonstrate runtime polymorphism using a method play() in a base class Instrument. Derive classes Guitar\n",
        "and Piano that implement their own version of play().'''\n",
        "from abc import abstractmethod\n",
        "class Instrument:\n",
        "\n",
        "    @abstractmethod\n",
        "    def play(self):\n",
        "        pass\n",
        "\n",
        "class Guitar(Instrument):\n",
        "    def play(self):\n",
        "        print(\"Strumming guitar strings\")\n",
        "\n",
        "class Piano(Instrument):\n",
        "    def play(self):\n",
        "        print(\"Pressing piano keys\")\n",
        "\n",
        "# Runtime polymorphism\n",
        "instruments = [Guitar(), Piano()]\n",
        "\n",
        "for instrument in instruments:\n",
        "    instrument.play()  # Calls appropriate method based on object type"
      ],
      "metadata": {
        "id": "ZuGUFjRecxXH",
        "colab": {
          "base_uri": "https://localhost:8080/"
        },
        "outputId": "35260bfd-ac05-49c5-c8e1-eb2634c5f743"
      },
      "execution_count": null,
      "outputs": [
        {
          "output_type": "stream",
          "name": "stdout",
          "text": [
            "Strumming guitar strings\n",
            "Pressing piano keys\n"
          ]
        }
      ]
    },
    {
      "cell_type": "code",
      "source": [
        "'''7. Create a class MathOperations with a class method add_numbers() to add two numbers and a static\n",
        "method subtract_numbers() to subtract two numbers.'''\n",
        "\n",
        "class MathOperations:\n",
        "    @classmethod\n",
        "    def add_numbers(cls, a, b):\n",
        "        return a + b\n",
        "\n",
        "    @staticmethod\n",
        "    def subtract_numbers(a, b):\n",
        "        return a - b\n",
        "\n",
        "print(MathOperations.add_numbers(5, 3))      # 8\n",
        "print(MathOperations.subtract_numbers(5, 3))  # 2"
      ],
      "metadata": {
        "id": "n6GPKSh6cxZ5"
      },
      "execution_count": null,
      "outputs": []
    },
    {
      "cell_type": "code",
      "source": [
        "'''8. Implement a class Person with a class method to count the total number of persons created'''\n",
        "\n",
        "class Person:\n",
        "  count = 0\n",
        "  def __init__(self,name):\n",
        "    self.name = name\n",
        "    Person.count+=1\n",
        "  @classmethod\n",
        "  def total_person(cls):\n",
        "    return cls.count\n",
        "\n",
        "person1 = Person('RAAM')\n",
        "person2 = Person(\"SHYAAM\")\n",
        "\n",
        "print(f'total no. of person instance = {Person.total_person()}')"
      ],
      "metadata": {
        "id": "5O0CO6Iqcxda",
        "colab": {
          "base_uri": "https://localhost:8080/"
        },
        "outputId": "1db34f7a-ce23-4a4c-f613-e31a7b5cae29"
      },
      "execution_count": null,
      "outputs": [
        {
          "output_type": "stream",
          "name": "stdout",
          "text": [
            "total no. of person instance = 2\n"
          ]
        }
      ]
    },
    {
      "cell_type": "code",
      "source": [
        "'''9. Write a class Fraction with attributes numerator and denominator. Override the str method to display the\n",
        "fraction as \"numerator/denominator\".'''\n",
        "\n",
        "class Fraction:\n",
        "    def __init__(self, numerator, denominator):\n",
        "        if denominator == 0:\n",
        "            raise ValueError(\"Denominator cannot be zero.\")\n",
        "        self.numerator = numerator\n",
        "        self.denominator = denominator\n",
        "\n",
        "    def __str__(self):\n",
        "        return f\"{self.numerator}/{self.denominator}\"\n",
        "f = Fraction(3, 4)\n",
        "print(f)  # Output: 3/4"
      ],
      "metadata": {
        "id": "ZNMms2UjcxhS",
        "colab": {
          "base_uri": "https://localhost:8080/"
        },
        "outputId": "c5375289-0243-4b3b-8f6c-690cd88477fc"
      },
      "execution_count": null,
      "outputs": [
        {
          "output_type": "stream",
          "name": "stdout",
          "text": [
            "3/4\n"
          ]
        }
      ]
    },
    {
      "cell_type": "code",
      "source": [
        "'''10. Demonstrate operator overloading by creating a class Vector and overriding the add method to add two\n",
        "vectors.'''\n",
        "\n",
        "class Vector:\n",
        "    def __init__(self, x, y):\n",
        "        self.x = x\n",
        "        self.y = y\n",
        "\n",
        "    def __add__(self, other):\n",
        "        if not isinstance(other, Vector):\n",
        "            return NotImplemented\n",
        "        return Vector(self.x + other.x, self.y + other.y)\n",
        "\n",
        "    def __str__(self):\n",
        "        return f\"({self.x}, {self.y})\"\n",
        "v1 = Vector(2, 3)\n",
        "v2 = Vector(4, 5)\n",
        "v3 = v1 + v2\n",
        "print(v3)  # Output: (6, 8)"
      ],
      "metadata": {
        "id": "dHqL_Snxcxkq",
        "colab": {
          "base_uri": "https://localhost:8080/"
        },
        "outputId": "c622cd01-2760-4432-8290-427a78702ad0"
      },
      "execution_count": null,
      "outputs": [
        {
          "output_type": "stream",
          "name": "stdout",
          "text": [
            "(6, 8)\n"
          ]
        }
      ]
    },
    {
      "cell_type": "code",
      "source": [
        "'''11. Create a class Person with attributes name and age. Add a method greet() that prints \"Hello, my name is\n",
        "{name} and I am {age} years old.'''\n",
        "\n",
        "class Person:\n",
        "  def __init__(self,name,age):\n",
        "    self.name = name\n",
        "    self.age = age\n",
        "\n",
        "  def greet(self):\n",
        "    print(f'Hello, my name is {self.name} and I am {self.age} years old.')\n",
        "\n",
        "person = Person(\"priyanshu\",24)\n",
        "person.greet()"
      ],
      "metadata": {
        "id": "L6v4QNRucxov",
        "colab": {
          "base_uri": "https://localhost:8080/"
        },
        "outputId": "f05da308-0ac2-4e0a-91ad-bf7642d4ec32"
      },
      "execution_count": null,
      "outputs": [
        {
          "output_type": "stream",
          "name": "stdout",
          "text": [
            "Hello, my name is priyanshu and I am 24 years old.\n"
          ]
        }
      ]
    },
    {
      "cell_type": "code",
      "source": [
        "'''12. Implement a class Student with attributes name and grades. Create a method average_grade() to compute\n",
        "the average of the grades.'''\n",
        "\n",
        "class Student():\n",
        "  def __init__(self, name, grades):\n",
        "    self.name = name\n",
        "    self.grades = grades\n",
        "\n",
        "  def average_grade(self):\n",
        "    if not self.grades:\n",
        "      return 0\n",
        "    return sum(self.grades)/len(self.grades)\n",
        "\n",
        "ayush = Student('Ayush',[45,67,87,56])\n",
        "print(f'the average of {ayush.name}\\'s grades : {ayush.average_grade():.2f}')"
      ],
      "metadata": {
        "id": "uW116K59cxvM",
        "colab": {
          "base_uri": "https://localhost:8080/"
        },
        "outputId": "bb5b55c4-bce5-4c9c-9b6f-f7395aebb09b"
      },
      "execution_count": null,
      "outputs": [
        {
          "output_type": "stream",
          "name": "stdout",
          "text": [
            "the average of Ayush's grades : 63.75\n"
          ]
        }
      ]
    },
    {
      "cell_type": "code",
      "source": [
        "'''13. Create a class Rectangle with methods set_dimensions() to set the dimensions and area() to calculate the\n",
        "area.'''\n",
        "class rectangle:\n",
        "  def set_dimensions(self,length,breadth):\n",
        "    self.length = length\n",
        "    self.breadth = breadth\n",
        "\n",
        "  def area(self):\n",
        "    return self.length * self.breadth\n",
        "\n",
        "r1 = rectangle()\n",
        "r1.set_dimensions(5,4)\n",
        "print(f'the area of the rectangle is {r1.area()} sq unit')\n"
      ],
      "metadata": {
        "id": "x-h3q2sfcxyT",
        "colab": {
          "base_uri": "https://localhost:8080/"
        },
        "outputId": "cd1dbfe1-1ba2-4ca7-b308-ba37a8198919"
      },
      "execution_count": null,
      "outputs": [
        {
          "output_type": "stream",
          "name": "stdout",
          "text": [
            "the area of the rectangle is 20 sq unit\n"
          ]
        }
      ]
    },
    {
      "cell_type": "code",
      "source": [
        "'''14. Create a class Employee with a method calculate_salary() that computes the salary based on hours worked\n",
        "and hourly rate. Create a derived class Manager that adds a bonus to the salary.'''\n",
        "\n",
        "class Employee():\n",
        "\n",
        "  def __init__(self,emp_name, hours_worked, hourly_rate):\n",
        "    self.emp_name = emp_name\n",
        "    self.hours_worked = hours_worked\n",
        "    self.hourly_rate = hourly_rate\n",
        "\n",
        "  def calculate_salary(self):\n",
        "    return self.hours_worked * self.hourly_rate\n",
        "\n",
        "class Manager(Employee):\n",
        "  def __init__(self,emp_name, hours_worked, hourly_rate, bonus):\n",
        "    super().__init__(emp_name, hours_worked, hourly_rate)\n",
        "    self.bonus = bonus\n",
        "\n",
        "  def calculate_salary(self):\n",
        "     base_salary = super().calculate_salary()\n",
        "     return base_salary + self.bonus\n",
        "\n",
        "employee1 = Employee('monu', 5 , 4)\n",
        "manager1 = Manager('priyanshu',5,4,20)\n",
        "\n",
        "print(f'salary of {employee1.emp_name} is ₹{employee1.calculate_salary()}')\n",
        "print(f'salary of {manager1.emp_name} is ₹{manager1.calculate_salary()}')\n"
      ],
      "metadata": {
        "id": "rvAQv4yVcx1v",
        "colab": {
          "base_uri": "https://localhost:8080/"
        },
        "outputId": "fd368fc1-ecb3-4aff-bb93-075376653b65"
      },
      "execution_count": null,
      "outputs": [
        {
          "output_type": "stream",
          "name": "stdout",
          "text": [
            "salary of monu is ₹20\n",
            "salary of priyanshu is ₹40\n"
          ]
        }
      ]
    },
    {
      "cell_type": "code",
      "source": [
        "'''15. Create a class Product with attributes name, price, and quantity. Implement a method total_price() that\n",
        "calculates the total price of the product.'''\n",
        "\n",
        "class Product:\n",
        "  def __init__(self, name, price, quantity):\n",
        "    self.name = name\n",
        "    self.price = price\n",
        "    self.quantity = quantity\n",
        "\n",
        "  def total_price(self):\n",
        "    return self.price * self.quantity\n",
        "\n",
        "\n",
        "product1 = Product('soap',30,5)\n",
        "print(f'Total price : ₹{product1.total_price()}')"
      ],
      "metadata": {
        "id": "McsSMZbncx5p",
        "colab": {
          "base_uri": "https://localhost:8080/"
        },
        "outputId": "d0d5066a-27f7-4da7-be92-26822080ba9e"
      },
      "execution_count": null,
      "outputs": [
        {
          "output_type": "stream",
          "name": "stdout",
          "text": [
            "Total price : ₹150\n"
          ]
        }
      ]
    },
    {
      "cell_type": "code",
      "source": [
        "'''16. Create a class Animal with an abstract method sound(). Create two derived classes Cow and Sheep that\n",
        "implement the sound() method.'''\n",
        "\n",
        "from abc import ABC,abstractmethod\n",
        "\n",
        "class Animal(ABC): #to define an abstract method, the class must be abstract\n",
        "\n",
        "  @abstractmethod\n",
        "  def sound(self):\n",
        "    pass\n",
        "\n",
        "\n",
        "class Cow(Animal):\n",
        "  def sound(self):\n",
        "    print(\"cow speaks : Moo\")\n",
        "\n",
        "class Sheep(Animal):\n",
        "  def sound(self):\n",
        "    print('sheep speaks: Baa')\n",
        "\n",
        "cow = Cow()\n",
        "sheep = Sheep()\n",
        "\n",
        "cow.sound()\n",
        "sheep.sound()"
      ],
      "metadata": {
        "id": "o1hTi53mcx84",
        "colab": {
          "base_uri": "https://localhost:8080/"
        },
        "outputId": "fec743d0-7b07-4ad5-e23d-1c66ed600bcf"
      },
      "execution_count": null,
      "outputs": [
        {
          "output_type": "stream",
          "name": "stdout",
          "text": [
            "cow speaks : Moo\n",
            "sheep speaks: Baa\n"
          ]
        }
      ]
    },
    {
      "cell_type": "code",
      "source": [
        "'''17. Create a class Book with attributes title, author, and year_published. Add a method get_book_info() that\n",
        "returns a formatted string with the book's details.'''\n",
        "\n",
        "class Book():\n",
        "\n",
        "  def __init__(self, title, author, year_published):\n",
        "    self.title = title\n",
        "    self.author = author\n",
        "    self.year_published = year_published\n",
        "\n",
        "  def get_book_info(self):\n",
        "    return (f'book\\'s title : {self.title} \\nAuthor : {self.author} and year of publication : {self.year_published}')\n",
        "\n",
        "book1 = Book(\"Ramayan\",\"Valmiki\",\"2400 BC\")\n",
        "print(book1.get_book_info())"
      ],
      "metadata": {
        "id": "EvyjZWyDcyAX",
        "colab": {
          "base_uri": "https://localhost:8080/"
        },
        "outputId": "6ffd4e75-cef3-4555-e5c9-fdc1f3db9255"
      },
      "execution_count": null,
      "outputs": [
        {
          "output_type": "stream",
          "name": "stdout",
          "text": [
            "book's title : Ramayan \n",
            "Author : Valmiki and year of publication : 2400 BC\n"
          ]
        }
      ]
    },
    {
      "cell_type": "code",
      "source": [
        "'''18. Create a class House with attributes address and price. Create a derived class Mansion that adds an\n",
        "attribute number_of_rooms.'''\n",
        "\n",
        "class House:\n",
        "\n",
        "  def __init__(self, address, price):\n",
        "    self.address = address\n",
        "    self.price = price\n",
        "\n",
        "  def __str__(self):\n",
        "    return f'Address : {self.address} and price : ₹{self.price}'\n",
        "\n",
        "class Mansion(House):\n",
        "\n",
        "  def __init__(self, address, price, number_of_rooms):\n",
        "    super().__init__(address,price)\n",
        "    self.number_of_rooms = number_of_rooms\n",
        "\n",
        "  def __str__(self):\n",
        "    return f'Address : {self.address} \\nPrice : ₹{self.price}\\nNumber of rooms : {self.number_of_rooms}'\n",
        "\n",
        "mansion = Mansion(\"123 Rani Garden, New Delhi\",'1.2 Crore', 4)\n",
        "print(mansion)"
      ],
      "metadata": {
        "id": "WsheipYXdedt",
        "colab": {
          "base_uri": "https://localhost:8080/"
        },
        "outputId": "14f6a647-843e-40e1-f795-0ae59bdaccd4"
      },
      "execution_count": null,
      "outputs": [
        {
          "output_type": "stream",
          "name": "stdout",
          "text": [
            "Address : 123 Rani Garden, New Delhi \n",
            "Price : ₹1.2 Crore\n",
            "Number of rooms : 4\n"
          ]
        }
      ]
    }
  ]
}